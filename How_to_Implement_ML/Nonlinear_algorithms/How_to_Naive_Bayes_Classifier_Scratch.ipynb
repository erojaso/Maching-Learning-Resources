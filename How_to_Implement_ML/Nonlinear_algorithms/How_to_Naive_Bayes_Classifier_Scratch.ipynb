{
 "cells": [
  {
   "cell_type": "markdown",
   "metadata": {},
   "source": [
    "# Naive Bayes Classifier From Scratch in Python\n",
    "\n",
    "\n",
    "by Jason Brownlee on October 25, 2019.[Here](https://machinelearningmastery.com/naive-bayes-classifier-scratch-python/) in Code [Algorithms From Scratch](https://machinelearningmastery.com/category/algorithms-from-scratch/)"
   ]
  }
 ],
 "metadata": {
  "kernelspec": {
   "display_name": "Python 3",
   "language": "python",
   "name": "python3"
  },
  "language_info": {
   "codemirror_mode": {
    "name": "ipython",
    "version": 3
   },
   "file_extension": ".py",
   "mimetype": "text/x-python",
   "name": "python",
   "nbconvert_exporter": "python",
   "pygments_lexer": "ipython3",
   "version": "3.7.8"
  }
 },
 "nbformat": 4,
 "nbformat_minor": 4
}
