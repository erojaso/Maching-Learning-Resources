{
 "cells": [
  {
   "cell_type": "markdown",
   "metadata": {},
   "source": [
    "# How to Develop a Naive Bayes Classifier from Scratch in Python\n",
    "\n",
    "by Jason Brownlee on January 10, 2020.[Here](https://machinelearningmastery.com/classification-as-conditional-probability-and-the-naive-bayes-algorithm/) in [Probability](https://machinelearningmastery.com/category/probability/)"
   ]
  }
 ],
 "metadata": {
  "kernelspec": {
   "display_name": "Python 3",
   "language": "python",
   "name": "python3"
  },
  "language_info": {
   "codemirror_mode": {
    "name": "ipython",
    "version": 3
   },
   "file_extension": ".py",
   "mimetype": "text/x-python",
   "name": "python",
   "nbconvert_exporter": "python",
   "pygments_lexer": "ipython3",
   "version": "3.7.8"
  }
 },
 "nbformat": 4,
 "nbformat_minor": 4
}
