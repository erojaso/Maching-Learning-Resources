{
 "cells": [
  {
   "cell_type": "markdown",
   "metadata": {},
   "source": [
    "# How to Fix k-Fold Cross-Validation for Imbalanced Classification\n",
    "\n",
    "by Jason Brownlee on January 13, 2020.[Here](https://machinelearningmastery.com/cross-validation-for-imbalanced-classification/) in [Imbalanced Classification](https://machinelearningmastery.com/category/imbalanced-classification/)"
   ]
  }
 ],
 "metadata": {
  "kernelspec": {
   "display_name": "Python 3",
   "language": "python",
   "name": "python3"
  },
  "language_info": {
   "codemirror_mode": {
    "name": "ipython",
    "version": 3
   },
   "file_extension": ".py",
   "mimetype": "text/x-python",
   "name": "python",
   "nbconvert_exporter": "python",
   "pygments_lexer": "ipython3",
   "version": "3.7.7"
  }
 },
 "nbformat": 4,
 "nbformat_minor": 4
}
