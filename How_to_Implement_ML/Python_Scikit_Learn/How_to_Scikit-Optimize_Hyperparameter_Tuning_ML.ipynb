{
 "cells": [
  {
   "cell_type": "markdown",
   "metadata": {},
   "source": [
    "# Scikit-Optimize for Hyperparameter Tuning in Machine Learning\n",
    "\n",
    "by Jason Brownlee on September 4, 2020.[Here](https://machinelearningmastery.com/scikit-optimize-for-hyperparameter-tuning-in-machine-learning/) in [Python Machine Learning](https://machinelearningmastery.com/category/python-machine-learning/)\n",
    "\n",
    "Hyperparameter optimization refers to performing a search in order to discover the set of specific model configuration arguments that result in the best performance of the model on a specific dataset\n",
    "\n",
    "## Tutorial Overview\n",
    "This tutorial is divided into four parts; they are:\n",
    "\n",
    "1. Scikit-Optimize\n",
    "2. Machine Learning Dataset and Model\n",
    "3. Manually Tune Algorithm Hyperparameters\n",
    "4. Automatically Tune Algorithm Hyperparameters"
   ]
  },
  {
   "cell_type": "markdown",
   "metadata": {},
   "source": [
    "## 1. Scikit-Optimize"
   ]
  },
  {
   "cell_type": "code",
   "execution_count": 1,
   "metadata": {},
   "outputs": [],
   "source": [
    "#user Anaconda PowerShell/console with Administrative User Rights\n",
    "#conda install -c conda-forge scikit-optimize"
   ]
  },
  {
   "cell_type": "code",
   "execution_count": 1,
   "metadata": {},
   "outputs": [
    {
     "name": "stdout",
     "output_type": "stream",
     "text": [
      "skopt 0.8.1\n"
     ]
    }
   ],
   "source": [
    "# report scikit-optimize version number\n",
    "import skopt\n",
    "print('skopt %s' % skopt.__version__)"
   ]
  },
  {
   "cell_type": "markdown",
   "metadata": {},
   "source": [
    "## 2. Machine Learning Dataset and Model\n",
    "We will use the ionosphere machine learning dataset. This is a standard machine learning dataset comprising 351 rows of data with three numerical input variables and a target variable with two class values, e.g. binary classification.\n",
    "\n",
    "Using a test harness of repeated stratified 10-fold cross-validation with three repeats, a naive model can achieve an accuracy of about 64 percent.\n",
    "\n",
    "You can learn more about the dataset here:\n",
    "\n",
    "Ionosphere Dataset ([ionosphere.csv](https://raw.githubusercontent.com/jbrownlee/Datasets/master/ionosphere.csv))\n",
    "Ionosphere Dataset Description ([ionosphere.names](https://raw.githubusercontent.com/jbrownlee/Datasets/master/ionosphere.names))"
   ]
  },
  {
   "cell_type": "code",
   "execution_count": 3,
   "metadata": {},
   "outputs": [
    {
     "data": {
      "text/plain": [
       "(351, 35)"
      ]
     },
     "execution_count": 3,
     "metadata": {},
     "output_type": "execute_result"
    }
   ],
   "source": [
    "# evaluate an svm for the ionosphere dataset\n",
    "from numpy import mean\n",
    "from numpy import std\n",
    "from pandas import read_csv\n",
    "from sklearn.model_selection import cross_val_score\n",
    "from sklearn.model_selection import RepeatedStratifiedKFold\n",
    "from sklearn.svm import SVC\n",
    "\n",
    "# load dataset\n",
    "#url = 'https://raw.githubusercontent.com/jbrownlee/Datasets/master/ionosphere.csv'\n",
    "url = '..//..//data//ionosphere.data.csv'\n",
    "dataframe = read_csv(url, header=None)\n",
    "dataframe.shape"
   ]
  },
  {
   "cell_type": "code",
   "execution_count": 4,
   "metadata": {},
   "outputs": [
    {
     "name": "stdout",
     "output_type": "stream",
     "text": [
      "(351, 34) (351,)\n"
     ]
    }
   ],
   "source": [
    "# split into input and output elements\n",
    "data = dataframe.values\n",
    "X, y = data[:, :-1], data[:, -1]\n",
    "print(X.shape, y.shape)"
   ]
  },
  {
   "cell_type": "code",
   "execution_count": 5,
   "metadata": {},
   "outputs": [
    {
     "name": "stdout",
     "output_type": "stream",
     "text": [
      "Accuracy: 0.937 (0.038)\n"
     ]
    }
   ],
   "source": [
    "# define model model\n",
    "model = SVC()\n",
    "\n",
    "# define test harness\n",
    "cv = RepeatedStratifiedKFold(n_splits=10, n_repeats=3, random_state=1)\n",
    "\n",
    "# evaluate model\n",
    "m_scores = cross_val_score(model, X, y, scoring='accuracy', cv=cv, n_jobs=-1, error_score='raise')\n",
    "print('Accuracy: %.3f (%.3f)' % (mean(m_scores), std(m_scores)))"
   ]
  },
  {
   "cell_type": "markdown",
   "metadata": {},
   "source": [
    "## 3. Manually Tune Algorithm Hyperparameters\n",
    "The Scikit-Optimize library can be used to tune the hyperparameters of a machine learning model.\n",
    "\n",
    "We can achieve this manually by using the Bayesian Optimization capabilities of the library.\n",
    "\n",
    "This requires that we first define a search space. In this case, this will be the hyperparameters of the model that we wish to tune, and the scope or range of each hyperparameter.\n",
    "\n",
    "We will tune the following [hyperparameters of the SVM](https://scikit-learn.org/stable/modules/generated/sklearn.svm.SVC.html) model:\n",
    "\n",
    "- __C__, the regularization parameter.\n",
    "- __kernel__, the type of kernel used in the model.\n",
    "- __degree__, used for the polynomial kernel.\n",
    "- __gamma__, used in most other kernels.\n",
    "\n",
    "For the numeric hyperparameters __C__ and __gamma__, we will define a log scale to search between a small value of 1e-6 and 100. __Degree__ is an integer and we will search values between 1 and 5. Finally, the __kernel__ is a categorical variable with specific named values."
   ]
  },
  {
   "cell_type": "code",
   "execution_count": 6,
   "metadata": {},
   "outputs": [],
   "source": [
    "# manually tune svm model hyperparameters using skopt on the ionosphere dataset\n",
    "from numpy import mean\n",
    "from pandas import read_csv\n",
    "from sklearn.model_selection import cross_val_score\n",
    "from sklearn.model_selection import RepeatedStratifiedKFold\n",
    "from sklearn.svm import SVC\n",
    "\n",
    "from skopt.space import Integer\n",
    "from skopt.space import Real\n",
    "from skopt.space import Categorical\n",
    "from skopt.utils import use_named_args\n",
    "from skopt import gp_minimize"
   ]
  },
  {
   "cell_type": "code",
   "execution_count": 7,
   "metadata": {},
   "outputs": [],
   "source": [
    "# define the space of hyperparameters to search\n",
    "search_space = list()\n",
    "search_space.append(Real(1e-6, 100.0, 'log-uniform', name='C'))\n",
    "search_space.append(Categorical(['linear', 'poly', 'rbf', 'sigmoid'], name='kernel'))\n",
    "search_space.append(Integer(1, 5, name='degree'))\n",
    "search_space.append(Real(1e-6, 100.0, 'log-uniform', name='gamma'))"
   ]
  },
  {
   "cell_type": "markdown",
   "metadata": {},
   "source": [
    "Note the data type, the range, and the name of the hyperparameter specified for each.\n",
    "\n",
    "We can then define a function that will be called by the search procedure. This is a function expected by the optimization procedure later and takes a model and set of specific hyperparameters for the model, evaluates it, and returns a score for the set of hyperparameters.\n",
    "\n",
    "In our case, we want to evaluate the model using repeated stratified 10-fold cross-validation on our ionosphere dataset. We want to maximize classification accuracy, e.g. find the set of model hyperparameters that give the best accuracy. By default, the process minimizes the score returned from this function, therefore, we will return one minus the accuracy, e.g. perfect skill will be (1 – accuracy) or 0.0, and the worst skill will be 1.0.\n",
    "\n",
    "The evaluate_model() function below implements this and takes a specific set of hyperparameters."
   ]
  },
  {
   "cell_type": "code",
   "execution_count": 8,
   "metadata": {},
   "outputs": [],
   "source": [
    "# define the function used to evaluate a given configuration\n",
    "@use_named_args(search_space)\n",
    "def evaluate_model(**params):\n",
    "    # configure the model with specific hyperparameters\n",
    "    model = SVC()\n",
    "    model.set_params(**params)\n",
    "\n",
    "    # define test harness\n",
    "    cv = RepeatedStratifiedKFold(n_splits=10, n_repeats=3, random_state=1)\n",
    "    \n",
    "    # calculate 5-fold cross validation\n",
    "    result = cross_val_score(model, X, y, cv=cv, n_jobs=-1, scoring='accuracy')\n",
    "    \n",
    "    # calculate the mean of the scores\n",
    "    estimate = mean(result)\n",
    "    \n",
    "    # convert from a maximizing score to a minimizing score\n",
    "    return 1.0 - estimate"
   ]
  },
  {
   "cell_type": "code",
   "execution_count": 9,
   "metadata": {},
   "outputs": [
    {
     "name": "stdout",
     "output_type": "stream",
     "text": [
      "(351, 34) (351,)\n"
     ]
    }
   ],
   "source": [
    "# load dataset\n",
    "# url = 'https://raw.githubusercontent.com/jbrownlee/Datasets/master/ionosphere.csv'\n",
    "url = '..//..//data//ionosphere.data.csv'\n",
    "dataframe = read_csv(url, header=None)\n",
    "\n",
    "# split into input and output elements\n",
    "data = dataframe.values\n",
    "X, y = data[:, :-1], data[:, -1]\n",
    "print(X.shape, y.shape)"
   ]
  },
  {
   "cell_type": "markdown",
   "metadata": {},
   "source": [
    "Next, we can execute the search by calling the gp_minimize() function and passing the name of the function to call to evaluate each model and the search space to optimize."
   ]
  },
  {
   "cell_type": "code",
   "execution_count": 10,
   "metadata": {},
   "outputs": [
    {
     "name": "stdout",
     "output_type": "stream",
     "text": [
      "Best Accuracy: 0.955\n"
     ]
    }
   ],
   "source": [
    "# perform optimization\n",
    "result = gp_minimize(evaluate_model, search_space)\n",
    "\n",
    "# summarizing finding:\n",
    "print('Best Accuracy: %.3f' % (1.0 - result.fun))"
   ]
  },
  {
   "cell_type": "markdown",
   "metadata": {},
   "source": [
    "The procedure will run until it converges and returns a result.\n",
    "\n",
    "The result object contains lots of details, but importantly, we can access the score of the best performing configuration and the hyperparameters used by the best forming model. "
   ]
  },
  {
   "cell_type": "code",
   "execution_count": 11,
   "metadata": {},
   "outputs": [
    {
     "name": "stdout",
     "output_type": "stream",
     "text": [
      "Best Parameters: (C, kernel, degree, gamma) [11.11372255701608, 'rbf', 5, 0.04617822469728225]\n"
     ]
    }
   ],
   "source": [
    "print('Best Parameters: (C, kernel, degree, gamma) %s' % (result.x))"
   ]
  },
  {
   "cell_type": "markdown",
   "metadata": {},
   "source": [
    "## 4. Automatically Tune Algorithm Hyperparameters\n",
    "\n",
    "The Scikit-Learn machine learning library provides tools for tuning model hyperparameters.\n",
    "\n",
    "Specifically, it provides the [GridSearchCV](https://scikit-learn.org/stable/modules/generated/sklearn.model_selection.GridSearchCV.html) and [RandomizedSearchCV](https://scikit-learn.org/stable/modules/generated/sklearn.model_selection.RandomizedSearchCV.html) classes that take a model, a search space, and a cross-validation configuration.\n",
    "\n",
    "The benefit of these classes is that the search procedure is performed automatically, requiring minimal configuration.\n",
    "\n",
    "Similarly, the Scikit-Optimize library provides a similar interface for performing a Bayesian Optimization of model hyperparameters via the [BayesSearchCV](https://scikit-optimize.github.io/modules/generated/skopt.BayesSearchCV.html) class."
   ]
  },
  {
   "cell_type": "code",
   "execution_count": 12,
   "metadata": {},
   "outputs": [
    {
     "name": "stdout",
     "output_type": "stream",
     "text": [
      "(351, 34) (351,)\n"
     ]
    }
   ],
   "source": [
    "# automatic svm hyperparameter tuning using skopt for the ionosphere dataset\n",
    "from pandas import read_csv\n",
    "from sklearn.model_selection import cross_val_score\n",
    "from sklearn.svm import SVC\n",
    "from sklearn.model_selection import RepeatedStratifiedKFold\n",
    "from skopt import BayesSearchCV\n",
    "\n",
    "# load dataset\n",
    "# url = 'https://raw.githubusercontent.com/jbrownlee/Datasets/master/ionosphere.csv'\n",
    "url = '..//..//data//ionosphere.data.csv'\n",
    "dataframe = read_csv(url, header=None)\n",
    "\n",
    "# split into input and output elements\n",
    "data = dataframe.values\n",
    "X, y = data[:, :-1], data[:, -1]\n",
    "print(X.shape, y.shape)"
   ]
  },
  {
   "cell_type": "code",
   "execution_count": 13,
   "metadata": {},
   "outputs": [],
   "source": [
    "# define search space\n",
    "params = dict()\n",
    "params['C'] = (1e-6, 100.0, 'log-uniform')\n",
    "params['gamma'] = (1e-6, 100.0, 'log-uniform')\n",
    "params['degree'] = (1,5)\n",
    "params['kernel'] = ['linear', 'poly', 'rbf', 'sigmoid']"
   ]
  },
  {
   "cell_type": "code",
   "execution_count": 14,
   "metadata": {},
   "outputs": [
    {
     "name": "stdout",
     "output_type": "stream",
     "text": [
      "0.9268755935422602\n",
      "OrderedDict([('C', 4.807755430153062), ('degree', 2), ('gamma', 0.13150090886468982), ('kernel', 'poly')])\n"
     ]
    }
   ],
   "source": [
    "# define evaluation\n",
    "cv = RepeatedStratifiedKFold(n_splits=10, n_repeats=3, random_state=1)\n",
    "\n",
    "# define the search\n",
    "search = BayesSearchCV(estimator=SVC(), search_spaces=params, n_jobs=-1, cv=cv)\n",
    "\n",
    "# perform the search\n",
    "search.fit(X, y)\n",
    "\n",
    "# report the best result\n",
    "print(search.best_score_)\n",
    "print(search.best_params_)"
   ]
  }
 ],
 "metadata": {
  "kernelspec": {
   "display_name": "Python 3",
   "language": "python",
   "name": "python3"
  },
  "language_info": {
   "codemirror_mode": {
    "name": "ipython",
    "version": 3
   },
   "file_extension": ".py",
   "mimetype": "text/x-python",
   "name": "python",
   "nbconvert_exporter": "python",
   "pygments_lexer": "ipython3",
   "version": "3.8.5"
  }
 },
 "nbformat": 4,
 "nbformat_minor": 4
}
