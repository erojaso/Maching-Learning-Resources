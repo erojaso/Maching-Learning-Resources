{
 "cells": [
  {
   "cell_type": "markdown",
   "metadata": {},
   "source": [
    "# LOOCV for Evaluating Machine Learning Algorithms\n",
    "\n",
    "by Jason Brownlee on July 27, 2020.[Here](https://machinelearningmastery.com/loocv-for-evaluating-machine-learning-algorithms/) in [Python Machine Learning](https://machinelearningmastery.com/category/python-machine-learning/)\n",
    "\n",
    "The Leave-One-Out Cross-Validation, or LOOCV, procedure is used to estimate the performance of machine learning algorithms when they are __used to make predictions on data not used to train the model__.\n",
    "\n",
    "After completing this tutorial, you will know:\n",
    "\n",
    "- The leave-one-out cross-validation procedure is appropriate when you have a small dataset or when an accurate estimate of model performance is more important than the computational cost of the method.\n",
    "- How to use the scikit-learn machine learning library to perform the leave-one-out cross-validation procedure.\n",
    "- How to evaluate machine learning algorithms for classification and regression using leave-one-out cross-validation.\n",
    "\n",
    "## Tutorial Overview\n",
    "This tutorial is divided into three parts; they are:\n",
    "\n",
    "1. LOOCV Model Evaluation\n",
    "2. LOOCV Procedure in Scikit-Learn\n",
    "    - 2.1 Compare cross_val_score\n",
    "3. LOOCV to Evaluate Machine Learning Models\n",
    "    - 3.1 LOOCV for Classification\n",
    "    - 3.2 LOOCV for Regression"
   ]
  },
  {
   "cell_type": "markdown",
   "metadata": {},
   "source": [
    "## 1. LOOCV Model Evaluation\n",
    "Cross-validation, or k-fold cross-validation, is a procedure used to estimate the performance of a machine learning algorithm when making predictions on data not used during the training of the model.\n",
    "\n",
    "The cross-validation has a single hyperparameter “k” that controls the number of subsets that a dataset is split into. Once split, __each subset is given the opportunity to be used as a test set while all other subsets together are used as a training dataset__.\n",
    "\n",
    "__Leave-one-out cross-validation|__, or LOOCV, is a configuration of k-fold cross-validation where k is set to the number of examples in the dataset.\n",
    "\n",
    "LOOCV is an extreme version of k-fold cross-validation that has the maximum computational cost. It requires one model to be created and evaluated for each example in the training dataset.\n",
    "\n",
    "__The benefit of so many fit and evaluated models is a more robust estimate of model performance as each row of data is given an opportunity to represent the entirety of the test dataset__.\n",
    "\n",
    "Given the computational cost, LOOCV is __not appropriate for very large datasets such as more than tens or hundreds of thousands of examples__, or for models that are costly to fit, such as neural networks.\n",
    "\n",
    "- __Don’t Use LOOCV__: Large datasets or costly models to fit.\n",
    "\n",
    "Further, __given that no sampling of the training dataset is used, this estimation procedure is deterministic__, unlike train-test splits and other k-fold cross-validation confirmations that provide a stochastic estimate of model performance.\n",
    "\n",
    "- __Use LOOCV__: Small datasets or when estimated model performance is critical."
   ]
  },
  {
   "cell_type": "markdown",
   "metadata": {},
   "source": [
    "## 2. LOOCV Procedure in Scikit-Learn\n",
    "\n",
    "[LeaveOneOut class.](https://scikit-learn.org/stable/modules/generated/sklearn.model_selection.LeaveOneOut.html)"
   ]
  },
  {
   "cell_type": "code",
   "execution_count": 1,
   "metadata": {},
   "outputs": [],
   "source": [
    "# loocv to manually evaluate the performance of a random forest classifier\n",
    "from sklearn.datasets import make_blobs\n",
    "from sklearn.model_selection import LeaveOneOut\n",
    "from sklearn.ensemble import RandomForestClassifier\n",
    "from sklearn.metrics import accuracy_score\n",
    "\n",
    "# create dataset\n",
    "X, y = make_blobs(n_samples=100, random_state=1)"
   ]
  },
  {
   "cell_type": "markdown",
   "metadata": {},
   "source": [
    "The method has no configuration, therefore, no arguments are provided to create an instance of the class."
   ]
  },
  {
   "cell_type": "code",
   "execution_count": 2,
   "metadata": {},
   "outputs": [],
   "source": [
    "# create loocv procedure\n",
    "cv = LeaveOneOut()"
   ]
  },
  {
   "cell_type": "markdown",
   "metadata": {},
   "source": [
    "Once created, the split() function can be called and provided the dataset to enumerate.\n",
    "\n",
    "Each iteration will return the row indices that can be used for the train and test sets from the provided dataset.\n",
    "\n",
    "These indices can be used on the input (X) and output (y) columns of the dataset array to split the dataset."
   ]
  },
  {
   "cell_type": "code",
   "execution_count": 3,
   "metadata": {},
   "outputs": [
    {
     "name": "stdout",
     "output_type": "stream",
     "text": [
      "Accuracy: 0.990\n"
     ]
    }
   ],
   "source": [
    "# enumerate splits\n",
    "y_true, y_pred = list(), list()\n",
    "for train_ix, test_ix in cv.split(X):\n",
    "    # split data\n",
    "    X_train, X_test = X[train_ix, :], X[test_ix, :]\n",
    "    y_train, y_test = y[train_ix], y[test_ix]\n",
    "\n",
    "    # fit model\n",
    "    model = RandomForestClassifier(random_state=1)\n",
    "    model.fit(X_train, y_train)\n",
    "    \n",
    "    # evaluate model\n",
    "    yhat = model.predict(X_test)\n",
    "    \n",
    "    # store\n",
    "    y_true.append(y_test[0])\n",
    "    y_pred.append(yhat[0])\n",
    "\n",
    "# calculate accuracy\n",
    "acc = accuracy_score(y_true, y_pred)\n",
    "print('Accuracy: %.3f' % acc)"
   ]
  },
  {
   "cell_type": "markdown",
   "metadata": {},
   "source": [
    "Given that the dataset has 100 examples, it means that 100 train/test splits of the dataset were created, with each single row of the dataset given an opportunity to be used as the test set. Similarly, 100 models are created and evaluated.\n",
    "\n",
    "The classification accuracy across all predictions is then reported, in this case as 99 percent."
   ]
  },
  {
   "cell_type": "markdown",
   "metadata": {},
   "source": [
    "### 2.1 Compare cross_val_score\n",
    "\n",
    "The example below demonstrates evaluating the RandomForestClassifier using LOOCV on the same synthetic dataset using the cross_val_score() function."
   ]
  },
  {
   "cell_type": "code",
   "execution_count": 4,
   "metadata": {},
   "outputs": [
    {
     "name": "stdout",
     "output_type": "stream",
     "text": [
      "Accuracy: 0.990 (0.099)\n"
     ]
    }
   ],
   "source": [
    "# loocv to automatically evaluate the performance of a random forest classifier\n",
    "from numpy import mean\n",
    "from numpy import std\n",
    "from sklearn.datasets import make_blobs\n",
    "from sklearn.model_selection import LeaveOneOut\n",
    "from sklearn.model_selection import cross_val_score\n",
    "from sklearn.ensemble import RandomForestClassifier\n",
    "\n",
    "# create dataset\n",
    "X, y = make_blobs(n_samples=100, random_state=1)\n",
    "\n",
    "# create loocv procedure\n",
    "cv = LeaveOneOut()\n",
    "\n",
    "# create model\n",
    "model = RandomForestClassifier(random_state=1)\n",
    "\n",
    "# evaluate model\n",
    "scores = cross_val_score(model, X, y, scoring='accuracy', cv=cv, n_jobs=-1)\n",
    "\n",
    "# report performance\n",
    "print('Accuracy: %.3f (%.3f)' % (mean(scores), std(scores)))"
   ]
  },
  {
   "cell_type": "markdown",
   "metadata": {},
   "source": [
    "## 3. LOOCV to Evaluate Machine Learning Models"
   ]
  },
  {
   "cell_type": "markdown",
   "metadata": {},
   "source": [
    "### 3.1 LOOCV for Classification\n",
    "We will demonstrate how to use LOOCV to evaluate a random forest algorithm on the sonar dataset.\n",
    "\n",
    "The dataset involves predicting whether sonar returns indicate a rock or simulated mine.\n",
    "\n",
    "- Sonar Dataset ([sonar.csv](https://raw.githubusercontent.com/jbrownlee/Datasets/master/sonar.csv))\n",
    "- Sonar Dataset Description ([sonar.names](https://raw.githubusercontent.com/jbrownlee/Datasets/master/sonar.names))"
   ]
  },
  {
   "cell_type": "code",
   "execution_count": 5,
   "metadata": {},
   "outputs": [],
   "source": [
    "# loocv evaluate random forest on the sonar dataset\n",
    "from numpy import mean\n",
    "from numpy import std\n",
    "from pandas import read_csv\n",
    "from sklearn.model_selection import LeaveOneOut\n",
    "from sklearn.model_selection import cross_val_score\n",
    "from sklearn.ensemble import RandomForestClassifier"
   ]
  },
  {
   "cell_type": "code",
   "execution_count": 6,
   "metadata": {},
   "outputs": [
    {
     "name": "stdout",
     "output_type": "stream",
     "text": [
      "(208, 60) (208,)\n"
     ]
    }
   ],
   "source": [
    "# load dataset\n",
    "#url = 'https://raw.githubusercontent.com/jbrownlee/Datasets/master/sonar.csv'\n",
    "url = '..//..//data//sonar.data.csv'\n",
    "dataframe = read_csv(url, header=None)\n",
    "data = dataframe.values\n",
    "\n",
    "# split into inputs and outputs\n",
    "X, y = data[:, :-1], data[:, -1]\n",
    "print(X.shape, y.shape)"
   ]
  },
  {
   "cell_type": "code",
   "execution_count": 7,
   "metadata": {},
   "outputs": [
    {
     "name": "stdout",
     "output_type": "stream",
     "text": [
      "Accuracy: 0.822 (0.382)\n"
     ]
    }
   ],
   "source": [
    "# create loocv procedure\n",
    "cv = LeaveOneOut()\n",
    "\n",
    "# create model\n",
    "model = RandomForestClassifier(random_state=1)\n",
    "\n",
    "# evaluate model\n",
    "scores = cross_val_score(model, X, y, scoring='accuracy', cv=cv, n_jobs=-1)\n",
    "\n",
    "# report performance\n",
    "print('Accuracy: %.3f (%.3f)' % (mean(scores), std(scores)))"
   ]
  },
  {
   "cell_type": "markdown",
   "metadata": {},
   "source": [
    "The model is then evaluated using LOOCV and the estimated performance when making predictions on new data has an accuracy of about 82.2 percent."
   ]
  },
  {
   "cell_type": "markdown",
   "metadata": {},
   "source": [
    "### 3.2 LOOCV for Regression\n",
    "We will demonstrate how to use LOOCV to evaluate a random forest algorithm on the housing dataset.\n",
    "\n",
    "The dataset involves predicting the house price given details of the house’s suburb in the American city of Boston.\n",
    "\n",
    "- Housing Dataset ([housing.csv](https://raw.githubusercontent.com/jbrownlee/Datasets/master/housing.csv))\n",
    "- Housing Description ([housing.names](https://raw.githubusercontent.com/jbrownlee/Datasets/master/housing.names))"
   ]
  },
  {
   "cell_type": "code",
   "execution_count": 8,
   "metadata": {},
   "outputs": [],
   "source": [
    "# loocv evaluate random forest on the housing dataset\n",
    "from numpy import mean\n",
    "from numpy import std\n",
    "from numpy import absolute\n",
    "from pandas import read_csv\n",
    "from sklearn.model_selection import LeaveOneOut\n",
    "from sklearn.model_selection import cross_val_score\n",
    "from sklearn.ensemble import RandomForestRegressor"
   ]
  },
  {
   "cell_type": "code",
   "execution_count": 9,
   "metadata": {},
   "outputs": [
    {
     "name": "stdout",
     "output_type": "stream",
     "text": [
      "(506, 13) (506,)\n"
     ]
    }
   ],
   "source": [
    "# load dataset\n",
    "#url = 'https://raw.githubusercontent.com/jbrownlee/Datasets/master/housing.csv'\n",
    "url = '..//..//data//housing.data.csv'\n",
    "dataframe = read_csv(url, header=None)\n",
    "data = dataframe.values\n",
    "\n",
    "# split into inputs and outputs\n",
    "X, y = data[:, :-1], data[:, -1]\n",
    "print(X.shape, y.shape)"
   ]
  },
  {
   "cell_type": "code",
   "execution_count": 10,
   "metadata": {},
   "outputs": [
    {
     "name": "stdout",
     "output_type": "stream",
     "text": [
      "MAE: 2.182 (2.338)\n"
     ]
    }
   ],
   "source": [
    "# create loocv procedure\n",
    "cv = LeaveOneOut()\n",
    "\n",
    "# create model\n",
    "model = RandomForestRegressor(random_state=1)\n",
    "\n",
    "# evaluate model\n",
    "scores = cross_val_score(model, X, y, scoring='neg_mean_absolute_error', cv=cv, n_jobs=-1)\n",
    "\n",
    "# force positive\n",
    "scores = absolute(scores)\n",
    "\n",
    "# report performance\n",
    "print('MAE: %.3f (%.3f)' % (mean(scores), std(scores)))"
   ]
  },
  {
   "cell_type": "markdown",
   "metadata": {},
   "source": [
    "Use the mean absolute error (MAE) performance metric appropriate for regression.\n",
    "\n",
    "The model is evaluated using LOOCV and the performance of the model when making predictions on new data is a mean absolute error of about 2.180 (thousands of dollars)."
   ]
  }
 ],
 "metadata": {
  "kernelspec": {
   "display_name": "Python 3",
   "language": "python",
   "name": "python3"
  },
  "language_info": {
   "codemirror_mode": {
    "name": "ipython",
    "version": 3
   },
   "file_extension": ".py",
   "mimetype": "text/x-python",
   "name": "python",
   "nbconvert_exporter": "python",
   "pygments_lexer": "ipython3",
   "version": "3.8.5"
  }
 },
 "nbformat": 4,
 "nbformat_minor": 4
}
