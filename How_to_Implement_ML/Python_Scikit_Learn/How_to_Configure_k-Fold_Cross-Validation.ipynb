{
 "cells": [
  {
   "cell_type": "markdown",
   "metadata": {},
   "source": [
    "# How to Configure k-Fold Cross-Validation\n",
    "\n",
    "by Jason Brownlee on July 31, 2020.[Here](https://machinelearningmastery.com/how-to-configure-k-fold-cross-validation/) in [Python Machine Learning](https://machinelearningmastery.com/category/python-machine-learning/)\n",
    "\n",
    "The k-fold cross-validation procedure is a standard method for estimating the performance of a machine learning algorithm on a dataset.\n",
    "\n",
    "A common value for k is 10, although `how do we know that this configuration is appropriate for our dataset and our algorithms`?\n",
    "\n",
    "__One approach__ is to explore the effect of different k values on the estimate of model performance and compare this to an ideal test condition. This can help to choose an appropriate value for k.\n",
    "\n",
    "__Once a k-value is chosen__, it can be used to evaluate a suite of different algorithms on the dataset and the distribution of results can be compared to an evaluation of the same algorithms using an ideal test condition to see if they are highly correlated or not. If correlated, it confirms the chosen configuration is a robust approximation for the ideal test condition.\n",
    "\n",
    "After completing this tutorial, you will know:\n",
    "\n",
    "- How to evaluate a machine learning algorithm using k-fold cross-validation on a dataset.\n",
    "- How to perform a sensitivity analysis of k-values for k-fold cross-validation.\n",
    "- How to calculate the correlation between a cross-validation test harness and an ideal test condition.\n",
    "\n",
    "## Tutorial Overview\n",
    "This tutorial is divided into three parts; they are:\n",
    "\n",
    "1. k-Fold Cross-Validation\n",
    "2. Sensitivity Analysis for k\n",
    "3. Correlation of Test Harness With Target"
   ]
  }
 ],
 "metadata": {
  "kernelspec": {
   "display_name": "Python 3",
   "language": "python",
   "name": "python3"
  },
  "language_info": {
   "codemirror_mode": {
    "name": "ipython",
    "version": 3
   },
   "file_extension": ".py",
   "mimetype": "text/x-python",
   "name": "python",
   "nbconvert_exporter": "python",
   "pygments_lexer": "ipython3",
   "version": "3.7.7"
  }
 },
 "nbformat": 4,
 "nbformat_minor": 4
}
