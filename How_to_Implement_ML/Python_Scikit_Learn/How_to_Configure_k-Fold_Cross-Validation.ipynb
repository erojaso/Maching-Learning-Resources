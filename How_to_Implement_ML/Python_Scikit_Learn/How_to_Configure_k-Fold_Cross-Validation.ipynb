{
 "cells": [
  {
   "cell_type": "markdown",
   "metadata": {},
   "source": [
    "# How to Configure k-Fold Cross-Validation\n",
    "\n",
    "by Jason Brownlee on July 31, 2020.[Here](https://machinelearningmastery.com/how-to-configure-k-fold-cross-validation/) in [Python Machine Learning](https://machinelearningmastery.com/category/python-machine-learning/)\n",
    "\n",
    "The k-fold cross-validation procedure is a standard method for estimating the performance of a machine learning algorithm on a dataset.\n",
    "\n",
    "A common value for k is 10, although `how do we know that this configuration is appropriate for our dataset and our algorithms`?\n",
    "\n",
    "__One approach__ is to explore the effect of different k values on the estimate of model performance and compare this to an ideal test condition. This can help to choose an appropriate value for k.\n",
    "\n",
    "__Once a k-value is chosen__, it can be used to evaluate a suite of different algorithms on the dataset and the distribution of results can be compared to an evaluation of the same algorithms using an ideal test condition to see if they are highly correlated or not. If correlated, it confirms the chosen configuration is a robust approximation for the ideal test condition.\n",
    "\n",
    "After completing this tutorial, you will know:\n",
    "\n",
    "- How to evaluate a machine learning algorithm using k-fold cross-validation on a dataset.\n",
    "- How to perform a sensitivity analysis of k-values for k-fold cross-validation.\n",
    "- How to calculate the correlation between a cross-validation test harness and an ideal test condition.\n",
    "\n",
    "## Overview\n",
    "This tutorial is divided into three parts; they are:\n",
    "\n",
    "1. k-Fold Cross-Validation\n",
    "2. Sensitivity Analysis for k\n",
    "    - 2.1 Model performance using: LOOCV \n",
    "    - 2.2 Model performance using: folds \n",
    "3. Correlation of Test Harness With Target"
   ]
  },
  {
   "cell_type": "markdown",
   "metadata": {},
   "source": [
    "## 1. k-Fold Cross-Validation\n",
    "[[Back to top](#Overview)]\n",
    "\n",
    "__The k-fold cross-validation procedure divides a limited dataset into k `non-overlapping folds`__. Each of the k folds is given an opportunity to be used as a held-back test set, whilst all other folds collectively are used as a training dataset. A total of k models are fit and evaluated on the k hold-out test sets and the mean performance is reported."
   ]
  },
  {
   "cell_type": "code",
   "execution_count": 1,
   "metadata": {},
   "outputs": [
    {
     "name": "stdout",
     "output_type": "stream",
     "text": [
      "(100, 20) (100,)\n"
     ]
    }
   ],
   "source": [
    "# test classification dataset\n",
    "from sklearn.datasets import make_classification\n",
    "\n",
    "# define dataset\n",
    "X, y = make_classification(n_samples=100, \n",
    "                           n_features=20, \n",
    "                           n_informative=15, \n",
    "                           n_redundant=5, \n",
    "                           random_state=1)\n",
    "\n",
    "# summarize the dataset\n",
    "print(X.shape, y.shape)"
   ]
  },
  {
   "cell_type": "markdown",
   "metadata": {},
   "source": [
    "We will evaluate a LogisticRegression model and use the KFold class to perform the cross-validation, configured to shuffle the dataset and set k=10, a popular default."
   ]
  },
  {
   "cell_type": "code",
   "execution_count": 2,
   "metadata": {},
   "outputs": [
    {
     "name": "stdout",
     "output_type": "stream",
     "text": [
      "Accuracy: 0.850 (std: 0.128)\n"
     ]
    }
   ],
   "source": [
    "# evaluate a logistic regression model using k-fold cross-validation\n",
    "from numpy import mean\n",
    "from numpy import std\n",
    "from sklearn.datasets import make_classification\n",
    "from sklearn.model_selection import KFold\n",
    "from sklearn.model_selection import cross_val_score\n",
    "from sklearn.linear_model import LogisticRegression\n",
    "from sklearn.model_selection import LeaveOneOut\n",
    "from matplotlib import pyplot\n",
    "\n",
    "%matplotlib inline\n",
    "\n",
    "# prepare the cross-validation procedure\n",
    "cv = KFold(n_splits=10, random_state=1, shuffle=True)\n",
    "\n",
    "# create model\n",
    "model = LogisticRegression()\n",
    "\n",
    "# evaluate model\n",
    "scores = cross_val_score(model, X, y, scoring='accuracy', cv=cv, n_jobs=-1)\n",
    "\n",
    "# report performance\n",
    "print('Accuracy: %.3f (std: %.3f)' % (mean(scores), std(scores)))"
   ]
  },
  {
   "cell_type": "markdown",
   "metadata": {},
   "source": [
    "Running the example evaluates a logistic regression model on it using 10-fold cross-validation (__n_splits=10__). The mean classification accuracy on the dataset is then reported."
   ]
  },
  {
   "cell_type": "markdown",
   "metadata": {},
   "source": [
    "## 2. Sensitivity Analysis for k\n",
    "[Back to top](#Overview)]\n",
    "\n",
    "The key configuration parameter for k-fold cross-validation is k that defines the number folds in which to split a given dataset.\n",
    "\n",
    "Common values are k=3, k=5, and k=10, and by far the most popular value used in applied machine learning to evaluate models is k=10. The reason for this is studies were performed and k=10 was found to provide good trade-off of low computational cost and low bias in an estimate of model performance.\n",
    "\n",
    "Let’s explore how to implement a __sensitivity analysis__ of k-fold cross-validation.\n",
    "\n",
    "__First__, let’s define a function to create the dataset. This allows you to change the dataset to your own if you desire."
   ]
  },
  {
   "cell_type": "code",
   "execution_count": 3,
   "metadata": {},
   "outputs": [],
   "source": [
    "# create the dataset\n",
    "def get_dataset(n_samples=100):\n",
    "    X, y = make_classification(n_samples=n_samples, \n",
    "                               n_features=20, \n",
    "                               n_informative=15, \n",
    "                               n_redundant=5, \n",
    "                               random_state=1)\n",
    "    return X, y"
   ]
  },
  {
   "cell_type": "markdown",
   "metadata": {},
   "source": [
    "__Second__, we can define a dataset to create the model to evaluate.\n",
    "\n",
    "Again, this separation allows you to change the model to your own if you desire."
   ]
  },
  {
   "cell_type": "code",
   "execution_count": 4,
   "metadata": {},
   "outputs": [],
   "source": [
    "# retrieve the model to be evaluate\n",
    "def get_model():\n",
    "    model = LogisticRegression()\n",
    "    return model"
   ]
  },
  {
   "cell_type": "markdown",
   "metadata": {},
   "source": [
    "__Third__, you can define a function to evaluate the model on the dataset given a test condition. The test condition could be an instance of the KFold configured with a given k-value, or it could be an instance of LeaveOneOut that represents our ideal test condition.\n",
    "\n",
    "The function returns the mean classification accuracy as well as the min and max accuracy from the folds. We can use the min and max to summarize the distribution of scores."
   ]
  },
  {
   "cell_type": "code",
   "execution_count": 5,
   "metadata": {},
   "outputs": [],
   "source": [
    "# evaluate the model using a given test condition\n",
    "def evaluate_model(cv):\n",
    "    # get the dataset\n",
    "    X, y = get_dataset()\n",
    "\n",
    "    # get the model\n",
    "    model = get_model()\n",
    "\n",
    "    # evaluate the model\n",
    "    scores = cross_val_score(model, X, y, scoring='accuracy', cv=cv, n_jobs=-1)\n",
    "\n",
    "    # return scores\n",
    "    return mean(scores), scores.min(), scores.max(), std(scores)"
   ]
  },
  {
   "cell_type": "markdown",
   "metadata": {},
   "source": [
    "__Fourth__, we can calculate the model performance using the LOOCV procedure."
   ]
  },
  {
   "cell_type": "markdown",
   "metadata": {},
   "source": [
    "### 2.1 Model performance using: LOOCV "
   ]
  },
  {
   "cell_type": "code",
   "execution_count": 6,
   "metadata": {},
   "outputs": [
    {
     "name": "stdout",
     "output_type": "stream",
     "text": [
      "Ideal: 0.840 (std: 0.367)\n"
     ]
    }
   ],
   "source": [
    "from sklearn.model_selection import LeaveOneOut\n",
    "# calculate the ideal test condition\n",
    "ideal, _, _,_std = evaluate_model(LeaveOneOut())\n",
    "\n",
    "print('Ideal: %.3f (std: %.3f)' % (ideal, _std))"
   ]
  },
  {
   "cell_type": "markdown",
   "metadata": {},
   "source": [
    "### 2.2 Model performance using: folds\n",
    "\n",
    "__Fifth__, define the k values to evaluate. In this case, we will test values between 2 and 30."
   ]
  },
  {
   "cell_type": "code",
   "execution_count": 7,
   "metadata": {},
   "outputs": [],
   "source": [
    "# define folds to test\n",
    "folds = range(2,31)"
   ]
  },
  {
   "cell_type": "markdown",
   "metadata": {},
   "source": [
    "__Sixth__, evaluate each value in turn and store the results as we go."
   ]
  },
  {
   "cell_type": "code",
   "execution_count": 8,
   "metadata": {},
   "outputs": [
    {
     "name": "stdout",
     "output_type": "stream",
     "text": [
      "> folds=2, accuracy=0.740, std=0.040 (min:0.700, max:0.780)\n",
      "> folds=3, accuracy=0.749, std=0.054 (min:0.697, max:0.824)\n",
      "> folds=4, accuracy=0.790, std=0.103 (min:0.640, max:0.920)\n",
      "> folds=5, accuracy=0.810, std=0.136 (min:0.600, max:0.950)\n",
      "> folds=6, accuracy=0.820, std=0.099 (min:0.688, max:0.941)\n",
      "> folds=7, accuracy=0.799, std=0.151 (min:0.571, max:1.000)\n",
      "> folds=8, accuracy=0.811, std=0.181 (min:0.385, max:0.923)\n",
      "> folds=9, accuracy=0.829, std=0.139 (min:0.636, max:1.000)\n",
      "> folds=10, accuracy=0.850, std=0.128 (min:0.600, max:1.000)\n",
      "> folds=11, accuracy=0.829, std=0.120 (min:0.667, max:1.000)\n",
      "> folds=12, accuracy=0.785, std=0.213 (min:0.250, max:1.000)\n",
      "> folds=13, accuracy=0.839, std=0.141 (min:0.571, max:1.000)\n",
      "> folds=14, accuracy=0.807, std=0.200 (min:0.429, max:1.000)\n",
      "> folds=15, accuracy=0.821, std=0.136 (min:0.571, max:1.000)\n",
      "> folds=16, accuracy=0.827, std=0.147 (min:0.500, max:1.000)\n",
      "> folds=17, accuracy=0.816, std=0.165 (min:0.600, max:1.000)\n",
      "> folds=18, accuracy=0.831, std=0.162 (min:0.600, max:1.000)\n",
      "> folds=19, accuracy=0.826, std=0.166 (min:0.600, max:1.000)\n",
      "> folds=20, accuracy=0.830, std=0.158 (min:0.600, max:1.000)\n",
      "> folds=21, accuracy=0.814, std=0.172 (min:0.500, max:1.000)\n",
      "> folds=22, accuracy=0.820, std=0.173 (min:0.500, max:1.000)\n",
      "> folds=23, accuracy=0.802, std=0.203 (min:0.250, max:1.000)\n",
      "> folds=24, accuracy=0.804, std=0.204 (min:0.250, max:1.000)\n",
      "> folds=25, accuracy=0.810, std=0.203 (min:0.250, max:1.000)\n",
      "> folds=26, accuracy=0.804, std=0.218 (min:0.250, max:1.000)\n",
      "> folds=27, accuracy=0.818, std=0.210 (min:0.250, max:1.000)\n",
      "> folds=28, accuracy=0.821, std=0.211 (min:0.250, max:1.000)\n",
      "> folds=29, accuracy=0.822, std=0.230 (min:0.250, max:1.000)\n",
      "> folds=30, accuracy=0.822, std=0.233 (min:0.333, max:1.000)\n"
     ]
    }
   ],
   "source": [
    "# record mean and min/max of each set of results\n",
    "means, mins, maxs = list(), list(), list()\n",
    "# evaluate each k value\n",
    "for k in folds:\n",
    "    # define the test condition\n",
    "    cv = KFold(n_splits=k, shuffle=True, random_state=1)\n",
    "    \n",
    "    # evaluate k value\n",
    "    k_mean, k_min, k_max, k_std = evaluate_model(cv)\n",
    "    \n",
    "    # report performance\n",
    "    print('> folds=%d, accuracy=%.3f, std=%.3f (min:%.3f, max:%.3f)' % (k, k_mean, k_std, k_min, k_max))\n",
    "    \n",
    "    # store mean accuracy\n",
    "    means.append(k_mean)\n",
    "    \n",
    "    # store min and max relative to the mean\n",
    "    mins.append(k_mean - k_min)\n",
    "    maxs.append(k_max - k_mean)"
   ]
  },
  {
   "cell_type": "markdown",
   "metadata": {},
   "source": [
    "Running the example first reports the LOOCV, then the mean, min, and max accuracy for each k value that was evaluated.\n",
    "\n",
    "In this case, we can see that the LOOCV result was about 84 percent, slightly lower than the k=10 result of 85 percent.\n",
    "\n",
    "__Finally__, we can plot the results for interpretation."
   ]
  },
  {
   "cell_type": "code",
   "execution_count": 9,
   "metadata": {},
   "outputs": [
    {
     "data": {
      "image/png": "[encoded data removed]",
      "text/plain": [
       "<Figure size 432x288 with 1 Axes>"
      ]
     },
     "metadata": {
      "needs_background": "light"
     },
     "output_type": "display_data"
    }
   ],
   "source": [
    "# line plot of k mean values with min/max error bars\n",
    "pyplot.errorbar(folds, means, yerr=[mins, maxs], fmt='o')\n",
    "\n",
    "# plot the ideal case in a separate color\n",
    "pyplot.plot(folds, [ideal for _ in range(len(folds))], color='r')\n",
    "\n",
    "# show the plot\n",
    "pyplot.show()"
   ]
  },
  {
   "cell_type": "markdown",
   "metadata": {},
   "source": [
    "__Results__. The results suggest that for this model on this dataset, most k values underestimate the performance of the model compared to the ideal case. The results suggest that perhaps k=10 alone is slightly optimistic and perhaps k=13 might be a more accurate estimate.\n",
    "\n",
    "This provides a template that you can use to perform a sensitivity analysis of k values of your chosen model on your dataset against a given ideal test condition."
   ]
  },
  {
   "cell_type": "markdown",
   "metadata": {},
   "source": [
    "## 3. Correlation of Test Harness With Target\n",
    "Once a test harness is chosen, another consideration is how well it matches the ideal test condition across different algorithms.\n",
    "\n",
    "It is possible that for some algorithms and some configurations, the k-fold cross-validation will be a better approximation of the ideal test condition compared to other algorithms and algorithm configurations.\n",
    "\n",
    "We can evaluate and report on this relationship explicitly. This can be achieved by calculating how well the k-fold cross-validation results across a range of algorithms match the evaluation of the same algorithms on the ideal test condition.\n",
    "\n",
    "The [Pearson’s correlation coefficient](https://machinelearningmastery.com/how-to-use-correlation-to-understand-the-relationship-between-variables/) can be calculated between the two groups of scores to measure how closely they match. That is, do they change together in the same ways: when one algorithm looks better than another via k-fold cross-validation, does this hold on the ideal test condition?\n",
    "\n",
    "We expect to see a strong positive correlation between the scores, such as 0.5 or higher. A low correlation suggests the need to change the k-fold cross-validation test harness to better match the ideal test condition.\n",
    "\n",
    "__First__, we can define a function that will create a list of standard machine learning models to evaluate via each test harness."
   ]
  },
  {
   "cell_type": "code",
   "execution_count": 10,
   "metadata": {},
   "outputs": [],
   "source": [
    "# correlation between test harness and ideal test condition\n",
    "from numpy import mean\n",
    "from numpy import isnan\n",
    "from numpy import asarray\n",
    "from numpy import polyfit\n",
    "from scipy.stats import pearsonr\n",
    "from matplotlib import pyplot\n",
    "from sklearn.datasets import make_classification\n",
    "from sklearn.model_selection import KFold\n",
    "from sklearn.model_selection import LeaveOneOut\n",
    "from sklearn.model_selection import cross_val_score\n",
    "\n",
    "from sklearn.linear_model import LogisticRegression\n",
    "from sklearn.linear_model import RidgeClassifier\n",
    "from sklearn.linear_model import SGDClassifier\n",
    "from sklearn.linear_model import PassiveAggressiveClassifier\n",
    "from sklearn.neighbors import KNeighborsClassifier\n",
    "from sklearn.tree import DecisionTreeClassifier\n",
    "from sklearn.tree import ExtraTreeClassifier\n",
    "from sklearn.svm import LinearSVC\n",
    "from sklearn.svm import SVC\n",
    "from sklearn.naive_bayes import GaussianNB\n",
    "from sklearn.ensemble import AdaBoostClassifier\n",
    "from sklearn.ensemble import BaggingClassifier\n",
    "from sklearn.ensemble import RandomForestClassifier\n",
    "from sklearn.ensemble import ExtraTreesClassifier\n",
    "from sklearn.gaussian_process import GaussianProcessClassifier\n",
    "from sklearn.ensemble import GradientBoostingClassifier\n",
    "from sklearn.discriminant_analysis import LinearDiscriminantAnalysis\n",
    "from sklearn.discriminant_analysis import QuadraticDiscriminantAnalysis"
   ]
  },
  {
   "cell_type": "code",
   "execution_count": 11,
   "metadata": {},
   "outputs": [],
   "source": [
    "# create the dataset\n",
    "def get_dataset(n_samples=100):\n",
    "    X, y = make_classification(n_samples=n_samples, \n",
    "                               n_features=20, \n",
    "                               n_informative=15, \n",
    "                               n_redundant=5, \n",
    "                               random_state=1)\n",
    "    return X, y"
   ]
  },
  {
   "cell_type": "code",
   "execution_count": 12,
   "metadata": {},
   "outputs": [],
   "source": [
    "# get a list of models to evaluate\n",
    "def get_models():\n",
    "    models = list()\n",
    "    models.append(LogisticRegression())\n",
    "    models.append(RidgeClassifier())\n",
    "    models.append(SGDClassifier())\n",
    "    models.append(PassiveAggressiveClassifier())\n",
    "    models.append(KNeighborsClassifier())\n",
    "    models.append(DecisionTreeClassifier())\n",
    "    models.append(ExtraTreeClassifier())\n",
    "    models.append(LinearSVC())\n",
    "    models.append(SVC())\n",
    "    models.append(GaussianNB())\n",
    "    models.append(AdaBoostClassifier())\n",
    "    models.append(BaggingClassifier())\n",
    "    models.append(RandomForestClassifier())\n",
    "    models.append(ExtraTreesClassifier())\n",
    "    models.append(GaussianProcessClassifier())\n",
    "    models.append(GradientBoostingClassifier())\n",
    "    models.append(LinearDiscriminantAnalysis())\n",
    "    models.append(QuadraticDiscriminantAnalysis())\n",
    "    return models"
   ]
  },
  {
   "cell_type": "code",
   "execution_count": 13,
   "metadata": {},
   "outputs": [],
   "source": [
    "# evaluate the model using a given test condition\n",
    "def evaluate_model(cv, model):\n",
    "    # get the dataset\n",
    "    X, y = get_dataset()\n",
    "    \n",
    "    # evaluate the model\n",
    "    scores = cross_val_score(model, X, y, scoring='accuracy', cv=cv, n_jobs=-1)\n",
    "\n",
    "    # return scores\n",
    "    return mean(scores)"
   ]
  },
  {
   "cell_type": "markdown",
   "metadata": {},
   "source": [
    "We will use k=10 for the chosen test harness.\n",
    "\n",
    "__Second__, enumerate each model and evaluate it using 10-fold cross-validation and our ideal test condition, in this case, LOOCV."
   ]
  },
  {
   "cell_type": "code",
   "execution_count": 14,
   "metadata": {},
   "outputs": [
    {
     "name": "stdout",
     "output_type": "stream",
     "text": [
      ">LogisticRegression: ideal=0.840, cv=0.850\n",
      ">RidgeClassifier: ideal=0.830, cv=0.830\n",
      ">SGDClassifier: ideal=0.760, cv=0.710\n",
      ">PassiveAggressiveClassifier: ideal=0.730, cv=0.760\n",
      ">KNeighborsClassifier: ideal=0.760, cv=0.770\n",
      ">DecisionTreeClassifier: ideal=0.690, cv=0.700\n",
      ">ExtraTreeClassifier: ideal=0.660, cv=0.590\n",
      ">LinearSVC: ideal=0.820, cv=0.820\n",
      ">SVC: ideal=0.900, cv=0.880\n",
      ">GaussianNB: ideal=0.730, cv=0.720\n",
      ">AdaBoostClassifier: ideal=0.740, cv=0.740\n",
      ">BaggingClassifier: ideal=0.770, cv=0.730\n",
      ">RandomForestClassifier: ideal=0.810, cv=0.790\n",
      ">ExtraTreesClassifier: ideal=0.830, cv=0.820\n",
      ">GaussianProcessClassifier: ideal=0.790, cv=0.760\n",
      ">GradientBoostingClassifier: ideal=0.820, cv=0.810\n",
      ">LinearDiscriminantAnalysis: ideal=0.830, cv=0.830\n",
      ">QuadraticDiscriminantAnalysis: ideal=0.550, cv=0.690\n"
     ]
    }
   ],
   "source": [
    "# define test conditions\n",
    "ideal_cv = LeaveOneOut()\n",
    "cv = KFold(n_splits=10, shuffle=True, random_state=1)\n",
    "\n",
    "# get the list of models to consider\n",
    "models = get_models()\n",
    "\n",
    "# collect results\n",
    "ideal_results, cv_results = list(), list()\n",
    "\n",
    "# evaluate each model\n",
    "for model in models:\n",
    "    # evaluate model using each test condition\n",
    "    cv_mean = evaluate_model(cv, model)\n",
    "    ideal_mean = evaluate_model(ideal_cv, model)\n",
    "    \n",
    "    # check for invalid results\n",
    "    if isnan(cv_mean) or isnan(ideal_mean):\n",
    "        continue\n",
    "    \n",
    "    # store results\n",
    "    cv_results.append(cv_mean)\n",
    "    ideal_results.append(ideal_mean)\n",
    "\n",
    "    # summarize progress\n",
    "    print('>%s: ideal=%.3f, cv=%.3f' % (type(model).__name__, ideal_mean, cv_mean))"
   ]
  },
  {
   "cell_type": "markdown",
   "metadata": {},
   "source": [
    "Running the example reports the mean classification accuracy for each algorithm calculated via each test harness.\n",
    "\n",
    "__Comment__. We can see that for some algorithms, the test harness over-estimates the accuracy compared to LOOCV, and in other cases, it under-estimates the accuracy. This is to be expected.\n",
    "\n",
    "\n",
    "__Third__, calculate the correlation between the mean classification accuracy from the 10-fold cross-validation test harness and the LOOCV test harness."
   ]
  },
  {
   "cell_type": "code",
   "execution_count": 15,
   "metadata": {},
   "outputs": [
    {
     "name": "stdout",
     "output_type": "stream",
     "text": [
      "Correlation: 0.846\n"
     ]
    }
   ],
   "source": [
    "# calculate the correlation between each test condition\n",
    "corr, _ = pearsonr(cv_results, ideal_results)\n",
    "print('Correlation: %.3f' % corr)"
   ]
  },
  {
   "cell_type": "markdown",
   "metadata": {},
   "source": [
    "At the end of the run, we can see that the correlation between the two sets of results is reported. In this case, we can see that a correlation of 0.777 is reported, which is a good strong positive correlation. The results suggest that 10-fold cross-validation does provide a good approximation for the LOOCV test harness on this dataset as calculated with 18 popular machine learning algorithms.\n",
    "\n",
    "__Fourth__, create a scatter plot of the two sets of results and draw a line of best fit to visually see how well they change together."
   ]
  },
  {
   "cell_type": "code",
   "execution_count": 16,
   "metadata": {},
   "outputs": [
    {
     "data": {
      "image/png": "[encoded data removed]",
      "text/plain": [
       "<Figure size 432x288 with 1 Axes>"
      ]
     },
     "metadata": {
      "needs_background": "light"
     },
     "output_type": "display_data"
    }
   ],
   "source": [
    "# scatter plot of results\n",
    "pyplot.scatter(cv_results, ideal_results)\n",
    "\n",
    "# plot the line of best fit\n",
    "coeff, bias = polyfit(cv_results, ideal_results, 1)\n",
    "line = coeff * asarray(cv_results) + bias\n",
    "pyplot.plot(cv_results, line, color='r')\n",
    "\n",
    "# label the plot\n",
    "pyplot.title('10-fold CV vs LOOCV Mean Accuracy')\n",
    "pyplot.xlabel('Mean Accuracy (10-fold CV)')\n",
    "pyplot.ylabel('Mean Accuracy (LOOCV)')\n",
    "\n",
    "# show the plot\n",
    "pyplot.show()"
   ]
  },
  {
   "cell_type": "markdown",
   "metadata": {},
   "source": [
    "Finally, a scatter plot is created comparing the distribution of mean accuracy scores for the test harness (x-axis) vs. the accuracy scores via LOOCV (y-axis).\n",
    "\n",
    "A red line of best fit is drawn through the results showing the strong linear correlation.\n",
    "\n",
    "This provides a harness for comparing your chosen test harness to an ideal test condition on your own dataset."
   ]
  }
 ],
 "metadata": {
  "kernelspec": {
   "display_name": "Python 3",
   "language": "python",
   "name": "python3"
  },
  "language_info": {
   "codemirror_mode": {
    "name": "ipython",
    "version": 3
   },
   "file_extension": ".py",
   "mimetype": "text/x-python",
   "name": "python",
   "nbconvert_exporter": "python",
   "pygments_lexer": "ipython3",
   "version": "3.7.6"
  }
 },
 "nbformat": 4,
 "nbformat_minor": 4
}
