{
 "cells": [
  {
   "cell_type": "markdown",
   "metadata": {},
   "source": [
    "# A Gentle Introduction to the Law of Large Numbers in Machine Learning\n",
    "\n",
    "by Jason Brownlee on August 8, 2019.[](https://machinelearningmastery.com/a-gentle-introduction-to-the-law-of-large-numbers-in-machine-learning/) in [Statistics](https://machinelearningmastery.com/category/statistical-methods/)\n",
    "\n",
    "We have an intuition that more observations is better.\n",
    "\n",
    "This is the same intuition behind the idea that if we collect more data, our sample of data will be more representative of the problem domain.\n",
    "\n",
    "There is a theorem in statistics and probability that supports this intuition that is a pillar of both of these fields and has important implications in applied machine learning. The __name of this theorem is the law of large numbers__.\n",
    "\n",
    "After completing this tutorial, you will know:\n",
    "\n",
    "- The law of large numbers supports the intuition that the sample becomes more representative of the population as its size is increased.\n",
    "- How to develop a small example in Python to demonstrate the decrease in error from the increase in sample size.\n",
    "- The law of large numbers is critical for understanding the selection of training datasets, test datasets, and in the evaluation of model skill in machine learning.\n",
    "\n",
    "## Tutorial Overview\n",
    "This tutorial is divided into 3 parts; they are:\n",
    "\n",
    "1. Law of Large Numbers\n",
    "    - 1.1 Independent and Identically Distributed\n",
    "    - 1.2 Regression to the Mean\n",
    "    - 1.3 Law of Truly Large Numbers\n",
    "2. Worked Example\n",
    "3. Implications in Machine Learning"
   ]
  },
  {
   "cell_type": "markdown",
   "metadata": {},
   "source": [
    "## 1. Law of Large Numbers\n",
    "The law of large numbers is a theorem from probability and statistics that suggests that the average result from repeating an experiment multiple times will better approximate the true or expected underlying result.\n",
    "\n",
    "We can think of a trial of an experiment as one observation. The standalone and independent repetition of the experiment will perform multiple trials and lead to multiple observations. All sample observations for an experiment are drawn from an idealized population of observations.\n",
    "\n",
    "- __Observation__: Result from one trial of an experiment.\n",
    "- __Sample__: Group of results gathered from separate independent trials.\n",
    "- __Population__: Space of all possible observations that could be seen from a trial.\n",
    "\n",
    ">Using these terms from statistics, we can say that as the size of the sample increases, the mean value of the sample will better approximate the mean or expected value in the population. As the sample size goes to infinity, the sample mean will converge to the population mean."
   ]
  },
  {
   "cell_type": "markdown",
   "metadata": {},
   "source": [
    "### 1.1 Independent and Identically Distributed\n",
    "It is important to be clear that the observations in the sample must be independent.\n",
    "\n",
    "This means that the trial is run in an identical manner and does not depend on the results of any other trial.\n",
    "\n",
    "In statistics, this expectation is called “__independent and identically distributed__”, or __IID__, iid, or i.i.d. for short. This is to ensure that the samples are indeed drawn from the same underlying population distribution."
   ]
  },
  {
   "cell_type": "markdown",
   "metadata": {},
   "source": [
    "### 1.2 Regression to the Mean\n",
    "The law of large numbers helps us understand why we cannot trust a single observation from an experiment in isolation.\n",
    "\n",
    "The law reminds us to repeat the experiment in order to develop a large and representative sample of observations before we start making inferences about what the result means.\n",
    "\n",
    "As we increase the sample size, the finding or mean of the sample will move back toward the population mean, back toward the true underlying expected value. This is called __regression to the mean__ or sometimes reversion to the mean.\n",
    "\n",
    "It is why we must be skeptical of inferences from small sample sizes, called small n."
   ]
  },
  {
   "cell_type": "markdown",
   "metadata": {},
   "source": [
    "### 1.3 Law of Truly Large Numbers\n",
    "This is the idea that when we start investigating or working with extremely large samples of observations, we increase the likelihood of seeing something strange. That by having so many samples of the underlying population distribution, the sample will contain some astronomically rare events.\n",
    "\n",
    "Again, we __must be wary not to make inferences from single cases__."
   ]
  },
  {
   "cell_type": "markdown",
   "metadata": {},
   "source": [
    "## 2. Worked Example\n",
    "First, we can design an idealized underlying distribution. We will use a Gaussian distribution with a mean of 50 and a standard deviation of 5. The expected value or mean of this population is therefore 50."
   ]
  },
  {
   "cell_type": "code",
   "execution_count": 1,
   "metadata": {},
   "outputs": [
    {
     "data": {
      "image/png": "[encoded data removed]",
      "text/plain": [
       "<Figure size 432x288 with 1 Axes>"
      ]
     },
     "metadata": {
      "needs_background": "light"
     },
     "output_type": "display_data"
    }
   ],
   "source": [
    "# idealized population distribution\n",
    "from numpy import arange\n",
    "from matplotlib import pyplot\n",
    "from scipy.stats import norm\n",
    "\n",
    "# x-axis for the plot\n",
    "xaxis = arange(30, 70, 1)\n",
    "\n",
    "# y-axis for the plot\n",
    "yaxis = norm.pdf(xaxis, 50, 5)\n",
    "\n",
    "# plot ideal population\n",
    "pyplot.plot(xaxis, yaxis)\n",
    "pyplot.show()"
   ]
  },
  {
   "cell_type": "markdown",
   "metadata": {},
   "source": [
    "### 2.1 Independent random samples\n",
    "\n",
    "We can create samples of different sizes and calculate the mean. Given our intuition and the law of large numbers, we expect that as the size of the sample is increased, the sample mean will better approximate the population mean."
   ]
  },
  {
   "cell_type": "code",
   "execution_count": 2,
   "metadata": {},
   "outputs": [
    {
     "name": "stdout",
     "output_type": "stream",
     "text": [
      "[49.5142955459695, 50.371593294898695, 50.2919653390298, 50.1521157689338, 50.03955033528776]\n",
      "[-0.48570445  0.37159329  0.29196534  0.15211577  0.03955034]\n"
     ]
    },
    {
     "data": {
      "image/png": "[encoded data removed]",
      "text/plain": [
       "<Figure size 432x288 with 1 Axes>"
      ]
     },
     "metadata": {
      "needs_background": "light"
     },
     "output_type": "display_data"
    }
   ],
   "source": [
    "# demonstrate the law of large numbers\n",
    "from numpy.random import seed\n",
    "from numpy.random import randn\n",
    "from numpy import mean\n",
    "from numpy import array\n",
    "from matplotlib import pyplot\n",
    "\n",
    "# seed the random number generator\n",
    "seed(1)\n",
    "\n",
    "# sample sizes\n",
    "sizes = [10, 100, 500, 1000, 10000]\n",
    "\n",
    "# generate samples of different sizes and calculate their means\n",
    "means = [mean(5 * randn(size) + 50) for size in sizes]\n",
    "print(means)\n",
    "print(array(means)-50)\n",
    "\n",
    "# plot sample mean error vs sample size\n",
    "pyplot.scatter(sizes, array(means)-50)\n",
    "pyplot.show()"
   ]
  },
  {
   "cell_type": "markdown",
   "metadata": {},
   "source": [
    "## 3. Implications in Machine Learning\n",
    "\n",
    "### 3.1 Training Data\n",
    "The data used to train the model __must be representative__ of the observations from the domain.\n",
    "\n",
    "This really means that it must contain enough information to generalize to the true unknown and underlying distribution of the population.\n",
    "\n",
    "### 3.2 Test Data\n",
    "The thoughts given to the training dataset must also be given to the test dataset.\n",
    "\n",
    "This is often neglected with the blind use of 80/20 spits for train/test data or the blind use of 10-fold cross-validation, even on datasets where the size of 1/10th of the available data may not be a suitable representative of observations from the problem domain.\n",
    "\n",
    "### 3.3 Model Skill Evaluation\n",
    "Consider the law of large numbers when presenting the estimated skill of a model on unseen data.\n",
    "\n",
    "It provides a defense for not simply reporting or proceeding with a model based on a skill score from a single train/test evaluation."
   ]
  }
 ],
 "metadata": {
  "kernelspec": {
   "display_name": "Python 3",
   "language": "python",
   "name": "python3"
  },
  "language_info": {
   "codemirror_mode": {
    "name": "ipython",
    "version": 3
   },
   "file_extension": ".py",
   "mimetype": "text/x-python",
   "name": "python",
   "nbconvert_exporter": "python",
   "pygments_lexer": "ipython3",
   "version": "3.7.7"
  }
 },
 "nbformat": 4,
 "nbformat_minor": 4
}
