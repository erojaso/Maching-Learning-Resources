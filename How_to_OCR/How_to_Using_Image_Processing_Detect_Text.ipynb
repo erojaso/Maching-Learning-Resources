{
 "cells": [
  {
   "cell_type": "markdown",
   "metadata": {},
   "source": [
    "# Using Image Processing to Detect Text\n",
    "Tim Chin. Jan 23, 2019. [Here](https://medium.com/@theclassytim/using-image-processing-to-detect-text-8be34c677c11)\n",
    "\n",
    "## Tools\n",
    "\n",
    "Detecting text from images is a prototypical modern puzzle that incorporates __image processing__, __computer vision__, and __machine learning__. Many existing applications do a splendid job in performing this function, such as \n",
    "\n",
    "- Google Lens\n",
    "- CamScanner\n",
    "\n",
    "Both of these applications take the next step and implement an optical character recognition (OCR) algorithm to interpret images into actual text.\n",
    "\n",
    "## Libraries\n",
    "\n",
    "- Tesseract (software). [Wiki](https://en.wikipedia.org/wiki/Tesseract_(software)).  [Repository](https://github.com/tesseract-ocr/tesseract).  [Tesseract User Manual](https://tesseract-ocr.github.io/tessdoc/Home.html)\n",
    "\n",
    "- OpenCV. [Documents](https://docs.opencv.org/).  [Reference](https://opencv.org/).  [Repository](https://github.com/opencv/opencv)\n",
    "\n",
    "- Intel® - OpenVINO. [Reference](https://opencv.org/intel/).  [Wiki](https://github.com/opencv/opencv/wiki/Intel%27s-Deep-Learning-Inference-Engine-backend).  [Repository](https://software.intel.com/en-us/openvino-toolkit).  [Pre-trained deep learning models](https://github.com/openvinotoolkit/open_model_zoo)"
   ]
  },
  {
   "cell_type": "code",
   "execution_count": 1,
   "metadata": {},
   "outputs": [
    {
     "name": "stdout",
     "output_type": "stream",
     "text": [
      "3.8.3 (default, Jul  2 2020, 17:30:36) [MSC v.1916 64 bit (AMD64)]\n",
      "4.4.0\n",
      "1.19.2\n"
     ]
    }
   ],
   "source": [
    "#Text image interpreter\n",
    "#By Tim Chinenov\n",
    "#import statistics\n",
    "import sys\n",
    "import cv2\n",
    "import numpy as np\n",
    "from matplotlib import pyplot as plt\n",
    "\n",
    "print(sys.version)\n",
    "print(cv2.__version__)\n",
    "print(np.__version__)\n",
    "#print(plt.__version__)"
   ]
  },
  {
   "cell_type": "code",
   "execution_count": 2,
   "metadata": {},
   "outputs": [],
   "source": [
    "sys.path.insert(0, '/Sources')\n",
    "#sys.path"
   ]
  },
  {
   "cell_type": "code",
   "execution_count": 3,
   "metadata": {},
   "outputs": [],
   "source": [
    "from PictureText_Source.Letter import Letter"
   ]
  },
  {
   "cell_type": "code",
   "execution_count": 4,
   "metadata": {},
   "outputs": [],
   "source": [
    "from PictureText_Source.utils import findCorners, findThresh, dist, mergeBoxes, findCenterCoor, findSlope, isInside, findArea"
   ]
  },
  {
   "cell_type": "code",
   "execution_count": 5,
   "metadata": {},
   "outputs": [],
   "source": [
    "from PictureText_Source.extract import extract"
   ]
  },
  {
   "cell_type": "code",
   "execution_count": 7,
   "metadata": {},
   "outputs": [],
   "source": [
    "#extract()"
   ]
  }
 ],
 "metadata": {
  "kernelspec": {
   "display_name": "Python 3",
   "language": "python",
   "name": "python3"
  },
  "language_info": {
   "codemirror_mode": {
    "name": "ipython",
    "version": 3
   },
   "file_extension": ".py",
   "mimetype": "text/x-python",
   "name": "python",
   "nbconvert_exporter": "python",
   "pygments_lexer": "ipython3",
   "version": "3.7.6"
  }
 },
 "nbformat": 4,
 "nbformat_minor": 4
}
