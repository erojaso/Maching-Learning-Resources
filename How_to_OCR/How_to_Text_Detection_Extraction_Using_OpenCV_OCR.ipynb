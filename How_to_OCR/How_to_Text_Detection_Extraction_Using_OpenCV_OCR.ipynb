{
 "cells": [
  {
   "cell_type": "markdown",
   "metadata": {},
   "source": [
    "# Text Detection and Extraction using OpenCV and OCR\n",
    "\n",
    "GEEKSFORGEEKS. [Here](https://www.geeksforgeeks.org/text-detection-and-extraction-using-opencv-and-ocr/amp/)\n"
   ]
  },
  {
   "cell_type": "markdown",
   "metadata": {},
   "source": [
    "OpenCV (Open source computer vision) is a library of programming functions mainly aimed at real-time computer vision. OpenCV in python helps to process an image and apply various functions like resizing image, pixel manipulations, object detection, etc. In this article, we will learn how to use contours to detect the text in an image and save it to a text file.\n",
    "\n",
    "Required Installations:\n",
    "\n",
    "- OpenCV. [Here](https://www.geeksforgeeks.org/opencv-python-tutorial/amp/)\n",
    "- Tesseract. [Here](https://github.com/tesseract-ocr/tesseract/releases). [Windows Installer](https://github.com/UB-Mannheim/tesseract/wiki)\n",
    "\n",
    "__OpenCV package__ is used to read an image and perform certain image processing techniques. __Python-tesseract__ is a wrapper for Google’s Tesseract-OCR Engine which is used to recognize text from images.\n",
    "\n",
    "\n",
    "```\n",
    "pip install opencv-python\n",
    "pip install pytesseract\n",
    "```"
   ]
  },
  {
   "cell_type": "code",
   "execution_count": 1,
   "metadata": {},
   "outputs": [
    {
     "ename": "ModuleNotFoundError",
     "evalue": "No module named 'cv2'",
     "output_type": "error",
     "traceback": [
      "\u001b[1;31m---------------------------------------------------------------------------\u001b[0m",
      "\u001b[1;31mModuleNotFoundError\u001b[0m                       Traceback (most recent call last)",
      "\u001b[1;32m<ipython-input-1-5bb5fd21e8f5>\u001b[0m in \u001b[0;36m<module>\u001b[1;34m\u001b[0m\n\u001b[0;32m      1\u001b[0m \u001b[1;31m# Import required packages\u001b[0m\u001b[1;33m\u001b[0m\u001b[1;33m\u001b[0m\u001b[1;33m\u001b[0m\u001b[0m\n\u001b[1;32m----> 2\u001b[1;33m \u001b[1;32mimport\u001b[0m \u001b[0mcv2\u001b[0m\u001b[1;33m\u001b[0m\u001b[1;33m\u001b[0m\u001b[0m\n\u001b[0m\u001b[0;32m      3\u001b[0m \u001b[1;32mimport\u001b[0m \u001b[0mpytesseract\u001b[0m\u001b[1;33m\u001b[0m\u001b[1;33m\u001b[0m\u001b[0m\n\u001b[0;32m      4\u001b[0m \u001b[0mprint\u001b[0m\u001b[1;33m(\u001b[0m\u001b[0mcv2\u001b[0m\u001b[1;33m.\u001b[0m\u001b[0m__version__\u001b[0m\u001b[1;33m)\u001b[0m\u001b[1;33m\u001b[0m\u001b[1;33m\u001b[0m\u001b[0m\n",
      "\u001b[1;31mModuleNotFoundError\u001b[0m: No module named 'cv2'"
     ]
    }
   ],
   "source": [
    "# Import required packages \n",
    "import cv2 \n",
    "import pytesseract \n",
    "print(cv2.__version__)"
   ]
  },
  {
   "cell_type": "code",
   "execution_count": 2,
   "metadata": {},
   "outputs": [],
   "source": [
    "# Mention the installed location of Tesseract-OCR in your system \n",
    "pytesseract.pytesseract.tesseract_cmd = 'C:\\\\Program Files\\\\Tesseract-OCR\\\\tesseract.exe'"
   ]
  },
  {
   "cell_type": "code",
   "execution_count": 3,
   "metadata": {},
   "outputs": [],
   "source": [
    "# Read image from which text needs to be extracted \n",
    "img = cv2.imread(\".\\\\Images\\\\opencv-ocr-sample.jpg\") "
   ]
  },
  {
   "cell_type": "markdown",
   "metadata": {},
   "source": [
    "### Preprocessing the image starts \n",
    "\n",
    "The colorspace of the image is first changed and stored in a variable."
   ]
  },
  {
   "cell_type": "code",
   "execution_count": 4,
   "metadata": {},
   "outputs": [],
   "source": [
    "# Convert the image to gray scale \n",
    "gray = cv2.cvtColor(img, cv2.COLOR_BGR2GRAY) "
   ]
  },
  {
   "cell_type": "markdown",
   "metadata": {},
   "source": [
    "A threshold is applied to the coverted image using cv2.threshold function.\n",
    "\n",
    "There are 3 types of thresholding [Threshold technique](https://www.geeksforgeeks.org/python-thresholding-techniques-using-opencv-set-1-simple-thresholding/amp/):\n",
    "\n",
    "- Simple Thresholding\n",
    "- Adaptive Thresholding\n",
    "- Otsu’s Binarization"
   ]
  },
  {
   "cell_type": "code",
   "execution_count": 5,
   "metadata": {},
   "outputs": [],
   "source": [
    "# Performing OTSU threshold \n",
    "ret, thresh1 = cv2.threshold(gray, 0, 255, cv2.THRESH_OTSU | cv2.THRESH_BINARY_INV) "
   ]
  },
  {
   "cell_type": "markdown",
   "metadata": {},
   "source": [
    "### To get a rectangular structure\n",
    "\n",
    "Used to define a structural element like elliptical, circular, rectangular etc."
   ]
  },
  {
   "cell_type": "code",
   "execution_count": 6,
   "metadata": {},
   "outputs": [],
   "source": [
    "# Specify structure shape and kernel size.  \n",
    "# Kernel size increases or decreases the area  \n",
    "# of the rectangle to be detected. \n",
    "# A smaller value like (10, 10) will detect  \n",
    "# each word instead of a sentence. \n",
    "rect_kernel = cv2.getStructuringElement(cv2.MORPH_RECT, (18, 18)) "
   ]
  },
  {
   "cell_type": "markdown",
   "metadata": {},
   "source": [
    "Dilation makes the groups of text to be detected more accurately since it dilates (expands) a text block."
   ]
  },
  {
   "cell_type": "code",
   "execution_count": 7,
   "metadata": {},
   "outputs": [],
   "source": [
    "# Appplying dilation on the threshold image \n",
    "dilation = cv2.dilate(thresh1, rect_kernel, iterations = 1) "
   ]
  },
  {
   "cell_type": "markdown",
   "metadata": {},
   "source": [
    "### Finding Contours\n",
    "\n",
    "Used to find contours in the dilated image\n",
    "\n",
    "This function returns contours and hierarchy. Contours is a python list of all the contours in the image. Each contour is a Numpy array of (x, y) coordinates of boundary points in the object. Contours are typically used to find a white object from a black background. All the above image processing techniques are applied so that the Contours can detect the boundary edges of the blocks of text of the image."
   ]
  },
  {
   "cell_type": "code",
   "execution_count": 8,
   "metadata": {},
   "outputs": [],
   "source": [
    "# Finding contours \n",
    "contours, hierarchy = cv2.findContours(dilation, cv2.RETR_EXTERNAL, cv2.CHAIN_APPROX_NONE)"
   ]
  },
  {
   "cell_type": "code",
   "execution_count": 9,
   "metadata": {},
   "outputs": [],
   "source": [
    "# Creating a copy of image \n",
    "im2 = img.copy() "
   ]
  },
  {
   "cell_type": "markdown",
   "metadata": {},
   "source": [
    "A text file is opened in write mode and flushed. This text file is opened to save the text from the output of the OCR."
   ]
  },
  {
   "cell_type": "code",
   "execution_count": 10,
   "metadata": {},
   "outputs": [],
   "source": [
    "# A text file is created and flushed \n",
    "\n",
    "file = open(\".\\\\Output\\\\recognized.txt\", \"w+\") \n",
    "file.write(\"\") \n",
    "file.close() "
   ]
  },
  {
   "cell_type": "markdown",
   "metadata": {},
   "source": [
    "### Applying OCR\n",
    "\n",
    "- Loop through each contour and take the x and y coordinates and the width and height using the function cv2.boundingRect(). \n",
    "- Then draw a rectangle in the image using the function cv2.rectangle() with the help of obtained x and y coordinates and the width and height. \n",
    "\n",
    "    - There are 5 parameters in the cv2.rectangle(), the first parameter specifies the input image, followed by the x and y coordinates (starting coordinates of the rectangle), the ending coordinates of the rectangle which is (x+w, y+h), the boundary color for the rectangle in RGB value and the size of the boundar\n",
    "    \n",
    "- Crop the rectangular region and then pass it to the tesseract to extract the text from the image.\n",
    "\n"
   ]
  },
  {
   "cell_type": "code",
   "execution_count": 16,
   "metadata": {},
   "outputs": [],
   "source": [
    "# Looping through the identified contours \n",
    "# Then rectangular part is cropped and passed on \n",
    "# to pytesseract for extracting text from it \n",
    "# Extracted text is then written into the text file \n",
    "\n",
    "for cnt in contours: \n",
    "\n",
    "    x, y, w, h = cv2.boundingRect(cnt) \n",
    "\n",
    "    # Drawing a rectangle on copied image \n",
    "    rect = cv2.rectangle(im2, (x, y), (x + w, y + h), (0, 255, 0), 2) \n",
    "\n",
    "    # Cropping the text block for giving input to OCR \n",
    "    cropped = im2[y:y + h, x:x + w] \n",
    "\n",
    "    # Open the file in append mode \n",
    "    file = open(\".\\\\Output\\\\recognized.txt\", \"a\") \n",
    "        \n",
    "    # Adding custom options\n",
    "    custom_config = r'--oem 3 --psm 6'\n",
    "\n",
    "    # Apply OCR on the cropped image \n",
    "    #text = pytesseract.image_to_string(cropped) \n",
    "    text = pytesseract.image_to_string(cropped, config=custom_config)\n",
    "\n",
    "    # Appending the text into file \n",
    "    file.write(text) \n",
    "    file.write(\"\\n\") \n",
    "\n",
    "    # Close the file \n",
    "    file.close "
   ]
  }
 ],
 "metadata": {
  "kernelspec": {
   "display_name": "Python 3",
   "language": "python",
   "name": "python3"
  },
  "language_info": {
   "codemirror_mode": {
    "name": "ipython",
    "version": 3
   },
   "file_extension": ".py",
   "mimetype": "text/x-python",
   "name": "python",
   "nbconvert_exporter": "python",
   "pygments_lexer": "ipython3",
   "version": "3.7.6"
  }
 },
 "nbformat": 4,
 "nbformat_minor": 4
}
