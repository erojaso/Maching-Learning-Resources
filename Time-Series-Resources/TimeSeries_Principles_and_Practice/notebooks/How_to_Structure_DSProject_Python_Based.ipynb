{
 "cells": [
  {
   "cell_type": "code",
   "execution_count": null,
   "metadata": {},
   "outputs": [],
   "source": [
    "# How to Structure a Python-Based Data Science Project\n",
    "[Reference](https://getpocket.com/redirect?url=https%3A%2F%2Fmedium.com%2Fswlh%2Fhow-to-structure-a-python-based-data-science-project-a-short-tutorial-for-beginners-7e00bff14f56).\n",
    "[Cookiecutter Data Science](https://drivendata.github.io/cookiecutter-data-science).\n",
    "[towardsdatascience.com](https://getpocket.com/redirect?url=https%3A%2F%2Ftowardsdatascience.com%2Fcomplete-data-science-project-template-with-mlflow-for-non-dummies-d082165559eb)"
   ]
  },
  {
   "cell_type": "code",
   "execution_count": null,
   "metadata": {},
   "outputs": [],
   "source": []
  }
 ],
 "metadata": {
  "language_info": {
   "codemirror_mode": {
    "name": "ipython",
    "version": 3
   },
   "file_extension": ".py",
   "mimetype": "text/x-python",
   "name": "python",
   "nbconvert_exporter": "python",
   "pygments_lexer": "ipython3",
   "version": 3
  },
  "orig_nbformat": 2
 },
 "nbformat": 4,
 "nbformat_minor": 2
}