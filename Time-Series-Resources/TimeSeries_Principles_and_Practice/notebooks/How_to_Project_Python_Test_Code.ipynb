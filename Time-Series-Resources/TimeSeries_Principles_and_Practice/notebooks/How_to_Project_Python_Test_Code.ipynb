{
 "cells": [
  {
   "cell_type": "code",
   "execution_count": 3,
   "metadata": {},
   "outputs": [
    {
     "output_type": "error",
     "ename": "SyntaxError",
     "evalue": "unexpected character after line continuation character (<ipython-input-3-f2239132b31f>, line 2)",
     "traceback": [
      "\u001b[1;36m  File \u001b[1;32m\"<ipython-input-3-f2239132b31f>\"\u001b[1;36m, line \u001b[1;32m2\u001b[0m\n\u001b[1;33m    from .\\src import util\u001b[0m\n\u001b[1;37m                          ^\u001b[0m\n\u001b[1;31mSyntaxError\u001b[0m\u001b[1;31m:\u001b[0m unexpected character after line continuation character\n"
     ]
    }
   ],
   "source": [
    "# How to Structure a Python-Based Data Science Project\n",
    "from .\\src import util"
   ]
  },
  {
   "cell_type": "code",
   "execution_count": 4,
   "metadata": {},
   "outputs": [
    {
     "output_type": "execute_result",
     "data": {
      "text/plain": "['c:\\\\Users\\\\eroja\\\\OneDrive\\\\Projects\\\\Maching-Learning-Resources\\\\Time-Series-Resources\\\\TimeSeries_Principles_and_Practice\\\\notebooks',\n 'C:\\\\Users\\\\eroja\\\\AppData\\\\Local\\\\Temp\\\\646d08b3-c091-408a-87c9-2aac9ebe01e4',\n 'c:\\\\Users\\\\eroja\\\\.vscode\\\\extensions\\\\ms-python.python-2020.4.76186\\\\pythonFiles',\n 'c:\\\\Users\\\\eroja\\\\.vscode\\\\extensions\\\\ms-python.python-2020.4.76186\\\\pythonFiles\\\\lib\\\\python',\n 'C:\\\\Anaconda3\\\\python37.zip',\n 'C:\\\\Anaconda3\\\\DLLs',\n 'C:\\\\Anaconda3\\\\lib',\n 'C:\\\\Anaconda3',\n '',\n 'C:\\\\Users\\\\eroja\\\\AppData\\\\Roaming\\\\Python\\\\Python37\\\\site-packages',\n 'C:\\\\Anaconda3\\\\lib\\\\site-packages',\n 'C:\\\\Anaconda3\\\\lib\\\\site-packages\\\\win32',\n 'C:\\\\Anaconda3\\\\lib\\\\site-packages\\\\win32\\\\lib',\n 'C:\\\\Anaconda3\\\\lib\\\\site-packages\\\\Pythonwin',\n 'C:\\\\Anaconda3\\\\lib\\\\site-packages\\\\IPython\\\\extensions',\n 'C:\\\\Users\\\\eroja\\\\.ipython']"
     },
     "metadata": {},
     "execution_count": 4
    }
   ],
   "source": [
    "import sys\n",
    "sys.path"
   ]
  }
 ],
 "metadata": {
  "language_info": {
   "codemirror_mode": {
    "name": "ipython",
    "version": 3
   },
   "file_extension": ".py",
   "mimetype": "text/x-python",
   "name": "python",
   "nbconvert_exporter": "python",
   "pygments_lexer": "ipython3",
   "version": "3.7.4-final"
  },
  "orig_nbformat": 2,
  "kernelspec": {
   "name": "python3",
   "display_name": "Python 3"
  }
 },
 "nbformat": 4,
 "nbformat_minor": 2
}