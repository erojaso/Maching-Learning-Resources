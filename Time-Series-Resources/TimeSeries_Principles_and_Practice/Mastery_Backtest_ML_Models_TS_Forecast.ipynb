{
 "nbformat": 4,
 "nbformat_minor": 2,
 "metadata": {
  "language_info": {
   "name": "python",
   "codemirror_mode": {
    "name": "ipython",
    "version": 3
   }
  },
  "orig_nbformat": 2,
  "file_extension": ".py",
  "mimetype": "text/x-python",
  "name": "python",
  "npconvert_exporter": "python",
  "pygments_lexer": "ipython3",
  "version": 3
 },
 "cells": [
  {
   "cell_type": "markdown",
   "metadata": {},
   "source": [
    "# How To Backtest Machine Learning Models for Time Series Forecasting\n",
    "Brownlee, Jason. August 28, 2019. [here](https://machinelearningmastery.com/backtest-machine-learning-models-time-series-forecasting/#comment-530151)"
   ]
  },
  {
   "cell_type": "code",
   "execution_count": null,
   "metadata": {},
   "outputs": [],
   "source": []
  }
 ]
}