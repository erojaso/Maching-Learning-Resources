{
 "cells": [
  {
   "cell_type": "markdown",
   "metadata": {},
   "source": [
    "# Cointegration Model"
   ]
  },
  {
   "cell_type": "markdown",
   "metadata": {},
   "source": [
    " The focus for cointegration is whether the distance between two time series, called the spread, remains constant over time. We will use the Augmented Dickey-Fuller Test of the spread to make that determination. "
   ]
  },
  {
   "cell_type": "markdown",
   "metadata": {},
   "source": [
    "## Stationary Series with Cointegration"
   ]
  },
  {
   "cell_type": "markdown",
   "metadata": {},
   "source": [
    "### Corn and Wheat"
   ]
  },
  {
   "cell_type": "code",
   "execution_count": 1,
   "metadata": {},
   "outputs": [],
   "source": [
    "# https://fred.stlouisfed.org/series/WPU012202\n",
    "# Producer Price Index by Commodity for Farm Products: Corn, Producer Price Index 1982=100, not seasonally adjusted\n",
    "# 1971-01-01 to 2019-09-01\n",
    "\n",
    "# https://fred.stlouisfed.org/series/WPU0121\n",
    "# Producer Price Index by Commodity for Farm Products: Wheat, Producer Price Index 1982 = 100, not seasonally adjusted\n",
    "# 1971-01-01 to 2019-09-01\n",
    "\n",
    "import pandas as pd\n",
    "import matplotlib.pyplot as plot"
   ]
  },
  {
   "cell_type": "code",
   "execution_count": 2,
   "metadata": {},
   "outputs": [],
   "source": [
    "# Read in dataset\n",
    "corn = pd.read_csv(\"/Users/karenyang/Desktop/section_5/Corn.csv\", index_col=0, parse_dates=True)\n",
    "wheat = pd.read_csv(\"/Users/karenyang/Desktop/section_5/Wheat.csv\",index_col=0, parse_dates=True)"
   ]
  },
  {
   "cell_type": "code",
   "execution_count": 3,
   "metadata": {},
   "outputs": [
    {
     "data": {
      "text/html": [
       "<div>\n",
       "<style scoped>\n",
       "    .dataframe tbody tr th:only-of-type {\n",
       "        vertical-align: middle;\n",
       "    }\n",
       "\n",
       "    .dataframe tbody tr th {\n",
       "        vertical-align: top;\n",
       "    }\n",
       "\n",
       "    .dataframe thead th {\n",
       "        text-align: right;\n",
       "    }\n",
       "</style>\n",
       "<table border=\"1\" class=\"dataframe\">\n",
       "  <thead>\n",
       "    <tr style=\"text-align: right;\">\n",
       "      <th></th>\n",
       "      <th>PP Index 1982</th>\n",
       "    </tr>\n",
       "    <tr>\n",
       "      <th>DATE</th>\n",
       "      <th></th>\n",
       "    </tr>\n",
       "  </thead>\n",
       "  <tbody>\n",
       "    <tr>\n",
       "      <td>1971-01-01</td>\n",
       "      <td>63.4</td>\n",
       "    </tr>\n",
       "    <tr>\n",
       "      <td>1971-02-01</td>\n",
       "      <td>63.6</td>\n",
       "    </tr>\n",
       "    <tr>\n",
       "      <td>1971-03-01</td>\n",
       "      <td>62.0</td>\n",
       "    </tr>\n",
       "    <tr>\n",
       "      <td>1971-04-01</td>\n",
       "      <td>60.8</td>\n",
       "    </tr>\n",
       "    <tr>\n",
       "      <td>1971-05-01</td>\n",
       "      <td>60.2</td>\n",
       "    </tr>\n",
       "  </tbody>\n",
       "</table>\n",
       "</div>"
      ],
      "text/plain": [
       "            PP Index 1982\n",
       "DATE                     \n",
       "1971-01-01           63.4\n",
       "1971-02-01           63.6\n",
       "1971-03-01           62.0\n",
       "1971-04-01           60.8\n",
       "1971-05-01           60.2"
      ]
     },
     "execution_count": 3,
     "metadata": {},
     "output_type": "execute_result"
    }
   ],
   "source": [
    "# Replace column name 'WPU012202'\n",
    "column_name = ['PP Index 1982']\n",
    "corn.columns = column_name\n",
    "corn.head()"
   ]
  },
  {
   "cell_type": "code",
   "execution_count": 4,
   "metadata": {},
   "outputs": [
    {
     "data": {
      "text/html": [
       "<div>\n",
       "<style scoped>\n",
       "    .dataframe tbody tr th:only-of-type {\n",
       "        vertical-align: middle;\n",
       "    }\n",
       "\n",
       "    .dataframe tbody tr th {\n",
       "        vertical-align: top;\n",
       "    }\n",
       "\n",
       "    .dataframe thead th {\n",
       "        text-align: right;\n",
       "    }\n",
       "</style>\n",
       "<table border=\"1\" class=\"dataframe\">\n",
       "  <thead>\n",
       "    <tr style=\"text-align: right;\">\n",
       "      <th></th>\n",
       "      <th>PP Index 1982</th>\n",
       "    </tr>\n",
       "    <tr>\n",
       "      <th>DATE</th>\n",
       "      <th></th>\n",
       "    </tr>\n",
       "  </thead>\n",
       "  <tbody>\n",
       "    <tr>\n",
       "      <td>1971-01-01</td>\n",
       "      <td>42.6</td>\n",
       "    </tr>\n",
       "    <tr>\n",
       "      <td>1971-02-01</td>\n",
       "      <td>42.6</td>\n",
       "    </tr>\n",
       "    <tr>\n",
       "      <td>1971-03-01</td>\n",
       "      <td>41.4</td>\n",
       "    </tr>\n",
       "    <tr>\n",
       "      <td>1971-04-01</td>\n",
       "      <td>41.7</td>\n",
       "    </tr>\n",
       "    <tr>\n",
       "      <td>1971-05-01</td>\n",
       "      <td>41.8</td>\n",
       "    </tr>\n",
       "  </tbody>\n",
       "</table>\n",
       "</div>"
      ],
      "text/plain": [
       "            PP Index 1982\n",
       "DATE                     \n",
       "1971-01-01           42.6\n",
       "1971-02-01           42.6\n",
       "1971-03-01           41.4\n",
       "1971-04-01           41.7\n",
       "1971-05-01           41.8"
      ]
     },
     "execution_count": 4,
     "metadata": {},
     "output_type": "execute_result"
    }
   ],
   "source": [
    "# Replace column name 'WPU0121'\n",
    "column_name = ['PP Index 1982']\n",
    "wheat.columns = column_name\n",
    "wheat.head()"
   ]
  },
  {
   "cell_type": "code",
   "execution_count": 5,
   "metadata": {},
   "outputs": [
    {
     "data": {
      "image/png": "[encoded data removed]",
      "text/plain": [
       "<Figure size 432x288 with 2 Axes>"
      ]
     },
     "metadata": {
      "needs_background": "light"
     },
     "output_type": "display_data"
    }
   ],
   "source": [
    "# Plot the prices separately\n",
    "import matplotlib.pyplot as plt\n",
    "from pandas.plotting import register_matplotlib_converters\n",
    "register_matplotlib_converters()\n",
    "\n",
    "plt.subplot(2,1,1)\n",
    "plt.plot(corn['PP Index 1982'], label='Corn')\n",
    "plt.plot(wheat['PP Index 1982'], label='Wheat')\n",
    "plt.legend(loc='best', fontsize='small')\n",
    "\n",
    "# Plot the spread\n",
    "plt.subplot(2,1,2)\n",
    "plt.plot(wheat['PP Index 1982'] - corn['PP Index 1982'], label='Spread')\n",
    "plt.legend(loc='best', fontsize='small')\n",
    "plt.axhline(y=0, linestyle='-', color='m')\n",
    "plt.show()"
   ]
  },
  {
   "cell_type": "code",
   "execution_count": 6,
   "metadata": {},
   "outputs": [
    {
     "name": "stdout",
     "output_type": "stream",
     "text": [
      "The p-value for the ADF test on corn is  0.013353821578888887\n",
      "The p-value for the ADF test on wheat is  0.0238466974661921\n",
      "The p-value for the ADF test on the spread is  0.00042061010371957565\n"
     ]
    }
   ],
   "source": [
    "#Perform the adfuller test on corn and on wheat separately, and save the results (results are a list)\n",
    "# The argument for adfuller must be a series, so you need to include the column 'PP Index 1982'\n",
    "\n",
    "# Import the adfuller module from statsmodels\n",
    "from statsmodels.tsa.stattools import adfuller\n",
    "\n",
    "# Compute the ADF for corn and wheat\n",
    "result_corn = adfuller(corn['PP Index 1982'])\n",
    "print(\"The p-value for the ADF test on corn is \", result_corn[1])\n",
    "result_wheat = adfuller(wheat['PP Index 1982'])\n",
    "print(\"The p-value for the ADF test on wheat is \", result_wheat[1])\n",
    "\n",
    "# Compute the ADF of the spread\n",
    "result_spread = adfuller(wheat['PP Index 1982'] - corn['PP Index 1982'])\n",
    "print(\"The p-value for the ADF test on the spread is \", result_spread[1])"
   ]
  },
  {
   "cell_type": "markdown",
   "metadata": {},
   "source": [
    "From the AD Fuller tests for each series, the null hypothesis can be rejected for non-stationarity.  These two series must be stationary.\n",
    "\n",
    "For the AD Fuller test of the spread between the two series, it is also stationary, given p-value of roughly 0.00. Hence, the two series are cointegrated. This means that the spread has constant mean throughout time."
   ]
  },
  {
   "cell_type": "markdown",
   "metadata": {},
   "source": [
    "### Search Terms \"republicans\" and \"democrats\""
   ]
  },
  {
   "cell_type": "code",
   "execution_count": 7,
   "metadata": {},
   "outputs": [],
   "source": [
    "#  https://trends.google.com/trends/explore?date=all&geo=US&q=Republicans,Democrats\n",
    "# Google search terms for the words \"republicans\" and \"democrats\"\n",
    "# Period is 2004 - present(2019/10/20)\n",
    "# Data reflect the number of times the words were google searched per month\n",
    "\n",
    "import pandas as pd\n",
    "import matplotlib.pyplot as plot\n",
    "rep_dem = pd.read_csv(\"/Users/karenyang/Desktop/section_5/rep_dem.csv\", skiprows=1)\n",
    "df = rep_dem"
   ]
  },
  {
   "cell_type": "code",
   "execution_count": 8,
   "metadata": {},
   "outputs": [],
   "source": [
    "# Rename columns\n",
    "col_names = ['Month','Republicans', 'Democrats']\n",
    "df.columns = col_names"
   ]
  },
  {
   "cell_type": "code",
   "execution_count": 9,
   "metadata": {},
   "outputs": [],
   "source": [
    "from datetime import datetime\n",
    "\n",
    "# Convert the date index to datetime\n",
    "df['Month'] = pd.to_datetime(df['Month'], infer_datetime_format=True)"
   ]
  },
  {
   "cell_type": "code",
   "execution_count": 10,
   "metadata": {},
   "outputs": [],
   "source": [
    "# Set the 'Date' as index\n",
    "df.set_index('Month', inplace=True)"
   ]
  },
  {
   "cell_type": "code",
   "execution_count": 11,
   "metadata": {},
   "outputs": [
    {
     "data": {
      "text/html": [
       "<div>\n",
       "<style scoped>\n",
       "    .dataframe tbody tr th:only-of-type {\n",
       "        vertical-align: middle;\n",
       "    }\n",
       "\n",
       "    .dataframe tbody tr th {\n",
       "        vertical-align: top;\n",
       "    }\n",
       "\n",
       "    .dataframe thead th {\n",
       "        text-align: right;\n",
       "    }\n",
       "</style>\n",
       "<table border=\"1\" class=\"dataframe\">\n",
       "  <thead>\n",
       "    <tr style=\"text-align: right;\">\n",
       "      <th></th>\n",
       "      <th>Republicans</th>\n",
       "      <th>Democrats</th>\n",
       "    </tr>\n",
       "    <tr>\n",
       "      <th>Month</th>\n",
       "      <th></th>\n",
       "      <th></th>\n",
       "    </tr>\n",
       "  </thead>\n",
       "  <tbody>\n",
       "    <tr>\n",
       "      <td>2004-01-01</td>\n",
       "      <td>27</td>\n",
       "      <td>39</td>\n",
       "    </tr>\n",
       "    <tr>\n",
       "      <td>2004-02-01</td>\n",
       "      <td>33</td>\n",
       "      <td>39</td>\n",
       "    </tr>\n",
       "    <tr>\n",
       "      <td>2004-03-01</td>\n",
       "      <td>28</td>\n",
       "      <td>33</td>\n",
       "    </tr>\n",
       "    <tr>\n",
       "      <td>2004-04-01</td>\n",
       "      <td>25</td>\n",
       "      <td>29</td>\n",
       "    </tr>\n",
       "    <tr>\n",
       "      <td>2004-05-01</td>\n",
       "      <td>23</td>\n",
       "      <td>25</td>\n",
       "    </tr>\n",
       "  </tbody>\n",
       "</table>\n",
       "</div>"
      ],
      "text/plain": [
       "            Republicans  Democrats\n",
       "Month                             \n",
       "2004-01-01           27         39\n",
       "2004-02-01           33         39\n",
       "2004-03-01           28         33\n",
       "2004-04-01           25         29\n",
       "2004-05-01           23         25"
      ]
     },
     "execution_count": 11,
     "metadata": {},
     "output_type": "execute_result"
    }
   ],
   "source": [
    "df.head()"
   ]
  },
  {
   "cell_type": "code",
   "execution_count": 12,
   "metadata": {},
   "outputs": [
    {
     "data": {
      "image/png": "[encoded data removed]",
      "text/plain": [
       "<Figure size 432x288 with 2 Axes>"
      ]
     },
     "metadata": {
      "needs_background": "light"
     },
     "output_type": "display_data"
    }
   ],
   "source": [
    "# Plot the term counts separately\n",
    "from pandas.plotting import register_matplotlib_converters\n",
    "register_matplotlib_converters()\n",
    "\n",
    "import matplotlib.pyplot as plt\n",
    "\n",
    "plt.subplot(2,1,1)\n",
    "plt.plot(df['Republicans'], label='Republicans')\n",
    "plt.plot(df['Democrats'], label='Democrats')\n",
    "plt.legend(loc='best', fontsize='small')\n",
    "\n",
    "# Plot the spread\n",
    "plt.subplot(2,1,2)\n",
    "plt.plot(df['Republicans'] - df['Democrats'], label='Spread')\n",
    "plt.legend(loc='best', fontsize='small')\n",
    "plt.axhline(y=0, linestyle='--', color='k')\n",
    "plt.show()"
   ]
  },
  {
   "cell_type": "code",
   "execution_count": 13,
   "metadata": {},
   "outputs": [
    {
     "name": "stdout",
     "output_type": "stream",
     "text": [
      "The p-value for the ADF test on Republicans is  5.053974315259397e-09\n",
      "The p-value for the ADF test on Democrats is  2.004276018238106e-08\n",
      "The p-value for the ADF test on the spread is  0.0453976293472227\n"
     ]
    }
   ],
   "source": [
    "# Perform the adfuller test separately, and save the results (results are a list)\n",
    "\n",
    "\n",
    "# Import the adfuller module from statsmodels\n",
    "from statsmodels.tsa.stattools import adfuller\n",
    "\n",
    "# Compute the ADF on each series\n",
    "result_reps = adfuller(df['Republicans'])\n",
    "print(\"The p-value for the ADF test on Republicans is \", result_reps[1])\n",
    "result_dems = adfuller(df['Democrats'])\n",
    "print(\"The p-value for the ADF test on Democrats is \", result_dems[1])\n",
    "\n",
    "# Compute the ADF of the spread\n",
    "result_spread = adfuller(df['Republicans'] - df['Democrats'])\n",
    "print(\"The p-value for the ADF test on the spread is \", result_spread[1])"
   ]
  },
  {
   "cell_type": "markdown",
   "metadata": {},
   "source": [
    "Again, both series show statistical significance such that the null hypothesis can be rejected. We can claim that the two series, individually, are stationary.  The p-value for the spread is very close to 0.05 but it does not surpass the cutoff of 0.05. We say that the spread is stationary as well, hence the two series are cointegrated."
   ]
  },
  {
   "cell_type": "markdown",
   "metadata": {},
   "source": [
    "## Non-Stationary Series with Cointegration"
   ]
  },
  {
   "cell_type": "markdown",
   "metadata": {},
   "source": [
    "### Search Terms for \"flour\" and \"gluten free\""
   ]
  },
  {
   "cell_type": "code",
   "execution_count": 14,
   "metadata": {},
   "outputs": [
    {
     "data": {
      "text/html": [
       "<div>\n",
       "<style scoped>\n",
       "    .dataframe tbody tr th:only-of-type {\n",
       "        vertical-align: middle;\n",
       "    }\n",
       "\n",
       "    .dataframe tbody tr th {\n",
       "        vertical-align: top;\n",
       "    }\n",
       "\n",
       "    .dataframe thead th {\n",
       "        text-align: right;\n",
       "    }\n",
       "</style>\n",
       "<table border=\"1\" class=\"dataframe\">\n",
       "  <thead>\n",
       "    <tr style=\"text-align: right;\">\n",
       "      <th></th>\n",
       "      <th>Month</th>\n",
       "      <th>flour: (United States)</th>\n",
       "      <th>gluten free: (United States)</th>\n",
       "    </tr>\n",
       "  </thead>\n",
       "  <tbody>\n",
       "    <tr>\n",
       "      <td>0</td>\n",
       "      <td>2013-10</td>\n",
       "      <td>46</td>\n",
       "      <td>88</td>\n",
       "    </tr>\n",
       "    <tr>\n",
       "      <td>1</td>\n",
       "      <td>2013-11</td>\n",
       "      <td>55</td>\n",
       "      <td>100</td>\n",
       "    </tr>\n",
       "    <tr>\n",
       "      <td>2</td>\n",
       "      <td>2013-12</td>\n",
       "      <td>54</td>\n",
       "      <td>92</td>\n",
       "    </tr>\n",
       "    <tr>\n",
       "      <td>3</td>\n",
       "      <td>2014-01</td>\n",
       "      <td>55</td>\n",
       "      <td>93</td>\n",
       "    </tr>\n",
       "    <tr>\n",
       "      <td>4</td>\n",
       "      <td>2014-02</td>\n",
       "      <td>51</td>\n",
       "      <td>89</td>\n",
       "    </tr>\n",
       "  </tbody>\n",
       "</table>\n",
       "</div>"
      ],
      "text/plain": [
       "     Month  flour: (United States)  gluten free: (United States)\n",
       "0  2013-10                      46                            88\n",
       "1  2013-11                      55                           100\n",
       "2  2013-12                      54                            92\n",
       "3  2014-01                      55                            93\n",
       "4  2014-02                      51                            89"
      ]
     },
     "execution_count": 14,
     "metadata": {},
     "output_type": "execute_result"
    }
   ],
   "source": [
    "#  https://trends.google.com/trends/explore?date=2013-09-11%202019-10-11&geo=US&q=flour,gluten%20free\n",
    "# Google search terms for the words \"flour\" and \"gluten free\"\n",
    "# Period is 9/11/13 to 10/11/2019\n",
    "# Data reflect the number of times the words were google searched per month\n",
    "\n",
    "import pandas as pd\n",
    "import matplotlib.pyplot as plot\n",
    "df = pd.read_csv(\"/Users/karenyang/Desktop/section_5/flour.csv\", skiprows=1)\n",
    "df.head()"
   ]
  },
  {
   "cell_type": "code",
   "execution_count": 15,
   "metadata": {},
   "outputs": [],
   "source": [
    "# Rename columns\n",
    "col_names = ['Month','flour', 'gluten_free']\n",
    "df.columns = col_names"
   ]
  },
  {
   "cell_type": "code",
   "execution_count": 16,
   "metadata": {},
   "outputs": [],
   "source": [
    "from datetime import datetime\n",
    "\n",
    "# Convert the date index to datetime\n",
    "df['Month'] = pd.to_datetime(df['Month'], infer_datetime_format=True)"
   ]
  },
  {
   "cell_type": "code",
   "execution_count": 17,
   "metadata": {},
   "outputs": [],
   "source": [
    "# Set the 'Date' as index\n",
    "df.set_index('Month', inplace=True)"
   ]
  },
  {
   "cell_type": "code",
   "execution_count": 18,
   "metadata": {},
   "outputs": [
    {
     "data": {
      "image/png": "[encoded data removed]",
      "text/plain": [
       "<Figure size 432x288 with 2 Axes>"
      ]
     },
     "metadata": {
      "needs_background": "light"
     },
     "output_type": "display_data"
    }
   ],
   "source": [
    "# Plot separately the search terms\n",
    "import matplotlib.pyplot as plt\n",
    "\n",
    "plt.subplot(2,1,1)\n",
    "plt.plot(df['flour'], label='Flour')\n",
    "plt.plot(df['gluten_free'], label='Gluten Free')\n",
    "plt.legend(loc='best', fontsize='small')\n",
    "\n",
    "# Plot the spread\n",
    "plt.subplot(2,1,2)\n",
    "plt.plot(df['flour'] - df['gluten_free'], label='Spread')\n",
    "plt.legend(loc='best', fontsize='small')\n",
    "plt.axhline(y=0, linestyle='--', color='brown')\n",
    "plt.show()\n"
   ]
  },
  {
   "cell_type": "code",
   "execution_count": 19,
   "metadata": {},
   "outputs": [
    {
     "name": "stdout",
     "output_type": "stream",
     "text": [
      "The p-value for the ADF test on flour is  0.9765218098980625\n",
      "The p-value for the ADF test on gluten-free is  0.4705661180798901\n",
      "The p-value for the ADF test on the spread is  0.03775586281135462\n"
     ]
    }
   ],
   "source": [
    "# Perform the adfuller test on flour and on gluten free separately, \n",
    "# and save the results (results are a list)\n",
    "\n",
    "# Import the adfuller module from statsmodels\n",
    "from statsmodels.tsa.stattools import adfuller\n",
    "\n",
    "# Compute the ADF for flour and gluten_free\n",
    "result_flour = adfuller(df['flour'])\n",
    "print(\"The p-value for the ADF test on flour is \", result_flour[1])\n",
    "result_glutenfree = adfuller(df['gluten_free'])\n",
    "print(\"The p-value for the ADF test on gluten-free is \", result_glutenfree[1])\n",
    "\n",
    "# Compute the ADF of the spread\n",
    "result_spread = adfuller(df['flour'] - df['gluten_free'])\n",
    "print(\"The p-value for the ADF test on the spread is \", result_spread[1])"
   ]
  },
  {
   "cell_type": "markdown",
   "metadata": {},
   "source": [
    "Both the p-values for the individual series exceed the 0.05 statistical significance level.  We, therefore cannot reject the null hypothesis.  The two series must be non-stationary.  When we look at the spread between the two series, that series has a p-value of under 0.05.  We can reject the null hypothesis of non-stationary. The series for the spread between flour and gluten free must be stationary.  Therefore, the two series are cointegrated."
   ]
  },
  {
   "cell_type": "markdown",
   "metadata": {},
   "source": [
    "This is an interesting case where you can see two non-stationary series but they have a spread that is stationary."
   ]
  },
  {
   "cell_type": "markdown",
   "metadata": {},
   "source": [
    "## Non-Stationary Series and No Cointegration"
   ]
  },
  {
   "cell_type": "markdown",
   "metadata": {},
   "source": [
    "### Adjusted Closing Price for Spotify and Netflix"
   ]
  },
  {
   "cell_type": "code",
   "execution_count": 20,
   "metadata": {},
   "outputs": [],
   "source": [
    "# pip install pandas_datareader in the terminal if you receive a \"No module\" error\n",
    "import pandas_datareader\n",
    "from pandas_datareader import data\n",
    "import matplotlib.pyplot as plt\n",
    "import pandas as pd"
   ]
  },
  {
   "cell_type": "code",
   "execution_count": null,
   "metadata": {},
   "outputs": [],
   "source": [
    "# Get Data\n",
    "# df = data.DataReader([\"SPOT\",\"NFLX\"],\n",
    "#                       start='2018-07-1', \n",
    "#                      end='2019-10-08', \n",
    "#                      data_source='yahoo')['Adj Close']\n",
    "\n",
    "# df.plot(title='Adj. Closing Price')\n",
    "\n",
    "# df = pd.DataFrame(df)\n",
    "# df.to_csv('SpotifyNetflix.csv')"
   ]
  },
  {
   "cell_type": "code",
   "execution_count": 21,
   "metadata": {},
   "outputs": [],
   "source": [
    "df = pd.read_csv('/Users/karenyang/Desktop/section_5/SpotifyNetflix.csv')"
   ]
  },
  {
   "cell_type": "code",
   "execution_count": 22,
   "metadata": {},
   "outputs": [
    {
     "data": {
      "text/html": [
       "<div>\n",
       "<style scoped>\n",
       "    .dataframe tbody tr th:only-of-type {\n",
       "        vertical-align: middle;\n",
       "    }\n",
       "\n",
       "    .dataframe tbody tr th {\n",
       "        vertical-align: top;\n",
       "    }\n",
       "\n",
       "    .dataframe thead th {\n",
       "        text-align: right;\n",
       "    }\n",
       "</style>\n",
       "<table border=\"1\" class=\"dataframe\">\n",
       "  <thead>\n",
       "    <tr style=\"text-align: right;\">\n",
       "      <th></th>\n",
       "      <th>Date</th>\n",
       "      <th>NFLX</th>\n",
       "      <th>SPOT</th>\n",
       "    </tr>\n",
       "  </thead>\n",
       "  <tbody>\n",
       "    <tr>\n",
       "      <td>0</td>\n",
       "      <td>2018-07-02</td>\n",
       "      <td>398.179993</td>\n",
       "      <td>170.690002</td>\n",
       "    </tr>\n",
       "    <tr>\n",
       "      <td>1</td>\n",
       "      <td>2018-07-03</td>\n",
       "      <td>390.519989</td>\n",
       "      <td>168.660004</td>\n",
       "    </tr>\n",
       "    <tr>\n",
       "      <td>2</td>\n",
       "      <td>2018-07-05</td>\n",
       "      <td>398.390015</td>\n",
       "      <td>176.440002</td>\n",
       "    </tr>\n",
       "    <tr>\n",
       "      <td>3</td>\n",
       "      <td>2018-07-06</td>\n",
       "      <td>408.250000</td>\n",
       "      <td>175.699997</td>\n",
       "    </tr>\n",
       "    <tr>\n",
       "      <td>4</td>\n",
       "      <td>2018-07-09</td>\n",
       "      <td>418.970001</td>\n",
       "      <td>177.440002</td>\n",
       "    </tr>\n",
       "  </tbody>\n",
       "</table>\n",
       "</div>"
      ],
      "text/plain": [
       "         Date        NFLX        SPOT\n",
       "0  2018-07-02  398.179993  170.690002\n",
       "1  2018-07-03  390.519989  168.660004\n",
       "2  2018-07-05  398.390015  176.440002\n",
       "3  2018-07-06  408.250000  175.699997\n",
       "4  2018-07-09  418.970001  177.440002"
      ]
     },
     "execution_count": 22,
     "metadata": {},
     "output_type": "execute_result"
    }
   ],
   "source": [
    "df.head()"
   ]
  },
  {
   "cell_type": "code",
   "execution_count": 23,
   "metadata": {},
   "outputs": [],
   "source": [
    "from datetime import datetime\n",
    "# Convert the date index to datetime\n",
    "df['Date'] = pd.to_datetime(df['Date'], infer_datetime_format=True)"
   ]
  },
  {
   "cell_type": "code",
   "execution_count": 24,
   "metadata": {},
   "outputs": [],
   "source": [
    "df.set_index('Date', inplace=True)"
   ]
  },
  {
   "cell_type": "code",
   "execution_count": 25,
   "metadata": {},
   "outputs": [
    {
     "data": {
      "text/html": [
       "<div>\n",
       "<style scoped>\n",
       "    .dataframe tbody tr th:only-of-type {\n",
       "        vertical-align: middle;\n",
       "    }\n",
       "\n",
       "    .dataframe tbody tr th {\n",
       "        vertical-align: top;\n",
       "    }\n",
       "\n",
       "    .dataframe thead th {\n",
       "        text-align: right;\n",
       "    }\n",
       "</style>\n",
       "<table border=\"1\" class=\"dataframe\">\n",
       "  <thead>\n",
       "    <tr style=\"text-align: right;\">\n",
       "      <th></th>\n",
       "      <th>NFLX</th>\n",
       "      <th>SPOT</th>\n",
       "    </tr>\n",
       "    <tr>\n",
       "      <th>Date</th>\n",
       "      <th></th>\n",
       "      <th></th>\n",
       "    </tr>\n",
       "  </thead>\n",
       "  <tbody>\n",
       "    <tr>\n",
       "      <td>2018-07-02</td>\n",
       "      <td>398.179993</td>\n",
       "      <td>170.690002</td>\n",
       "    </tr>\n",
       "    <tr>\n",
       "      <td>2018-07-03</td>\n",
       "      <td>390.519989</td>\n",
       "      <td>168.660004</td>\n",
       "    </tr>\n",
       "    <tr>\n",
       "      <td>2018-07-05</td>\n",
       "      <td>398.390015</td>\n",
       "      <td>176.440002</td>\n",
       "    </tr>\n",
       "    <tr>\n",
       "      <td>2018-07-06</td>\n",
       "      <td>408.250000</td>\n",
       "      <td>175.699997</td>\n",
       "    </tr>\n",
       "    <tr>\n",
       "      <td>2018-07-09</td>\n",
       "      <td>418.970001</td>\n",
       "      <td>177.440002</td>\n",
       "    </tr>\n",
       "  </tbody>\n",
       "</table>\n",
       "</div>"
      ],
      "text/plain": [
       "                  NFLX        SPOT\n",
       "Date                              \n",
       "2018-07-02  398.179993  170.690002\n",
       "2018-07-03  390.519989  168.660004\n",
       "2018-07-05  398.390015  176.440002\n",
       "2018-07-06  408.250000  175.699997\n",
       "2018-07-09  418.970001  177.440002"
      ]
     },
     "execution_count": 25,
     "metadata": {},
     "output_type": "execute_result"
    }
   ],
   "source": [
    "df.head()"
   ]
  },
  {
   "cell_type": "code",
   "execution_count": 26,
   "metadata": {},
   "outputs": [
    {
     "data": {
      "image/png": "[encoded data removed]",
      "text/plain": [
       "<Figure size 432x288 with 2 Axes>"
      ]
     },
     "metadata": {
      "needs_background": "light"
     },
     "output_type": "display_data"
    }
   ],
   "source": [
    "# Plot the prices separately\n",
    "from pandas.plotting import register_matplotlib_converters\n",
    "register_matplotlib_converters()\n",
    "\n",
    "import matplotlib.pyplot as plt\n",
    "\n",
    "plt.subplot(2,1,1)\n",
    "plt.plot(df['NFLX'], label='NFLX')\n",
    "plt.plot(df['SPOT'], label='SPOT')\n",
    "plt.legend(loc='best', fontsize='small')\n",
    "\n",
    "# Plot the spread\n",
    "plt.subplot(2,1,2)\n",
    "plt.plot(df['NFLX'] - df['SPOT'], label='Spread')\n",
    "plt.legend(loc='best', fontsize='small')\n",
    "plt.axhline(y=0, linestyle='--', color='k')\n",
    "plt.show()"
   ]
  },
  {
   "cell_type": "code",
   "execution_count": 27,
   "metadata": {},
   "outputs": [
    {
     "name": "stdout",
     "output_type": "stream",
     "text": [
      "The p-value for the ADF test on Netflix is  0.3017111292054997\n",
      "The p-value for the ADF test on Spotify is  0.6506418144855737\n",
      "The p-value for the ADF test on the spread is  0.2308864031399433\n"
     ]
    }
   ],
   "source": [
    "# Perform the adfuller test separately\n",
    "# Import the adfuller module from statsmodels\n",
    "from statsmodels.tsa.stattools import adfuller\n",
    "\n",
    "# Compute the ADF on each series\n",
    "result_nflx = adfuller(df['NFLX'])\n",
    "print(\"The p-value for the ADF test on Netflix is \", result_nflx[1])\n",
    "result_spot = adfuller(df['SPOT'])\n",
    "print(\"The p-value for the ADF test on Spotify is \", result_spot[1])\n",
    "\n",
    "# Compute the ADF of the spread\n",
    "result_spread = adfuller(df['NFLX'] - df['SPOT'])\n",
    "print(\"The p-value for the ADF test on the spread is \", result_spread[1])"
   ]
  },
  {
   "cell_type": "markdown",
   "metadata": {},
   "source": [
    "You can see that there is no statistical significance for the p-values.  The null hypothesis cannot be rejected.  Both series are non-stationary. The spread between the two is also non-stationary. There is no stationarity and no cointegration."
   ]
  },
  {
   "cell_type": "markdown",
   "metadata": {},
   "source": [
    "### Adjusted Closing Price for Bank of America and J.P. Morgan"
   ]
  },
  {
   "cell_type": "code",
   "execution_count": 28,
   "metadata": {},
   "outputs": [
    {
     "data": {
      "text/html": [
       "<div>\n",
       "<style scoped>\n",
       "    .dataframe tbody tr th:only-of-type {\n",
       "        vertical-align: middle;\n",
       "    }\n",
       "\n",
       "    .dataframe tbody tr th {\n",
       "        vertical-align: top;\n",
       "    }\n",
       "\n",
       "    .dataframe thead th {\n",
       "        text-align: right;\n",
       "    }\n",
       "</style>\n",
       "<table border=\"1\" class=\"dataframe\">\n",
       "  <thead>\n",
       "    <tr style=\"text-align: right;\">\n",
       "      <th></th>\n",
       "      <th>Adj Close Price</th>\n",
       "    </tr>\n",
       "    <tr>\n",
       "      <th>Date</th>\n",
       "      <th></th>\n",
       "    </tr>\n",
       "  </thead>\n",
       "  <tbody>\n",
       "    <tr>\n",
       "      <td>1990-01-02</td>\n",
       "      <td>1.711862</td>\n",
       "    </tr>\n",
       "    <tr>\n",
       "      <td>1990-01-03</td>\n",
       "      <td>1.725632</td>\n",
       "    </tr>\n",
       "    <tr>\n",
       "      <td>1990-01-04</td>\n",
       "      <td>1.688917</td>\n",
       "    </tr>\n",
       "    <tr>\n",
       "      <td>1990-01-05</td>\n",
       "      <td>1.652200</td>\n",
       "    </tr>\n",
       "    <tr>\n",
       "      <td>1990-01-08</td>\n",
       "      <td>1.661379</td>\n",
       "    </tr>\n",
       "  </tbody>\n",
       "</table>\n",
       "</div>"
      ],
      "text/plain": [
       "            Adj Close Price\n",
       "Date                       \n",
       "1990-01-02         1.711862\n",
       "1990-01-03         1.725632\n",
       "1990-01-04         1.688917\n",
       "1990-01-05         1.652200\n",
       "1990-01-08         1.661379"
      ]
     },
     "execution_count": 28,
     "metadata": {},
     "output_type": "execute_result"
    }
   ],
   "source": [
    "bac = pd.read_csv(\"/Users/karenyang/Desktop/section_2/df_bankofamerica.csv\", index_col=0, parse_dates=True)\n",
    "bac.head()"
   ]
  },
  {
   "cell_type": "code",
   "execution_count": 29,
   "metadata": {},
   "outputs": [
    {
     "data": {
      "text/html": [
       "<div>\n",
       "<style scoped>\n",
       "    .dataframe tbody tr th:only-of-type {\n",
       "        vertical-align: middle;\n",
       "    }\n",
       "\n",
       "    .dataframe tbody tr th {\n",
       "        vertical-align: top;\n",
       "    }\n",
       "\n",
       "    .dataframe thead th {\n",
       "        text-align: right;\n",
       "    }\n",
       "</style>\n",
       "<table border=\"1\" class=\"dataframe\">\n",
       "  <thead>\n",
       "    <tr style=\"text-align: right;\">\n",
       "      <th></th>\n",
       "      <th>Adj Close Price</th>\n",
       "    </tr>\n",
       "    <tr>\n",
       "      <th>Date</th>\n",
       "      <th></th>\n",
       "    </tr>\n",
       "  </thead>\n",
       "  <tbody>\n",
       "    <tr>\n",
       "      <td>1990-01-02</td>\n",
       "      <td>3.610043</td>\n",
       "    </tr>\n",
       "    <tr>\n",
       "      <td>1990-01-03</td>\n",
       "      <td>3.730377</td>\n",
       "    </tr>\n",
       "    <tr>\n",
       "      <td>1990-01-04</td>\n",
       "      <td>3.745418</td>\n",
       "    </tr>\n",
       "    <tr>\n",
       "      <td>1990-01-05</td>\n",
       "      <td>3.760463</td>\n",
       "    </tr>\n",
       "    <tr>\n",
       "      <td>1990-01-08</td>\n",
       "      <td>3.760463</td>\n",
       "    </tr>\n",
       "  </tbody>\n",
       "</table>\n",
       "</div>"
      ],
      "text/plain": [
       "            Adj Close Price\n",
       "Date                       \n",
       "1990-01-02         3.610043\n",
       "1990-01-03         3.730377\n",
       "1990-01-04         3.745418\n",
       "1990-01-05         3.760463\n",
       "1990-01-08         3.760463"
      ]
     },
     "execution_count": 29,
     "metadata": {},
     "output_type": "execute_result"
    }
   ],
   "source": [
    "jpm = pd.read_csv(\"/Users/karenyang/Desktop/section_2/df_jpmorgan.csv\", index_col=0, parse_dates=True)\n",
    "jpm.head()"
   ]
  },
  {
   "cell_type": "code",
   "execution_count": 30,
   "metadata": {},
   "outputs": [
    {
     "data": {
      "image/png": "[encoded data removed]",
      "text/plain": [
       "<Figure size 432x288 with 2 Axes>"
      ]
     },
     "metadata": {
      "needs_background": "light"
     },
     "output_type": "display_data"
    }
   ],
   "source": [
    "# Plot the prices separately\n",
    "import matplotlib.pyplot as plt\n",
    "from pandas.plotting import register_matplotlib_converters\n",
    "register_matplotlib_converters()\n",
    "\n",
    "plt.subplot(2,1,1)\n",
    "plt.plot(bac['Adj Close Price'], label='Bank of America')\n",
    "plt.plot(jpm['Adj Close Price'], label='J.P. Morgan')\n",
    "plt.legend(loc='best', fontsize='small')\n",
    "\n",
    "# Plot the spread\n",
    "plt.subplot(2,1,2)\n",
    "plt.plot(bac['Adj Close Price'] - jpm['Adj Close Price'], label='Spread')\n",
    "plt.legend(loc='best', fontsize='small')\n",
    "plt.axhline(y=0, linestyle='-', color='m')\n",
    "plt.show()"
   ]
  },
  {
   "cell_type": "code",
   "execution_count": 31,
   "metadata": {},
   "outputs": [
    {
     "name": "stdout",
     "output_type": "stream",
     "text": [
      "The p-value for the ADF test on Bank of America is  0.5868342861435758\n",
      "The p-value for the ADF test on J.P Morgan is  0.9987206354151786\n",
      "The p-value for the ADF test on the spread is  0.9990118862762799\n"
     ]
    }
   ],
   "source": [
    "# Import the adfuller module from statsmodels\n",
    "from statsmodels.tsa.stattools import adfuller\n",
    "\n",
    "# Compute the ADF for bac and JPM\n",
    "result_bac = adfuller(bac['Adj Close Price'])\n",
    "print(\"The p-value for the ADF test on Bank of America is \", result_bac[1])\n",
    "result_jpm = adfuller(jpm['Adj Close Price'])\n",
    "print(\"The p-value for the ADF test on J.P Morgan is \", result_jpm[1])\n",
    "\n",
    "# Compute the ADF of the spread\n",
    "result_spread = adfuller(bac['Adj Close Price'] - jpm['Adj Close Price'])\n",
    "print(\"The p-value for the ADF test on the spread is \", result_spread[1])\n"
   ]
  },
  {
   "cell_type": "markdown",
   "metadata": {},
   "source": [
    "Again, we have non-stationarity for both series and the difference between them, namely the spread. Hence, the two series are not cointegrated with the p-value far exceeding the 0.05 threshold. The spread is not stationary."
   ]
  },
  {
   "cell_type": "code",
   "execution_count": null,
   "metadata": {},
   "outputs": [],
   "source": [
    "# end"
   ]
  }
 ],
 "metadata": {
  "kernelspec": {
   "display_name": "Python 3",
   "language": "python",
   "name": "python3"
  },
  "language_info": {
   "codemirror_mode": {
    "name": "ipython",
    "version": 3
   },
   "file_extension": ".py",
   "mimetype": "text/x-python",
   "name": "python",
   "nbconvert_exporter": "python",
   "pygments_lexer": "ipython3",
   "version": "3.7.4"
  }
 },
 "nbformat": 4,
 "nbformat_minor": 2
}
