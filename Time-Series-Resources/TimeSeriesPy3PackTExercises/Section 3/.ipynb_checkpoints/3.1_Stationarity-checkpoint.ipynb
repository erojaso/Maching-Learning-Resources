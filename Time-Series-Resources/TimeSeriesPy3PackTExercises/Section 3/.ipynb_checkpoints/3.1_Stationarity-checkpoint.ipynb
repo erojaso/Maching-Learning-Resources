{
 "cells": [
  {
   "cell_type": "markdown",
   "metadata": {},
   "source": [
    "# Stationarity in Time Series Data"
   ]
  },
  {
   "cell_type": "markdown",
   "metadata": {},
   "source": [
    "## Stationarity\n",
    "In certain situations, you may need to make stationary your data, though there are no hard and fast rules.  You can achieve stationarity when you remove trend and seasonality such that you have constant mean and variance. In particular data domains and situations, your time series should be stationary before applying any analysis. Be aware that \"weakly\" stationary can also be acceptable. You can always work with the original data and compare results against the data that has been made stationary. "
   ]
  },
  {
   "cell_type": "markdown",
   "metadata": {},
   "source": [
    "Let's check for stationarity of our transformed datasets."
   ]
  },
  {
   "cell_type": "markdown",
   "metadata": {},
   "source": [
    " "
   ]
  },
  {
   "cell_type": "code",
   "execution_count": 1,
   "metadata": {},
   "outputs": [],
   "source": [
    "import pandas as pd\n",
    "from pandas import read_csv\n",
    "from matplotlib import pyplot"
   ]
  },
  {
   "cell_type": "markdown",
   "metadata": {},
   "source": [
    "## Augmented Dickey-Fuller Test"
   ]
  },
  {
   "cell_type": "markdown",
   "metadata": {},
   "source": [
    "To model a time series, it can be stationary or weakly stationary. The distribution of the data does not change over time.  The series has zero trend, the variance is constant, and the autocorrelation is constant. The augmented Dickey-Fuller Test is a statistical test for non-stationarity. The null hypothesis is that the time series is non-stationary due to trend.  "
   ]
  },
  {
   "cell_type": "code",
   "execution_count": 2,
   "metadata": {},
   "outputs": [],
   "source": [
    "from statsmodels.tsa.stattools import adfuller"
   ]
  },
  {
   "cell_type": "markdown",
   "metadata": {},
   "source": [
    "The more negative the test-statistic, then it is more likely that the data is stationary.  For the p-value, if it is small such that it is below 0.05, then we reject the null hypothesis. This means we assume that the time series must be stationary. For the critical values, if we want a p-value of 0.05 or below, our test statistic needs to be below the corresponding critical value."
   ]
  },
  {
   "cell_type": "code",
   "execution_count": 3,
   "metadata": {},
   "outputs": [
    {
     "data": {
      "text/html": [
       "<div>\n",
       "<style scoped>\n",
       "    .dataframe tbody tr th:only-of-type {\n",
       "        vertical-align: middle;\n",
       "    }\n",
       "\n",
       "    .dataframe tbody tr th {\n",
       "        vertical-align: top;\n",
       "    }\n",
       "\n",
       "    .dataframe thead th {\n",
       "        text-align: right;\n",
       "    }\n",
       "</style>\n",
       "<table border=\"1\" class=\"dataframe\">\n",
       "  <thead>\n",
       "    <tr style=\"text-align: right;\">\n",
       "      <th></th>\n",
       "      <th>first_diff</th>\n",
       "    </tr>\n",
       "    <tr>\n",
       "      <th>Month</th>\n",
       "      <th></th>\n",
       "    </tr>\n",
       "  </thead>\n",
       "  <tbody>\n",
       "    <tr>\n",
       "      <td>2004-04-01</td>\n",
       "      <td>-7.0</td>\n",
       "    </tr>\n",
       "    <tr>\n",
       "      <td>2004-05-01</td>\n",
       "      <td>10.0</td>\n",
       "    </tr>\n",
       "    <tr>\n",
       "      <td>2004-06-01</td>\n",
       "      <td>9.0</td>\n",
       "    </tr>\n",
       "    <tr>\n",
       "      <td>2004-07-01</td>\n",
       "      <td>-2.0</td>\n",
       "    </tr>\n",
       "    <tr>\n",
       "      <td>2004-08-01</td>\n",
       "      <td>-17.0</td>\n",
       "    </tr>\n",
       "  </tbody>\n",
       "</table>\n",
       "</div>"
      ],
      "text/plain": [
       "            first_diff\n",
       "Month                 \n",
       "2004-04-01        -7.0\n",
       "2004-05-01        10.0\n",
       "2004-06-01         9.0\n",
       "2004-07-01        -2.0\n",
       "2004-08-01       -17.0"
      ]
     },
     "execution_count": 3,
     "metadata": {},
     "output_type": "execute_result"
    }
   ],
   "source": [
    "# Example 1:  Vacation data, first difference\n",
    "\n",
    "vacation = pd.read_csv(\"~/Desktop/section_3/vacation_firstdiff.csv\", index_col='Month', parse_dates=True)\n",
    "vacation.head()"
   ]
  },
  {
   "cell_type": "code",
   "execution_count": 4,
   "metadata": {},
   "outputs": [
    {
     "name": "stdout",
     "output_type": "stream",
     "text": [
      "-3.640502950097702\n",
      "0.005032272908021572\n",
      "{'1%': -3.4687256239864017, '5%': -2.8783961376954363, '10%': -2.57575634100705}\n"
     ]
    }
   ],
   "source": [
    "# Run test\n",
    "vacation_result = adfuller(vacation['first_diff'])\n",
    "\n",
    "# Print test statistic\n",
    "print(vacation_result[0])\n",
    "\n",
    "# Print p-value\n",
    "print(vacation_result[1])\n",
    "\n",
    "# Print critical values (critical test statistics)\n",
    "# Critical values for the test statistic at the 1 %, 5 %, and 10 % levels.\n",
    "print(vacation_result[4])"
   ]
  },
  {
   "cell_type": "markdown",
   "metadata": {},
   "source": [
    "The p-value is 0.005, which is less than  the 0.05 threshold. The absolute value of test statistic exceeds the absolute value of -2.878. We can reject the null hypothesis that our time series is non-stationary. Therefore, the series must be stationary. "
   ]
  },
  {
   "cell_type": "code",
   "execution_count": 5,
   "metadata": {},
   "outputs": [
    {
     "data": {
      "text/html": [
       "<div>\n",
       "<style scoped>\n",
       "    .dataframe tbody tr th:only-of-type {\n",
       "        vertical-align: middle;\n",
       "    }\n",
       "\n",
       "    .dataframe tbody tr th {\n",
       "        vertical-align: top;\n",
       "    }\n",
       "\n",
       "    .dataframe thead th {\n",
       "        text-align: right;\n",
       "    }\n",
       "</style>\n",
       "<table border=\"1\" class=\"dataframe\">\n",
       "  <thead>\n",
       "    <tr style=\"text-align: right;\">\n",
       "      <th></th>\n",
       "      <th>furniture_pct_change</th>\n",
       "    </tr>\n",
       "    <tr>\n",
       "      <th>Month</th>\n",
       "      <th></th>\n",
       "    </tr>\n",
       "  </thead>\n",
       "  <tbody>\n",
       "    <tr>\n",
       "      <td>1992-02-01</td>\n",
       "      <td>0.019800</td>\n",
       "    </tr>\n",
       "    <tr>\n",
       "      <td>1992-03-01</td>\n",
       "      <td>0.069088</td>\n",
       "    </tr>\n",
       "    <tr>\n",
       "      <td>1992-04-01</td>\n",
       "      <td>-0.002419</td>\n",
       "    </tr>\n",
       "    <tr>\n",
       "      <td>1992-05-01</td>\n",
       "      <td>0.033839</td>\n",
       "    </tr>\n",
       "    <tr>\n",
       "      <td>1992-06-01</td>\n",
       "      <td>0.022829</td>\n",
       "    </tr>\n",
       "  </tbody>\n",
       "</table>\n",
       "</div>"
      ],
      "text/plain": [
       "            furniture_pct_change\n",
       "Month                           \n",
       "1992-02-01              0.019800\n",
       "1992-03-01              0.069088\n",
       "1992-04-01             -0.002419\n",
       "1992-05-01              0.033839\n",
       "1992-06-01              0.022829"
      ]
     },
     "execution_count": 5,
     "metadata": {},
     "output_type": "execute_result"
    }
   ],
   "source": [
    "# Example 2:  Furniture data, percentage change\n",
    "\n",
    "furniture = pd.read_csv(\"~/Desktop/section_3/furn_pctchange.csv\", index_col='Month', parse_dates=True)\n",
    "furniture.head()"
   ]
  },
  {
   "cell_type": "code",
   "execution_count": 6,
   "metadata": {},
   "outputs": [
    {
     "name": "stdout",
     "output_type": "stream",
     "text": [
      "-3.264232903927293\n",
      "0.016554954891937087\n",
      "{'1%': -3.4514843502727306, '5%': -2.8708485956333556, '10%': -2.571729625657462}\n"
     ]
    }
   ],
   "source": [
    "# Run test\n",
    "furniture_result = adfuller(furniture['furniture_pct_change'])\n",
    "\n",
    "# Print test statistic\n",
    "print(furniture_result[0])\n",
    "\n",
    "# Print p-value\n",
    "print(furniture_result[1])\n",
    "\n",
    "# Print critical values\n",
    "print(furniture_result[4])"
   ]
  },
  {
   "cell_type": "markdown",
   "metadata": {},
   "source": [
    "The p-value is 0.0165, which is less than the 0.05 threshold.  We can reject the null hypothesis of non-stationarity. "
   ]
  },
  {
   "cell_type": "code",
   "execution_count": 7,
   "metadata": {},
   "outputs": [
    {
     "data": {
      "text/html": [
       "<div>\n",
       "<style scoped>\n",
       "    .dataframe tbody tr th:only-of-type {\n",
       "        vertical-align: middle;\n",
       "    }\n",
       "\n",
       "    .dataframe tbody tr th {\n",
       "        vertical-align: top;\n",
       "    }\n",
       "\n",
       "    .dataframe thead th {\n",
       "        text-align: right;\n",
       "    }\n",
       "</style>\n",
       "<table border=\"1\" class=\"dataframe\">\n",
       "  <thead>\n",
       "    <tr style=\"text-align: right;\">\n",
       "      <th></th>\n",
       "      <th>return</th>\n",
       "    </tr>\n",
       "    <tr>\n",
       "      <th>Date</th>\n",
       "      <th></th>\n",
       "    </tr>\n",
       "  </thead>\n",
       "  <tbody>\n",
       "    <tr>\n",
       "      <td>1990-01-14</td>\n",
       "      <td>-0.050000</td>\n",
       "    </tr>\n",
       "    <tr>\n",
       "      <td>1990-01-21</td>\n",
       "      <td>0.035088</td>\n",
       "    </tr>\n",
       "    <tr>\n",
       "      <td>1990-01-28</td>\n",
       "      <td>-0.028249</td>\n",
       "    </tr>\n",
       "    <tr>\n",
       "      <td>1990-02-04</td>\n",
       "      <td>-0.002907</td>\n",
       "    </tr>\n",
       "    <tr>\n",
       "      <td>1990-02-11</td>\n",
       "      <td>-0.017493</td>\n",
       "    </tr>\n",
       "  </tbody>\n",
       "</table>\n",
       "</div>"
      ],
      "text/plain": [
       "              return\n",
       "Date                \n",
       "1990-01-14 -0.050000\n",
       "1990-01-21  0.035088\n",
       "1990-01-28 -0.028249\n",
       "1990-02-04 -0.002907\n",
       "1990-02-11 -0.017493"
      ]
     },
     "execution_count": 7,
     "metadata": {},
     "output_type": "execute_result"
    }
   ],
   "source": [
    "# Example 3:  Bank of America stock price data, percentage change\n",
    "\n",
    "bac = pd.read_csv(\"~/Desktop/section_3/bac_return.csv\", index_col='Date', parse_dates=True)\n",
    "bac.head()"
   ]
  },
  {
   "cell_type": "code",
   "execution_count": 8,
   "metadata": {},
   "outputs": [
    {
     "name": "stdout",
     "output_type": "stream",
     "text": [
      "-9.48447333786571\n",
      "3.795233165450951e-16\n",
      "{'1%': -3.434634049963598, '5%': -2.863432142744973, '10%': -2.5677773493449725}\n"
     ]
    }
   ],
   "source": [
    "# Run test\n",
    "bac_result = adfuller(bac['return'])\n",
    "\n",
    "# Print test statistic\n",
    "print(bac_result[0])\n",
    "\n",
    "# Print p-value\n",
    "print(bac_result[1])\n",
    "\n",
    "# Print critical values\n",
    "print(bac_result[4])"
   ]
  },
  {
   "cell_type": "markdown",
   "metadata": {},
   "source": [
    "The result of the Augmented Dickey-Fuller Test shows that the p-value is below the 5% threshold and the test statistic's absolute value exceeds the absolute value of -2.861.  We can reject the null hypothesis of non-stationarity. Therefore, the series must be stationary."
   ]
  },
  {
   "cell_type": "code",
   "execution_count": 9,
   "metadata": {},
   "outputs": [
    {
     "data": {
      "text/html": [
       "<div>\n",
       "<style scoped>\n",
       "    .dataframe tbody tr th:only-of-type {\n",
       "        vertical-align: middle;\n",
       "    }\n",
       "\n",
       "    .dataframe tbody tr th {\n",
       "        vertical-align: top;\n",
       "    }\n",
       "\n",
       "    .dataframe thead th {\n",
       "        text-align: right;\n",
       "    }\n",
       "</style>\n",
       "<table border=\"1\" class=\"dataframe\">\n",
       "  <thead>\n",
       "    <tr style=\"text-align: right;\">\n",
       "      <th></th>\n",
       "      <th>return</th>\n",
       "    </tr>\n",
       "    <tr>\n",
       "      <th>Date</th>\n",
       "      <th></th>\n",
       "    </tr>\n",
       "  </thead>\n",
       "  <tbody>\n",
       "    <tr>\n",
       "      <td>1990-01-03</td>\n",
       "      <td>0.033333</td>\n",
       "    </tr>\n",
       "    <tr>\n",
       "      <td>1990-01-04</td>\n",
       "      <td>0.004032</td>\n",
       "    </tr>\n",
       "    <tr>\n",
       "      <td>1990-01-05</td>\n",
       "      <td>0.004017</td>\n",
       "    </tr>\n",
       "    <tr>\n",
       "      <td>1990-01-08</td>\n",
       "      <td>0.000000</td>\n",
       "    </tr>\n",
       "    <tr>\n",
       "      <td>1990-01-09</td>\n",
       "      <td>-0.032000</td>\n",
       "    </tr>\n",
       "  </tbody>\n",
       "</table>\n",
       "</div>"
      ],
      "text/plain": [
       "              return\n",
       "Date                \n",
       "1990-01-03  0.033333\n",
       "1990-01-04  0.004032\n",
       "1990-01-05  0.004017\n",
       "1990-01-08  0.000000\n",
       "1990-01-09 -0.032000"
      ]
     },
     "execution_count": 9,
     "metadata": {},
     "output_type": "execute_result"
    }
   ],
   "source": [
    "# Example 4:  J.P. Morgan stock price data, percentage change\n",
    "\n",
    "jpm = pd.read_csv(\"~/Desktop/section_3/jpm_return.csv\", index_col='Date', parse_dates=True)\n",
    "jpm.head()"
   ]
  },
  {
   "cell_type": "code",
   "execution_count": 10,
   "metadata": {},
   "outputs": [
    {
     "name": "stdout",
     "output_type": "stream",
     "text": [
      "-15.350414128259912\n",
      "3.72669397900783e-28\n",
      "{'1%': -3.43122570930995, '5%': -2.8619269969903733, '10%': -2.5669759941147903}\n"
     ]
    }
   ],
   "source": [
    "# Run test\n",
    "jpm_result = adfuller(jpm['return'])\n",
    "\n",
    "# Print test statistic\n",
    "print(jpm_result[0])\n",
    "\n",
    "# Print p-value\n",
    "print(jpm_result[1])\n",
    "\n",
    "# Print critical values\n",
    "print(jpm_result[4])"
   ]
  },
  {
   "cell_type": "markdown",
   "metadata": {},
   "source": [
    "Again, we can reject the null hypothesis. The series is stationary."
   ]
  },
  {
   "cell_type": "code",
   "execution_count": 11,
   "metadata": {},
   "outputs": [
    {
     "data": {
      "text/html": [
       "<div>\n",
       "<style scoped>\n",
       "    .dataframe tbody tr th:only-of-type {\n",
       "        vertical-align: middle;\n",
       "    }\n",
       "\n",
       "    .dataframe tbody tr th {\n",
       "        vertical-align: top;\n",
       "    }\n",
       "\n",
       "    .dataframe thead th {\n",
       "        text-align: right;\n",
       "    }\n",
       "</style>\n",
       "<table border=\"1\" class=\"dataframe\">\n",
       "  <thead>\n",
       "    <tr style=\"text-align: right;\">\n",
       "      <th></th>\n",
       "      <th>diff_mean</th>\n",
       "    </tr>\n",
       "    <tr>\n",
       "      <th>Date</th>\n",
       "      <th></th>\n",
       "    </tr>\n",
       "  </thead>\n",
       "  <tbody>\n",
       "    <tr>\n",
       "      <td>1938-04-01</td>\n",
       "      <td>0.050412</td>\n",
       "    </tr>\n",
       "    <tr>\n",
       "      <td>1938-05-01</td>\n",
       "      <td>8.250412</td>\n",
       "    </tr>\n",
       "    <tr>\n",
       "      <td>1938-06-01</td>\n",
       "      <td>17.050412</td>\n",
       "    </tr>\n",
       "    <tr>\n",
       "      <td>1938-07-01</td>\n",
       "      <td>23.950412</td>\n",
       "    </tr>\n",
       "    <tr>\n",
       "      <td>1938-08-01</td>\n",
       "      <td>24.850412</td>\n",
       "    </tr>\n",
       "  </tbody>\n",
       "</table>\n",
       "</div>"
      ],
      "text/plain": [
       "            diff_mean\n",
       "Date                 \n",
       "1938-04-01   0.050412\n",
       "1938-05-01   8.250412\n",
       "1938-06-01  17.050412\n",
       "1938-07-01  23.950412\n",
       "1938-08-01  24.850412"
      ]
     },
     "execution_count": 11,
     "metadata": {},
     "output_type": "execute_result"
    }
   ],
   "source": [
    "# Example 5:  Average Temperature of St. Louis data, difference from the mean (anomaly)\n",
    "\n",
    "temp = pd.read_csv(\"~/Desktop/section_3/temp_diffmean.csv\", index_col='Date', parse_dates=True)\n",
    "temp.head()"
   ]
  },
  {
   "cell_type": "code",
   "execution_count": 12,
   "metadata": {},
   "outputs": [
    {
     "name": "stdout",
     "output_type": "stream",
     "text": [
      "-4.710506429028064\n",
      "8.041048161620659e-05\n",
      "{'1%': -3.437274090836024, '5%': -2.8645968274636933, '10%': -2.5683976306326097}\n"
     ]
    }
   ],
   "source": [
    "# Run test\n",
    "temp_result = adfuller(temp['diff_mean'])\n",
    "\n",
    "# Print test statistic\n",
    "print(temp_result[0])\n",
    "\n",
    "# Print p-value\n",
    "print(temp_result[1])\n",
    "\n",
    "# Print critical values\n",
    "print(temp_result[4])"
   ]
  },
  {
   "cell_type": "markdown",
   "metadata": {},
   "source": [
    "Again, we can reject the null hypothesis. The series is stationary."
   ]
  },
  {
   "cell_type": "markdown",
   "metadata": {},
   "source": [
    "All five series have stationarity from first differencing, taking the percentage change (calculating the return), or taking difference from the mean (anomaly). The AD-Fuller Test verifies this for us."
   ]
  },
  {
   "cell_type": "code",
   "execution_count": null,
   "metadata": {},
   "outputs": [],
   "source": [
    "# End"
   ]
  }
 ],
 "metadata": {
  "kernelspec": {
   "display_name": "Python 3",
   "language": "python",
   "name": "python3"
  },
  "language_info": {
   "codemirror_mode": {
    "name": "ipython",
    "version": 3
   },
   "file_extension": ".py",
   "mimetype": "text/x-python",
   "name": "python",
   "nbconvert_exporter": "python",
   "pygments_lexer": "ipython3",
   "version": "3.7.4"
  }
 },
 "nbformat": 4,
 "nbformat_minor": 2
}
