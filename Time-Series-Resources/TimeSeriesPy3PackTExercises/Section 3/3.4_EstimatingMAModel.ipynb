{
 "cells": [
  {
   "cell_type": "markdown",
   "metadata": {},
   "source": [
    "## Introduction to Moving Average"
   ]
  },
  {
   "cell_type": "markdown",
   "metadata": {},
   "source": [
    "Recall that the moving average model was described as a regression between a time series and its lagged error term.  By specifying an order, we set the number of lags."
   ]
  },
  {
   "cell_type": "code",
   "execution_count": 1,
   "metadata": {},
   "outputs": [],
   "source": [
    "from pandas import read_csv\n",
    "from matplotlib import pyplot"
   ]
  },
  {
   "cell_type": "markdown",
   "metadata": {},
   "source": [
    "###  Example 1: Vacation dataset"
   ]
  },
  {
   "cell_type": "code",
   "execution_count": 2,
   "metadata": {},
   "outputs": [
    {
     "data": {
      "text/html": [
       "<div>\n",
       "<style scoped>\n",
       "    .dataframe tbody tr th:only-of-type {\n",
       "        vertical-align: middle;\n",
       "    }\n",
       "\n",
       "    .dataframe tbody tr th {\n",
       "        vertical-align: top;\n",
       "    }\n",
       "\n",
       "    .dataframe thead th {\n",
       "        text-align: right;\n",
       "    }\n",
       "</style>\n",
       "<table border=\"1\" class=\"dataframe\">\n",
       "  <thead>\n",
       "    <tr style=\"text-align: right;\">\n",
       "      <th></th>\n",
       "      <th>Num_Search_Vacation</th>\n",
       "    </tr>\n",
       "    <tr>\n",
       "      <th>Month</th>\n",
       "      <th></th>\n",
       "    </tr>\n",
       "  </thead>\n",
       "  <tbody>\n",
       "    <tr>\n",
       "      <td>2004-01-01</td>\n",
       "      <td>94</td>\n",
       "    </tr>\n",
       "    <tr>\n",
       "      <td>2004-02-01</td>\n",
       "      <td>89</td>\n",
       "    </tr>\n",
       "    <tr>\n",
       "      <td>2004-03-01</td>\n",
       "      <td>86</td>\n",
       "    </tr>\n",
       "    <tr>\n",
       "      <td>2004-04-01</td>\n",
       "      <td>79</td>\n",
       "    </tr>\n",
       "    <tr>\n",
       "      <td>2004-05-01</td>\n",
       "      <td>89</td>\n",
       "    </tr>\n",
       "  </tbody>\n",
       "</table>\n",
       "</div>"
      ],
      "text/plain": [
       "            Num_Search_Vacation\n",
       "Month                          \n",
       "2004-01-01                   94\n",
       "2004-02-01                   89\n",
       "2004-03-01                   86\n",
       "2004-04-01                   79\n",
       "2004-05-01                   89"
      ]
     },
     "execution_count": 2,
     "metadata": {},
     "output_type": "execute_result"
    }
   ],
   "source": [
    "vacation = read_csv('~/Desktop/section_3/df_vacation.csv', index_col=0, parse_dates=True)\n",
    "vacation.head()"
   ]
  },
  {
   "cell_type": "code",
   "execution_count": 3,
   "metadata": {},
   "outputs": [
    {
     "name": "stdout",
     "output_type": "stream",
     "text": [
      "                               ARMA Model Results                              \n",
      "===============================================================================\n",
      "Dep. Variable:     Num_Search_Vacation   No. Observations:                  190\n",
      "Model:                      ARMA(0, 1)   Log Likelihood                -717.636\n",
      "Method:                        css-mle   S.D. of innovations             10.548\n",
      "Date:                 Sun, 17 Nov 2019   AIC                           1441.271\n",
      "Time:                         21:24:45   BIC                           1451.012\n",
      "Sample:                     01-01-2004   HQIC                          1445.217\n",
      "                          - 10-01-2019                                         \n",
      "=============================================================================================\n",
      "                                coef    std err          z      P>|z|      [0.025      0.975]\n",
      "---------------------------------------------------------------------------------------------\n",
      "const                        60.2594      1.333     45.212      0.000      57.647      62.872\n",
      "ma.L1.Num_Search_Vacation     0.7456      0.034     22.077      0.000       0.679       0.812\n",
      "                                    Roots                                    \n",
      "=============================================================================\n",
      "                  Real          Imaginary           Modulus         Frequency\n",
      "-----------------------------------------------------------------------------\n",
      "MA.1           -1.3412           +0.0000j            1.3412            0.5000\n",
      "-----------------------------------------------------------------------------\n",
      "const                        60.259432\n",
      "ma.L1.Num_Search_Vacation     0.745590\n",
      "dtype: float64\n"
     ]
    },
    {
     "name": "stderr",
     "output_type": "stream",
     "text": [
      "/Users/karenyang/opt/anaconda3/lib/python3.7/site-packages/statsmodels/tsa/base/tsa_model.py:165: ValueWarning: No frequency information was provided, so inferred frequency MS will be used.\n",
      "  % freq, ValueWarning)\n"
     ]
    }
   ],
   "source": [
    "# Estimate Moving Average\n",
    "\n",
    "# Import the ARMA module from statsmodels\n",
    "from statsmodels.tsa.arima_model import ARMA\n",
    "\n",
    "# Fit an MA(1) model to the first simulated data\n",
    "mod = ARMA(vacation, order=(0,1))  # order is reversed for MA compared to AR, MA(1)\n",
    "res = mod.fit()\n",
    "\n",
    "# Print out summary information on the fit\n",
    "print(res.summary())\n",
    "\n",
    "# Print out the estimate for the coefficients\n",
    "print(res.params)\n",
    "\n",
    "# S.D. of innovations is standard deviation of errors\n",
    "# L1 is lag1\n",
    "# fitted model parameters, MA lag 1"
   ]
  },
  {
   "cell_type": "code",
   "execution_count": 4,
   "metadata": {},
   "outputs": [
    {
     "name": "stderr",
     "output_type": "stream",
     "text": [
      "/Users/karenyang/opt/anaconda3/lib/python3.7/site-packages/statsmodels/tsa/base/tsa_model.py:165: ValueWarning: No frequency information was provided, so inferred frequency MS will be used.\n",
      "  % freq, ValueWarning)\n"
     ]
    },
    {
     "data": {
      "image/png": "[encoded data removed]",
      "text/plain": [
       "<Figure size 432x288 with 1 Axes>"
      ]
     },
     "metadata": {
      "needs_background": "light"
     },
     "output_type": "display_data"
    }
   ],
   "source": [
    "# Forecast Moving Average Model \n",
    "\n",
    "# Import the ARMA module from statsmodels\n",
    "from statsmodels.tsa.arima_model import ARMA\n",
    "\n",
    "# Forecast the first MA(1) model\n",
    "mod = ARMA(vacation, order=(0,1))\n",
    "res = mod.fit()\n",
    "\n",
    "# Start the forecast 10 data points before the end of the  point series at , \n",
    "#and end the forecast 10 data points after the end of the series at point \n",
    "res.plot_predict(start='2015', end='2025')\n",
    "pyplot.show()"
   ]
  },
  {
   "cell_type": "code",
   "execution_count": null,
   "metadata": {},
   "outputs": [],
   "source": []
  },
  {
   "cell_type": "markdown",
   "metadata": {},
   "source": [
    "###  Example 2: Furniture dataset"
   ]
  },
  {
   "cell_type": "code",
   "execution_count": 5,
   "metadata": {},
   "outputs": [
    {
     "data": {
      "text/html": [
       "<div>\n",
       "<style scoped>\n",
       "    .dataframe tbody tr th:only-of-type {\n",
       "        vertical-align: middle;\n",
       "    }\n",
       "\n",
       "    .dataframe tbody tr th {\n",
       "        vertical-align: top;\n",
       "    }\n",
       "\n",
       "    .dataframe thead th {\n",
       "        text-align: right;\n",
       "    }\n",
       "</style>\n",
       "<table border=\"1\" class=\"dataframe\">\n",
       "  <thead>\n",
       "    <tr style=\"text-align: right;\">\n",
       "      <th></th>\n",
       "      <th>furniture_price_adjusted</th>\n",
       "    </tr>\n",
       "    <tr>\n",
       "      <th>Month</th>\n",
       "      <th></th>\n",
       "    </tr>\n",
       "  </thead>\n",
       "  <tbody>\n",
       "    <tr>\n",
       "      <td>1/1/92</td>\n",
       "      <td>2073.432724</td>\n",
       "    </tr>\n",
       "    <tr>\n",
       "      <td>2/1/92</td>\n",
       "      <td>2114.485812</td>\n",
       "    </tr>\n",
       "    <tr>\n",
       "      <td>3/1/92</td>\n",
       "      <td>2260.570891</td>\n",
       "    </tr>\n",
       "    <tr>\n",
       "      <td>4/1/92</td>\n",
       "      <td>2255.103236</td>\n",
       "    </tr>\n",
       "    <tr>\n",
       "      <td>5/1/92</td>\n",
       "      <td>2331.414618</td>\n",
       "    </tr>\n",
       "  </tbody>\n",
       "</table>\n",
       "</div>"
      ],
      "text/plain": [
       "        furniture_price_adjusted\n",
       "Month                           \n",
       "1/1/92               2073.432724\n",
       "2/1/92               2114.485812\n",
       "3/1/92               2260.570891\n",
       "4/1/92               2255.103236\n",
       "5/1/92               2331.414618"
      ]
     },
     "execution_count": 5,
     "metadata": {},
     "output_type": "execute_result"
    }
   ],
   "source": [
    "furn = read_csv('~/Desktop/section_3/df_furniture.csv', header=0, index_col=0)\n",
    "furn.head()"
   ]
  },
  {
   "cell_type": "code",
   "execution_count": 6,
   "metadata": {},
   "outputs": [
    {
     "name": "stderr",
     "output_type": "stream",
     "text": [
      "/Users/karenyang/opt/anaconda3/lib/python3.7/site-packages/statsmodels/tsa/base/tsa_model.py:165: ValueWarning: No frequency information was provided, so inferred frequency MS will be used.\n",
      "  % freq, ValueWarning)\n"
     ]
    },
    {
     "name": "stdout",
     "output_type": "stream",
     "text": [
      "                                 ARMA Model Results                                 \n",
      "====================================================================================\n",
      "Dep. Variable:     furniture_price_adjusted   No. Observations:                  331\n",
      "Model:                           ARMA(0, 1)   Log Likelihood               -2822.005\n",
      "Method:                             css-mle   S.D. of innovations           1217.371\n",
      "Date:                      Sun, 17 Nov 2019   AIC                           5650.010\n",
      "Time:                              21:25:55   BIC                           5661.416\n",
      "Sample:                          01-01-1992   HQIC                          5654.559\n",
      "                               - 07-01-2019                                         \n",
      "==================================================================================================\n",
      "                                     coef    std err          z      P>|z|      [0.025      0.975]\n",
      "--------------------------------------------------------------------------------------------------\n",
      "const                           5978.1277    125.939     47.469      0.000    5731.292    6224.963\n",
      "ma.L1.furniture_price_adjusted     0.8848      0.016     53.882      0.000       0.853       0.917\n",
      "                                    Roots                                    \n",
      "=============================================================================\n",
      "                  Real          Imaginary           Modulus         Frequency\n",
      "-----------------------------------------------------------------------------\n",
      "MA.1           -1.1302           +0.0000j            1.1302            0.5000\n",
      "-----------------------------------------------------------------------------\n",
      "const                             5978.127723\n",
      "ma.L1.furniture_price_adjusted       0.884802\n",
      "dtype: float64\n"
     ]
    }
   ],
   "source": [
    "# Estimate Moving Average\n",
    "\n",
    "# Import the ARMA module from statsmodels\n",
    "from statsmodels.tsa.arima_model import ARMA\n",
    "\n",
    "# Fit an MA(1) model to the first simulated data\n",
    "mod = ARMA(furn, order=(0,1))  # order is reversed for MA compared to AR, MA(1)\n",
    "res = mod.fit()\n",
    "\n",
    "# Print out summary information on the fit\n",
    "print(res.summary())\n",
    "\n",
    "# Print out the estimate for the coefficients\n",
    "print(res.params)\n",
    "\n",
    "# S.D. of innovations is standard deviation of errors\n",
    "# L1 is lag1\n",
    "# fitted model parameters, MA lag 1"
   ]
  },
  {
   "cell_type": "code",
   "execution_count": 7,
   "metadata": {},
   "outputs": [
    {
     "name": "stderr",
     "output_type": "stream",
     "text": [
      "/Users/karenyang/opt/anaconda3/lib/python3.7/site-packages/statsmodels/tsa/base/tsa_model.py:165: ValueWarning: No frequency information was provided, so inferred frequency MS will be used.\n",
      "  % freq, ValueWarning)\n"
     ]
    },
    {
     "data": {
      "image/png": "[encoded data removed]",
      "text/plain": [
       "<Figure size 432x288 with 1 Axes>"
      ]
     },
     "metadata": {
      "needs_background": "light"
     },
     "output_type": "display_data"
    }
   ],
   "source": [
    "# Forecast Moving Average Model \n",
    "\n",
    "# Import the ARMA module from statsmodels\n",
    "from statsmodels.tsa.arima_model import ARMA\n",
    "\n",
    "# Forecast the first MA(1) model\n",
    "mod = ARMA(furn, order=(0,1))\n",
    "res = mod.fit()\n",
    "\n",
    "# Start the forecast 10 data points before the end of the  point series at , \n",
    "#and end the forecast 10 data points after the end of the series at point \n",
    "res.plot_predict(start='2015', end='2025')\n",
    "pyplot.show()"
   ]
  },
  {
   "cell_type": "markdown",
   "metadata": {},
   "source": [
    "###  Example 3: Bank of America dataset"
   ]
  },
  {
   "cell_type": "code",
   "execution_count": 8,
   "metadata": {},
   "outputs": [
    {
     "data": {
      "text/html": [
       "<div>\n",
       "<style scoped>\n",
       "    .dataframe tbody tr th:only-of-type {\n",
       "        vertical-align: middle;\n",
       "    }\n",
       "\n",
       "    .dataframe tbody tr th {\n",
       "        vertical-align: top;\n",
       "    }\n",
       "\n",
       "    .dataframe thead th {\n",
       "        text-align: right;\n",
       "    }\n",
       "</style>\n",
       "<table border=\"1\" class=\"dataframe\">\n",
       "  <thead>\n",
       "    <tr style=\"text-align: right;\">\n",
       "      <th></th>\n",
       "      <th>Adj Close Price</th>\n",
       "    </tr>\n",
       "    <tr>\n",
       "      <th>Date</th>\n",
       "      <th></th>\n",
       "    </tr>\n",
       "  </thead>\n",
       "  <tbody>\n",
       "    <tr>\n",
       "      <td>1990-01-31</td>\n",
       "      <td>1.542054</td>\n",
       "    </tr>\n",
       "    <tr>\n",
       "      <td>1990-02-28</td>\n",
       "      <td>1.687537</td>\n",
       "    </tr>\n",
       "    <tr>\n",
       "      <td>1990-03-31</td>\n",
       "      <td>1.469485</td>\n",
       "    </tr>\n",
       "    <tr>\n",
       "      <td>1990-04-30</td>\n",
       "      <td>1.441042</td>\n",
       "    </tr>\n",
       "    <tr>\n",
       "      <td>1990-05-31</td>\n",
       "      <td>1.525887</td>\n",
       "    </tr>\n",
       "  </tbody>\n",
       "</table>\n",
       "</div>"
      ],
      "text/plain": [
       "            Adj Close Price\n",
       "Date                       \n",
       "1990-01-31         1.542054\n",
       "1990-02-28         1.687537\n",
       "1990-03-31         1.469485\n",
       "1990-04-30         1.441042\n",
       "1990-05-31         1.525887"
      ]
     },
     "execution_count": 8,
     "metadata": {},
     "output_type": "execute_result"
    }
   ],
   "source": [
    "# Read in BOA dataset, this is original with resampling \n",
    "bac= read_csv('~/Desktop/section_3/df_bankofamerica.csv', index_col=0, parse_dates=True)\n",
    "# convert daily data to monthly data\n",
    "bac= bac.resample(rule='M').last()\n",
    "bac.head()"
   ]
  },
  {
   "cell_type": "code",
   "execution_count": 9,
   "metadata": {},
   "outputs": [
    {
     "name": "stdout",
     "output_type": "stream",
     "text": [
      "                              ARMA Model Results                              \n",
      "==============================================================================\n",
      "Dep. Variable:        Adj Close Price   No. Observations:                  358\n",
      "Model:                     ARMA(0, 1)   Log Likelihood               -1154.281\n",
      "Method:                       css-mle   S.D. of innovations              6.068\n",
      "Date:                Sun, 17 Nov 2019   AIC                           2314.562\n",
      "Time:                        21:27:15   BIC                           2326.203\n",
      "Sample:                    01-31-1990   HQIC                          2319.192\n",
      "                         - 10-31-2019                                         \n",
      "=========================================================================================\n",
      "                            coef    std err          z      P>|z|      [0.025      0.975]\n",
      "-----------------------------------------------------------------------------------------\n",
      "const                    16.3783      0.608     26.926      0.000      15.186      17.571\n",
      "ma.L1.Adj Close Price     0.8993      0.017     52.719      0.000       0.866       0.933\n",
      "                                    Roots                                    \n",
      "=============================================================================\n",
      "                  Real          Imaginary           Modulus         Frequency\n",
      "-----------------------------------------------------------------------------\n",
      "MA.1           -1.1120           +0.0000j            1.1120            0.5000\n",
      "-----------------------------------------------------------------------------\n",
      "const                    16.378308\n",
      "ma.L1.Adj Close Price     0.899254\n",
      "dtype: float64\n"
     ]
    }
   ],
   "source": [
    "# Estimate Moving Average\n",
    "\n",
    "# Import the ARMA module from statsmodels\n",
    "from statsmodels.tsa.arima_model import ARMA\n",
    "\n",
    "# Fit an MA(1) model to the first simulated data\n",
    "mod = ARMA(bac, order=(0,1))  # order is reversed for MA compared to AR, MA(1)\n",
    "res = mod.fit()\n",
    "\n",
    "# Print out summary information on the fit\n",
    "print(res.summary())\n",
    "\n",
    "# Print out the estimate for the coefficients\n",
    "print(res.params)\n",
    "\n",
    "# S.D. of innovations is standard deviation of errors\n",
    "# L1 is lag1\n",
    "# fitted model parameters, MA lag 1"
   ]
  },
  {
   "cell_type": "code",
   "execution_count": 10,
   "metadata": {},
   "outputs": [
    {
     "data": {
      "image/png": "[encoded data removed]",
      "text/plain": [
       "<Figure size 432x288 with 1 Axes>"
      ]
     },
     "metadata": {
      "needs_background": "light"
     },
     "output_type": "display_data"
    }
   ],
   "source": [
    "# Forecast Moving Average Model \n",
    "\n",
    "# Import the ARMA module from statsmodels\n",
    "from statsmodels.tsa.arima_model import ARMA\n",
    "\n",
    "# Forecast the first MA(1) model\n",
    "mod = ARMA(bac, order=(0,1))\n",
    "res = mod.fit()\n",
    "\n",
    "# Start the forecast 10 data points before the end of the  point series at , \n",
    "#and end the forecast 10 data points after the end of the series at point \n",
    "res.plot_predict(start='2015', end='2025')\n",
    "pyplot.show()"
   ]
  },
  {
   "cell_type": "code",
   "execution_count": null,
   "metadata": {},
   "outputs": [],
   "source": []
  },
  {
   "cell_type": "markdown",
   "metadata": {},
   "source": [
    "###  Example 4: J.P. Morgan dataset"
   ]
  },
  {
   "cell_type": "code",
   "execution_count": 11,
   "metadata": {},
   "outputs": [
    {
     "data": {
      "text/html": [
       "<div>\n",
       "<style scoped>\n",
       "    .dataframe tbody tr th:only-of-type {\n",
       "        vertical-align: middle;\n",
       "    }\n",
       "\n",
       "    .dataframe tbody tr th {\n",
       "        vertical-align: top;\n",
       "    }\n",
       "\n",
       "    .dataframe thead th {\n",
       "        text-align: right;\n",
       "    }\n",
       "</style>\n",
       "<table border=\"1\" class=\"dataframe\">\n",
       "  <thead>\n",
       "    <tr style=\"text-align: right;\">\n",
       "      <th></th>\n",
       "      <th>Adj Close Price</th>\n",
       "    </tr>\n",
       "    <tr>\n",
       "      <th>Date</th>\n",
       "      <th></th>\n",
       "    </tr>\n",
       "  </thead>\n",
       "  <tbody>\n",
       "    <tr>\n",
       "      <td>1990-03-31</td>\n",
       "      <td>2.884144</td>\n",
       "    </tr>\n",
       "    <tr>\n",
       "      <td>1990-06-30</td>\n",
       "      <td>3.223591</td>\n",
       "    </tr>\n",
       "    <tr>\n",
       "      <td>1990-09-30</td>\n",
       "      <td>2.019471</td>\n",
       "    </tr>\n",
       "    <tr>\n",
       "      <td>1990-12-31</td>\n",
       "      <td>1.427535</td>\n",
       "    </tr>\n",
       "    <tr>\n",
       "      <td>1991-03-31</td>\n",
       "      <td>2.340254</td>\n",
       "    </tr>\n",
       "  </tbody>\n",
       "</table>\n",
       "</div>"
      ],
      "text/plain": [
       "            Adj Close Price\n",
       "Date                       \n",
       "1990-03-31         2.884144\n",
       "1990-06-30         3.223591\n",
       "1990-09-30         2.019471\n",
       "1990-12-31         1.427535\n",
       "1991-03-31         2.340254"
      ]
     },
     "execution_count": 11,
     "metadata": {},
     "output_type": "execute_result"
    }
   ],
   "source": [
    "# Read in JPM dataset\n",
    "jpm = read_csv('~/Desktop/section_3/df_jpmorgan.csv', index_col=0, parse_dates=True)\n",
    "# convert the daily data to quarterly data\n",
    "jpm= jpm.resample(rule='Q').last()\n",
    "jpm.head()"
   ]
  },
  {
   "cell_type": "code",
   "execution_count": 12,
   "metadata": {},
   "outputs": [
    {
     "name": "stdout",
     "output_type": "stream",
     "text": [
      "                              ARMA Model Results                              \n",
      "==============================================================================\n",
      "Dep. Variable:        Adj Close Price   No. Observations:                  120\n",
      "Model:                     ARMA(0, 1)   Log Likelihood                -502.271\n",
      "Method:                       css-mle   S.D. of innovations             15.800\n",
      "Date:                Sun, 17 Nov 2019   AIC                           1010.543\n",
      "Time:                        21:28:29   BIC                           1018.905\n",
      "Sample:                    03-31-1990   HQIC                          1013.939\n",
      "                         - 12-31-2019                                         \n",
      "=========================================================================================\n",
      "                            coef    std err          z      P>|z|      [0.025      0.975]\n",
      "-----------------------------------------------------------------------------------------\n",
      "const                    33.2475      2.719     12.227      0.000      27.918      38.577\n",
      "ma.L1.Adj Close Price     0.8927      0.040     22.527      0.000       0.815       0.970\n",
      "                                    Roots                                    \n",
      "=============================================================================\n",
      "                  Real          Imaginary           Modulus         Frequency\n",
      "-----------------------------------------------------------------------------\n",
      "MA.1           -1.1202           +0.0000j            1.1202            0.5000\n",
      "-----------------------------------------------------------------------------\n",
      "const                    33.247457\n",
      "ma.L1.Adj Close Price     0.892658\n",
      "dtype: float64\n"
     ]
    }
   ],
   "source": [
    "# Estimate Moving Average\n",
    "\n",
    "# Import the ARMA module from statsmodels\n",
    "from statsmodels.tsa.arima_model import ARMA\n",
    "\n",
    "# Fit an MA(1) model to the first simulated data\n",
    "mod = ARMA(jpm, order=(0,1))  # order is reversed for MA compared to AR, MA(1)\n",
    "res = mod.fit()\n",
    "\n",
    "# Print out summary information on the fit\n",
    "print(res.summary())\n",
    "\n",
    "# Print out the estimate for the coefficients\n",
    "print(res.params)\n",
    "\n",
    "# S.D. of innovations is standard deviation of errors\n",
    "# L1 is lag1\n",
    "# fitted model parameters, MA lag 1"
   ]
  },
  {
   "cell_type": "code",
   "execution_count": 13,
   "metadata": {},
   "outputs": [
    {
     "data": {
      "image/png": "[encoded data removed]",
      "text/plain": [
       "<Figure size 432x288 with 1 Axes>"
      ]
     },
     "metadata": {
      "needs_background": "light"
     },
     "output_type": "display_data"
    }
   ],
   "source": [
    "# Forecast Moving Average Model \n",
    "\n",
    "# Import the ARMA module from statsmodels\n",
    "from statsmodels.tsa.arima_model import ARMA\n",
    "\n",
    "# Forecast the first MA(1) model\n",
    "mod = ARMA(jpm, order=(0,1))\n",
    "res = mod.fit()\n",
    "\n",
    "# Start the forecast 10 data points before the end of the  point series at , \n",
    "#and end the forecast 10 data points after the end of the series at point \n",
    "res.plot_predict(start='2015', end='2025')\n",
    "pyplot.show()"
   ]
  },
  {
   "cell_type": "code",
   "execution_count": null,
   "metadata": {},
   "outputs": [],
   "source": []
  },
  {
   "cell_type": "markdown",
   "metadata": {},
   "source": [
    "###  Example 5: Average Temperature of St. Louis dataset"
   ]
  },
  {
   "cell_type": "code",
   "execution_count": 14,
   "metadata": {},
   "outputs": [
    {
     "data": {
      "text/html": [
       "<div>\n",
       "<style scoped>\n",
       "    .dataframe tbody tr th:only-of-type {\n",
       "        vertical-align: middle;\n",
       "    }\n",
       "\n",
       "    .dataframe tbody tr th {\n",
       "        vertical-align: top;\n",
       "    }\n",
       "\n",
       "    .dataframe thead th {\n",
       "        text-align: right;\n",
       "    }\n",
       "</style>\n",
       "<table border=\"1\" class=\"dataframe\">\n",
       "  <thead>\n",
       "    <tr style=\"text-align: right;\">\n",
       "      <th></th>\n",
       "      <th>Value</th>\n",
       "    </tr>\n",
       "    <tr>\n",
       "      <th>Date</th>\n",
       "      <th></th>\n",
       "    </tr>\n",
       "  </thead>\n",
       "  <tbody>\n",
       "    <tr>\n",
       "      <td>1938-04-01</td>\n",
       "      <td>56.5</td>\n",
       "    </tr>\n",
       "    <tr>\n",
       "      <td>1938-05-01</td>\n",
       "      <td>64.7</td>\n",
       "    </tr>\n",
       "    <tr>\n",
       "      <td>1938-06-01</td>\n",
       "      <td>73.5</td>\n",
       "    </tr>\n",
       "    <tr>\n",
       "      <td>1938-07-01</td>\n",
       "      <td>80.4</td>\n",
       "    </tr>\n",
       "    <tr>\n",
       "      <td>1938-08-01</td>\n",
       "      <td>81.3</td>\n",
       "    </tr>\n",
       "  </tbody>\n",
       "</table>\n",
       "</div>"
      ],
      "text/plain": [
       "            Value\n",
       "Date             \n",
       "1938-04-01   56.5\n",
       "1938-05-01   64.7\n",
       "1938-06-01   73.5\n",
       "1938-07-01   80.4\n",
       "1938-08-01   81.3"
      ]
     },
     "execution_count": 14,
     "metadata": {},
     "output_type": "execute_result"
    }
   ],
   "source": [
    "# Read in temp dataset\n",
    "temp = read_csv('~/Desktop/section_3/df_temp.csv', index_col=0, parse_dates=True)\n",
    "temp.head()"
   ]
  },
  {
   "cell_type": "code",
   "execution_count": 15,
   "metadata": {},
   "outputs": [
    {
     "name": "stderr",
     "output_type": "stream",
     "text": [
      "/Users/karenyang/opt/anaconda3/lib/python3.7/site-packages/statsmodels/tsa/base/tsa_model.py:165: ValueWarning: No frequency information was provided, so inferred frequency MS will be used.\n",
      "  % freq, ValueWarning)\n"
     ]
    },
    {
     "name": "stdout",
     "output_type": "stream",
     "text": [
      "                              ARMA Model Results                              \n",
      "==============================================================================\n",
      "Dep. Variable:                  Value   No. Observations:                  970\n",
      "Model:                     ARMA(0, 1)   Log Likelihood               -3721.217\n",
      "Method:                       css-mle   S.D. of innovations             11.211\n",
      "Date:                Sun, 17 Nov 2019   AIC                           7448.434\n",
      "Time:                        21:29:35   BIC                           7463.066\n",
      "Sample:                    04-01-1938   HQIC                          7454.004\n",
      "                         - 01-01-2019                                         \n",
      "===============================================================================\n",
      "                  coef    std err          z      P>|z|      [0.025      0.975]\n",
      "-------------------------------------------------------------------------------\n",
      "const          56.4313      0.646     87.401      0.000      55.166      57.697\n",
      "ma.L1.Value     0.7946      0.014     55.274      0.000       0.766       0.823\n",
      "                                    Roots                                    \n",
      "=============================================================================\n",
      "                  Real          Imaginary           Modulus         Frequency\n",
      "-----------------------------------------------------------------------------\n",
      "MA.1           -1.2585           +0.0000j            1.2585            0.5000\n",
      "-----------------------------------------------------------------------------\n",
      "const          56.431332\n",
      "ma.L1.Value     0.794585\n",
      "dtype: float64\n"
     ]
    }
   ],
   "source": [
    "# Estimate Moving Average\n",
    "\n",
    "# Import the ARMA module from statsmodels\n",
    "from statsmodels.tsa.arima_model import ARMA\n",
    "\n",
    "# Fit an MA(1) model to the first simulated data\n",
    "mod = ARMA(temp, order=(0,1))  # order is reversed for MA compared to AR, MA(1)\n",
    "res = mod.fit()\n",
    "\n",
    "# Print out summary information on the fit\n",
    "print(res.summary())\n",
    "\n",
    "# Print out the estimate for the coefficients\n",
    "print(res.params)\n",
    "\n",
    "# S.D. of innovations is standard deviation of errors\n",
    "# L1 is lag1\n",
    "# fitted model parameters, MA lag 1"
   ]
  },
  {
   "cell_type": "code",
   "execution_count": 16,
   "metadata": {},
   "outputs": [
    {
     "name": "stderr",
     "output_type": "stream",
     "text": [
      "/Users/karenyang/opt/anaconda3/lib/python3.7/site-packages/statsmodels/tsa/base/tsa_model.py:165: ValueWarning: No frequency information was provided, so inferred frequency MS will be used.\n",
      "  % freq, ValueWarning)\n"
     ]
    },
    {
     "data": {
      "image/png": "[encoded data removed]",
      "text/plain": [
       "<Figure size 432x288 with 1 Axes>"
      ]
     },
     "metadata": {
      "needs_background": "light"
     },
     "output_type": "display_data"
    }
   ],
   "source": [
    "# Forecast Moving Average Model \n",
    "\n",
    "# Import the ARMA module from statsmodels\n",
    "from statsmodels.tsa.arima_model import ARMA\n",
    "\n",
    "# Forecast the first MA(1) model\n",
    "mod = ARMA(temp, order=(0,1))\n",
    "res = mod.fit()\n",
    "\n",
    "# Start the forecast 10 data points before the end of the  point series at , \n",
    "#and end the forecast 10 data points after the end of the series at point \n",
    "res.plot_predict(start='2015', end='2025')\n",
    "pyplot.show()"
   ]
  },
  {
   "cell_type": "code",
   "execution_count": null,
   "metadata": {},
   "outputs": [],
   "source": []
  },
  {
   "cell_type": "code",
   "execution_count": null,
   "metadata": {},
   "outputs": [],
   "source": [
    "#end"
   ]
  }
 ],
 "metadata": {
  "kernelspec": {
   "display_name": "Python 3",
   "language": "python",
   "name": "python3"
  },
  "language_info": {
   "codemirror_mode": {
    "name": "ipython",
    "version": 3
   },
   "file_extension": ".py",
   "mimetype": "text/x-python",
   "name": "python",
   "nbconvert_exporter": "python",
   "pygments_lexer": "ipython3",
   "version": "3.7.4"
  }
 },
 "nbformat": 4,
 "nbformat_minor": 2
}
