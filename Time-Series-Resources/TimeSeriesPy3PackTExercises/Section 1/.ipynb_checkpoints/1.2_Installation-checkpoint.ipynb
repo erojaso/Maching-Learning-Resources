{
 "cells": [
  {
   "cell_type": "markdown",
   "metadata": {},
   "source": [
    "# Anaconda Installation Instructions"
   ]
  },
  {
   "cell_type": "markdown",
   "metadata": {},
   "source": [
    "## Installation"
   ]
  },
  {
   "cell_type": "markdown",
   "metadata": {},
   "source": [
    "A recommended way to install python pandas is to install it as part of the Anaconda distribution.\n",
    "Most users will find this distribution convenient. Once you've installed Anaconda, the \n",
    "python package will be available to you. In other words, you do not have to install python from the python.org website. \n",
    "\n",
    "Go to the Anaconda distribution website:  https://www.anaconda.com/distribution/"
   ]
  },
  {
   "cell_type": "markdown",
   "metadata": {},
   "source": [
    "Click on \"download\" for Python 3.7 version. Follow the instructions for the Anaconda3 Installer package. \n",
    "The graphical installer will prompt you to click \"continue\" after you see ReadMe and Software License Agreement. \n",
    "You will need to enter your own password for your machine to install software. "
   ]
  },
  {
   "cell_type": "markdown",
   "metadata": {},
   "source": [
    "## Checking Your Installation"
   ]
  },
  {
   "cell_type": "markdown",
   "metadata": {},
   "source": [
    "Open up a bash shell.  Change directory to the location of where you want to work.\n",
    "Type \"jupyter notebook\" in terminal and hit enter. Wait for a new browser tab to open up at http://localhost:8888/tree .  At the home page of jupyter notebook in the web browser, \n",
    "look to the upper right for \"New\" button with a down arrow. Click on it and select \"Python 3\". \n",
    "This will bring up a new notebook. Click on \"File\" and select \"rename\". Type in a new notebook name to save it. \n",
    "In a new cell, type: \"import pandas as pd\" and hit shift + enter to execute cell. At the second line, type \"import numpy as np\" and hit shift + enter. On the third line, print(\"Hello World!\") and hit shift + enter.  If there are no errors, then your installation was successful."
   ]
  },
  {
   "cell_type": "markdown",
   "metadata": {},
   "source": [
    "Open up a new terminal (bash shell).  To see the version of python that you have, type \"python -V\".\n",
    "To see the version of Anaconda that you have, type \"conda -V\".  To see the packages that come with Anaconda, \n",
    "type \"conda list\".  To update to a newer version at a later date, type \"conda update anaconda\". "
   ]
  },
  {
   "cell_type": "markdown",
   "metadata": {},
   "source": [
    "To uninstall Anaconda, type \"rm -rf ~/anaconda3\". This will remove the software from your machine. "
   ]
  },
  {
   "cell_type": "markdown",
   "metadata": {},
   "source": [
    "## Resources"
   ]
  },
  {
   "cell_type": "markdown",
   "metadata": {},
   "source": [
    "Here are resources that you can refer to for this class:\n",
    "\n",
    "Anaconda documentation: https://docs.anaconda.com/\n",
    "\n",
    "Python documentation https://docs.python.org/3/\n",
    "\n",
    "Pandas documentation: https://pandas.pydata.org/pandas-docs/stable/\n",
    "\n",
    "Statsmodels documentation:  https://www.statsmodels.org/stable/index.html#\n",
    "\n",
    "scikit learn:  https://scikit-learn.org/stable/index.html\n"
   ]
  },
  {
   "cell_type": "code",
   "execution_count": 1,
   "metadata": {},
   "outputs": [],
   "source": [
    "# end"
   ]
  }
 ],
 "metadata": {
  "kernelspec": {
   "display_name": "Python 3",
   "language": "python",
   "name": "python3"
  },
  "language_info": {
   "codemirror_mode": {
    "name": "ipython",
    "version": 3
   },
   "file_extension": ".py",
   "mimetype": "text/x-python",
   "name": "python",
   "nbconvert_exporter": "python",
   "pygments_lexer": "ipython3",
   "version": "3.7.4"
  }
 },
 "nbformat": 4,
 "nbformat_minor": 2
}
