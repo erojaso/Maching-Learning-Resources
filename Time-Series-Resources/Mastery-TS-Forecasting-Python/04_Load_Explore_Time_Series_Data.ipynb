{
 "cells": [
  {
   "cell_type": "markdown",
   "metadata": {},
   "source": [
    "# Chapter 4 - Load and Explore Time Series Data\n",
    "\n",
    "After completing this tutorial, you will know:\n",
    "- How to load your time series dataset from a CSV file using Pandas.\n",
    "- How to peek at the loaded data and query using date-times.\n",
    "- How to calculate and review summary statistics.\n",
    "\n",
    "## 4.1 Daily Female Births Dataset\n",
    "\n",
    "we will use the Daily Female Births Dataset as an example. This dataset describes the number of daily female births in California in 1959.\n",
    "\n",
    "## 4.2 Load Time Series Data\n",
    "\n",
    "Pandas represented time series datasets as a Series. A Series1 is a one-dimensional array with a time label for each row. The main function for loading CSV data in Pandas is the read csv() function2. We can use this to load the time series as a Series object, instead of a DataFrame, as follows:"
   ]
  },
  {
   "cell_type": "code",
   "execution_count": 1,
   "metadata": {},
   "outputs": [
    {
     "name": "stdout",
     "output_type": "stream",
     "text": [
      "<class 'pandas.core.series.Series'>\n",
      "Date\n",
      "1959-01-01    35\n",
      "1959-01-02    32\n",
      "1959-01-03    30\n",
      "1959-01-04    31\n",
      "1959-01-05    44\n",
      "Name: Births, dtype: int64\n"
     ]
    }
   ],
   "source": [
    "# load dataset using read_csv()\n",
    "from pandas import read_csv\n",
    "\n",
    "csvfile = '.\\\\code\\chapter_04\\daily-total-female-births.csv'\n",
    "\n",
    "series = read_csv(csvfile, header=0, index_col=0, parse_dates=True, squeeze=True)\n",
    "\n",
    "print(type(series))\n",
    "print(series.head())"
   ]
  },
  {
   "cell_type": "markdown",
   "metadata": {},
   "source": [
    "Note the arguments to the read csv() function. We provide it a number of hints to ensure\n",
    "the data is loaded as a Series.\n",
    "- **header = 0**: We must specify the header information at row 0.\n",
    "- **parse_dates = True**: We give the function a hint that data in the first column contains dates that need to be parsed.\n",
    "- **index_col = 0**: We hint that the first column contains the index information for the time series.\n",
    "- **squeeze = True**: We hint that we only have one data column and that we are interested in a Series and not a DataFrame.\n",
    "\n",
    "## 4.3 Exploring Time Series Data\n",
    "\n",
    "### 4.3.1 Peek at the Data\n",
    "\n",
    "It is a good idea to take a peek at your loaded data to confirm that the types, dates, and data loaded as you intended. You can use the head() function to peek at the first 5 records or specify the first n number of records to review."
   ]
  },
  {
   "cell_type": "code",
   "execution_count": 2,
   "metadata": {},
   "outputs": [
    {
     "name": "stdout",
     "output_type": "stream",
     "text": [
      "Date\n",
      "1959-01-01    35\n",
      "1959-01-02    32\n",
      "1959-01-03    30\n",
      "1959-01-04    31\n",
      "1959-01-05    44\n",
      "1959-01-06    29\n",
      "1959-01-07    45\n",
      "1959-01-08    43\n",
      "1959-01-09    38\n",
      "1959-01-10    27\n",
      "Name: Births, dtype: int64\n"
     ]
    }
   ],
   "source": [
    "# summarize first few lines of a file\n",
    "from pandas import read_csv\n",
    "series = read_csv(csvfile, header=0, index_col=0, parse_dates=True, squeeze=True)\n",
    "print(series.head(10))"
   ]
  },
  {
   "cell_type": "markdown",
   "metadata": {},
   "source": [
    "### 4.3.2 Number of Observations\n",
    "\n",
    "Another quick check to perform on your data is the number of loaded observations. This can help  ush out issues with column headers not being handled as intended, and to get an idea on how to effectively divide up data later for use with supervised learning algorithms. You can get the dimensionality of your Series using the size parameter."
   ]
  },
  {
   "cell_type": "code",
   "execution_count": 3,
   "metadata": {},
   "outputs": [
    {
     "name": "stdout",
     "output_type": "stream",
     "text": [
      "365\n"
     ]
    }
   ],
   "source": [
    "# summarize the dimensions of a time series\n",
    "from pandas import read_csv\n",
    "series = read_csv(csvfile, header=0, index_col=0, parse_dates=True, squeeze=True)\n",
    "print(series.size)"
   ]
  },
  {
   "cell_type": "markdown",
   "metadata": {},
   "source": [
    "### 4.3.3 Querying By Time\n",
    "\n",
    "You can slice, dice, and query your series using the time index. For example, you can access all observations in January as follows:"
   ]
  },
  {
   "cell_type": "code",
   "execution_count": 4,
   "metadata": {},
   "outputs": [
    {
     "name": "stdout",
     "output_type": "stream",
     "text": [
      "Date\n",
      "1959-01-01    35\n",
      "1959-01-02    32\n",
      "1959-01-03    30\n",
      "1959-01-04    31\n",
      "1959-01-05    44\n",
      "1959-01-06    29\n",
      "1959-01-07    45\n",
      "1959-01-08    43\n",
      "1959-01-09    38\n",
      "1959-01-10    27\n",
      "1959-01-11    38\n",
      "1959-01-12    33\n",
      "1959-01-13    55\n",
      "1959-01-14    47\n",
      "1959-01-15    45\n",
      "1959-01-16    37\n",
      "1959-01-17    50\n",
      "1959-01-18    43\n",
      "1959-01-19    41\n",
      "1959-01-20    52\n",
      "1959-01-21    34\n",
      "1959-01-22    53\n",
      "1959-01-23    39\n",
      "1959-01-24    32\n",
      "1959-01-25    37\n",
      "1959-01-26    43\n",
      "1959-01-27    39\n",
      "1959-01-28    35\n",
      "1959-01-29    44\n",
      "1959-01-30    38\n",
      "1959-01-31    24\n",
      "Name: Births, dtype: int64\n"
     ]
    }
   ],
   "source": [
    "# query a dataset using a date-time index\n",
    "from pandas import read_csv\n",
    "series = read_csv(csvfile, header=0, index_col=0, parse_dates=True, squeeze=True)\n",
    "print(series['1959-01'])"
   ]
  },
  {
   "cell_type": "markdown",
   "metadata": {},
   "source": [
    "### 4.3.4 Descriptive Statistics\n",
    "\n",
    "Calculating descriptive statistics on your time series can help get an idea of the distribution and spread of values. This may help with ideas of data scaling and even data cleaning that you can perform later as part of preparing your dataset for modeling. The describe() function creates a 7 number summary of the loaded time series including mean, standard deviation, median, minimum, and maximum of the observations."
   ]
  },
  {
   "cell_type": "code",
   "execution_count": 5,
   "metadata": {},
   "outputs": [
    {
     "name": "stdout",
     "output_type": "stream",
     "text": [
      "count    365.000000\n",
      "mean      41.980822\n",
      "std        7.348257\n",
      "min       23.000000\n",
      "25%       37.000000\n",
      "50%       42.000000\n",
      "75%       46.000000\n",
      "max       73.000000\n",
      "Name: Births, dtype: float64\n"
     ]
    }
   ],
   "source": [
    "# calculate descriptive statistics\n",
    "from pandas import read_csv\n",
    "series = read_csv(csvfile, header=0, index_col=0, parse_dates=True, squeeze=True)\n",
    "print(series.describe())"
   ]
  }
 ],
 "metadata": {
  "kernelspec": {
   "display_name": "Python 3",
   "language": "python",
   "name": "python3"
  },
  "language_info": {
   "codemirror_mode": {
    "name": "ipython",
    "version": 3
   },
   "file_extension": ".py",
   "mimetype": "text/x-python",
   "name": "python",
   "nbconvert_exporter": "python",
   "pygments_lexer": "ipython3",
   "version": "3.7.4"
  }
 },
 "nbformat": 4,
 "nbformat_minor": 2
}
