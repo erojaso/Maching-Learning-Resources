{
 "cells": [
  {
   "cell_type": "markdown",
   "metadata": {},
   "source": [
    "# Forecasting Stock Prices using Exponential Smoothing\n",
    "\n",
    "Yibin Ng. Sep 25, 2019. [here](https://towardsdatascience.com/forecasting-stock-prices-using-exponential-smoothing-b37dfe54e8e9)\n",
    "Source [here](https://github.com/NGYB/Stocks/tree/master/StockPricePrediction_fh21)\n",
    "Sample [Here](https://github.com/NGYB/Stocks/blob/master/StockPricePrediction_fh21/StockPricePrediction_v3_SExpSmoothing.ipynb)\n",
    "\n",
    "Exponential smoothing is a family of forecasting methods which **computes a weighted average of past observations as the forecast**.\n",
    "\n",
    "There are three types of exponential smoothing: single exponential smoothing, double exponential smoothing, and triple exponential smoothing (also known as the Holt-Winters method).\n",
    "\n",
    "In this article, we will experiment with using the exponential smoothing methods to forecast stock prices. We will start by using single exponential smoothing, followed by double exponential smoothing, and finally triple exponential smoothing (a.k.a. Holt-Winters method). Our implementation of exponential smoothing follows the equations  and [here](http://home.iitj.ac.in/~parmod/document/introduction%20time%20series.pdf) (page 322).\n",
    "\n",
    "\n",
    "Note. **This is a very popular scheme to produce a smoothed Time Series. Whereas in Single Moving Averages the past observations are weighted equally, Exponential Smoothing assigns exponentially decreasing weights as the observation get older.\n",
    "In other words, recent observations are given relatively more weight in forecasting than the older observations**.[here](https://www.itl.nist.gov/div898/handbook/pmc/section4/pmc43.htm)\n",
    "\n",
    "## Problem Statement\n",
    "We aim to predict the daily adjusted closing prices of Vanguard Total Stock Market ETF (VTI), using data from the previous N days. In this experiment, we will use 6 years of historical prices for VTI from 2013–01–02 to 2018–12–28."
   ]
  },
  {
   "cell_type": "code",
   "execution_count": null,
   "metadata": {},
   "outputs": [],
   "source": []
  },
  {
   "cell_type": "code",
   "execution_count": null,
   "metadata": {},
   "outputs": [],
   "source": []
  },
  {
   "cell_type": "code",
   "execution_count": null,
   "metadata": {},
   "outputs": [],
   "source": []
  },
  {
   "cell_type": "code",
   "execution_count": null,
   "metadata": {},
   "outputs": [],
   "source": []
  },
  {
   "cell_type": "code",
   "execution_count": null,
   "metadata": {},
   "outputs": [],
   "source": []
  },
  {
   "cell_type": "code",
   "execution_count": null,
   "metadata": {},
   "outputs": [],
   "source": []
  },
  {
   "cell_type": "code",
   "execution_count": null,
   "metadata": {},
   "outputs": [],
   "source": []
  }
 ],
 "metadata": {
  "kernelspec": {
   "display_name": "Python 3",
   "language": "python",
   "name": "python3"
  },
  "language_info": {
   "codemirror_mode": {
    "name": "ipython",
    "version": 3
   },
   "file_extension": ".py",
   "mimetype": "text/x-python",
   "name": "python",
   "nbconvert_exporter": "python",
   "pygments_lexer": "ipython3",
   "version": "3.7.4"
  }
 },
 "nbformat": 4,
 "nbformat_minor": 2
}
