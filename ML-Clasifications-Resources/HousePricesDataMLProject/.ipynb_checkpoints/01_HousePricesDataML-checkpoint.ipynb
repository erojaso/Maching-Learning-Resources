{
 "cells": [
  {
   "cell_type": "markdown",
   "metadata": {},
   "source": [
    "# Practical Machine Learning Project in Python on House Prices Data\n",
    "\n",
    "Reference: [Here](https://www.hackerearth.com/practice/machine-learning/machine-learning-projects/python-project/tutorial/)\n",
    "\n",
    "## Table of Contents\n",
    "\n",
    "    1. Process of Machine Learning Predictions\n",
    "    2. Housing Data Set\n",
    "        - Understand the problem\n",
    "        - Hypothesis Generation\n",
    "        - Get Data\n",
    "        - Data Exploration\n",
    "        - Data Pre-Processing\n",
    "        - Feature Engineering - Create 331 new features\n",
    "        - Model Training - XGBoost, Neural Network, Lasso\n",
    "        - Model Evaluation\n",
    "\n",
    "This project is most suitable for people who have a basic understanding of python and Machine Learning. Even if you are absolutely new to it, give it a try. And ask questions in Comments below. R users can refer to this equivalent R script and follow the explanation given below.\n",
    "\n",
    "### 1. Process of Machine Learning Predictions\n",
    "\n",
    "*“Keep tormenting data until it starts revealing its hidden secrets.”*\n",
    "\n",
    "The difference between good data science professionals and naive data science aspirants is that the former set follows this process religiously. The process is as follows: \n",
    "\n",
    "1. **Understand the problem**: Before getting the data, we need to understand the problem we are trying to solve. If you know the domain, think of which factors could play an epic role in solving the problem. If you don't know the domain, read about it.\n",
    "\n",
    "\n",
    "2. **Hypothesis Generation**: This is quite important, yet it is often forgotten. In simple words, hypothesis generation refers to creating a set of features which could influence the target variable given a confidence interval ( taken as 95% all the time). We can do this before looking at the data to avoid biased thoughts. This step often helps in creating new features. \n",
    "\n",
    "\n",
    "3. **Get Data**: Now, we download the data and look at it. Determine which features are available and which aren't, how many features we generated in hypothesis generation hit the mark, and which ones could be created. Answering these questions will set us on the right track.\n",
    "\n",
    "\n",
    "4. **Data Exploration**: We can't determine everything by just looking at the data. We need to dig deeper. This step helps us understand the nature of variables (skewed, missing, zero variance feature) so that they can be treated properly. It involves creating charts, graphs (univariate and bivariate analysis), and cross-tables to understand the behavior of features.\n",
    "\n",
    "\n",
    "5. **Data Preprocessing**: Here, we impute missing values and clean string variables (remove space, irregular tabs, data time format) and anything that shouldn't be there. This step is usually followed along with the data exploration stage.\n",
    "\n",
    "\n",
    "6. **Feature Engineering**: Now, we create and add new features to the data set. Most of the ideas for these features come during the hypothesis generation stage. \n",
    "\n",
    "\n",
    "7. **Model Training**: Using a suitable algorithm, we train the model on the given data set. \n",
    "\n",
    "\n",
    "8. **Model Evaluation**: Once the model is trained, we evaluate the model's performance using a suitable error metric. Here, we also look for variable importance, i.e., which variables have proved to be significant in determining the target variable. And, accordingly we can shortlist the best variables and train the model again. \n",
    "\n",
    "\n",
    "9. **Model Testing**: Finally, we test the model on the unseen data (test data) set.\n",
    "\n",
    "\n",
    "### 2. Housing Data Set\n",
    "\n",
    "#### 2.1 Understand the problem\n",
    "\n",
    "This project aims at predicting house prices (residential) in Ames, Iowa, USA.\n",
    "\n",
    "#### 2.2 Hypothesis Generation\n",
    "\n",
    "What factors can you think of right now which can influence house prices? Write down your factors as well, then we can match them with the data set. Defining a hypothesis has two parts: **Null Hypothesis**(Ho) and **Alternate Hypothesis**(Ha). They can be understood as:\n",
    "- (Ho) There `exists no impact` of a particular feature `on the dependent variable`. \n",
    "- (Ha) There `exists a direct impact` of a particular feature `on the dependent variable`.\n",
    "\n",
    "Based on a **decision criterion** (for instance, 5% significance level), we always `reject` or `fail to reject` the null hypothesis in statistical parlance. Practically, while model building we look for probability (p) values. If **p value < 0.05**, we `reject the null hypothesis`. If **p > 0.05**, we `fail to reject` the null hypothesis. Some factors which I can think of that directly influence house prices are the following:\n",
    "\n",
    "- Area of House\n",
    "- How old is the house\n",
    "- Location of the house\n",
    "- How close/far is the market\n",
    "- Connectivity of house location with transport\n",
    "- How many floors does the house have\n",
    "- What material is used in the construction\n",
    "- Water/Electricity availability\n",
    "- Play area/parks for kids (if any)\n",
    "- If terrace is available\n",
    "- If car parking is available\n",
    "- If security is available\n",
    "\n",
    "#### 2.3 Get Data\n",
    "[Here](https://www.kaggle.com/c/house-prices-advanced-regression-techniques)\n",
    "\n",
    "The data set consists of 81 explanatory variables. We'll learn how to deal with so many variables. The target variable is `SalePrice`. As you can see the data set comprises numeric, categorical, and ordinal variables.\n",
    "\n",
    "#### 2.4 Data Exploration\n",
    "\n",
    "Data Exploration is the key to getting insights from data. Practitioners say a **good data exploration strategy can solve even complicated problems in a few hours**. A good data exploration strategy comprises the following:\n",
    "\n",
    "1. **Univariate Analysis**. It is used to visualize `one variable` in one plot. Examples: histogram, density plot, etc.\n",
    "2. **Bivariate Analysis**. It is used to visualize `two variables (x and y axis)` in one plot. Examples: bar chart, line chart, area chart, etc.\n",
    "3. **Multivariate Analysis**. As the name suggests, it is used to visualize `more than two variables at once`. Examples: stacked bar chart, dodged bar chart, etc.\n",
    "4. **Cross Tables**. They are `used to compare the behavior of two categorical variables` (used in pivot tables as well)."
   ]
  },
  {
   "cell_type": "code",
   "execution_count": 1,
   "metadata": {},
   "outputs": [],
   "source": [
    "#Loading libraries \n",
    "import numpy as np \n",
    "import pandas as pd\n",
    "import matplotlib.pyplot as plt\n",
    "import seaborn as sns\n",
    "from scipy import stats\n",
    "from scipy.stats import norm\n",
    "\n",
    "%matplotlib inline\n",
    "\n",
    "plt.rcParams['figure.figsize'] = (10.0, 8.0)"
   ]
  },
  {
   "cell_type": "code",
   "execution_count": 26,
   "metadata": {},
   "outputs": [],
   "source": [
    "#loading data\n",
    "train = pd.read_csv('.\\\\data\\\\train.data.csv')\n",
    "test = pd.read_csv(\".\\\\data\\\\test.data.csv\")"
   ]
  },
  {
   "cell_type": "code",
   "execution_count": 30,
   "metadata": {},
   "outputs": [
    {
     "name": "stdout",
     "output_type": "stream",
     "text": [
      "The train data has 1460 rows and 81 columns\n",
      "----------------------------\n",
      "The test data has 1459 rows and 80 columns\n"
     ]
    }
   ],
   "source": [
    "print ('The train data has {0} rows and {1} columns'.format(train.shape[0],train.shape[1]))\n",
    "print ('----------------------------')\n",
    "print ('The test data has {0} rows and {1} columns'.format(test.shape[0],test.shape[1]))"
   ]
  },
  {
   "cell_type": "code",
   "execution_count": 33,
   "metadata": {},
   "outputs": [],
   "source": [
    "# optional\n",
    "#train.info()\n",
    "#test.info()"
   ]
  },
  {
   "cell_type": "markdown",
   "metadata": {},
   "source": [
    "##### Missing values: train "
   ]
  },
  {
   "cell_type": "code",
   "execution_count": 34,
   "metadata": {},
   "outputs": [
    {
     "data": {
      "text/plain": [
       "Index(['LotFrontage', 'Alley', 'MasVnrType', 'MasVnrArea', 'BsmtQual',\n",
       "       'BsmtCond', 'BsmtExposure', 'BsmtFinType1', 'BsmtFinType2',\n",
       "       'Electrical', 'FireplaceQu', 'GarageType', 'GarageYrBlt',\n",
       "       'GarageFinish', 'GarageQual', 'GarageCond', 'PoolQC', 'Fence',\n",
       "       'MiscFeature'],\n",
       "      dtype='object')"
      ]
     },
     "execution_count": 34,
     "metadata": {},
     "output_type": "execute_result"
    }
   ],
   "source": [
    "#check missing values\n",
    "train.columns[train.isnull().any()]"
   ]
  },
  {
   "cell_type": "markdown",
   "metadata": {},
   "source": [
    "Out of 81 features, 19 features have missing values. Let's check the percentage of missing values in these columns."
   ]
  },
  {
   "cell_type": "code",
   "execution_count": 39,
   "metadata": {},
   "outputs": [
    {
     "data": {
      "text/plain": [
       "Electrical      0.000685\n",
       "MasVnrType      0.005479\n",
       "MasVnrArea      0.005479\n",
       "BsmtQual        0.025342\n",
       "BsmtCond        0.025342\n",
       "BsmtFinType1    0.025342\n",
       "BsmtExposure    0.026027\n",
       "BsmtFinType2    0.026027\n",
       "GarageCond      0.055479\n",
       "GarageQual      0.055479\n",
       "GarageFinish    0.055479\n",
       "GarageType      0.055479\n",
       "GarageYrBlt     0.055479\n",
       "LotFrontage     0.177397\n",
       "FireplaceQu     0.472603\n",
       "Fence           0.807534\n",
       "Alley           0.937671\n",
       "MiscFeature     0.963014\n",
       "PoolQC          0.995205\n",
       "dtype: float64"
      ]
     },
     "execution_count": 39,
     "metadata": {},
     "output_type": "execute_result"
    }
   ],
   "source": [
    "# missing value counts in each of these columns\n",
    "miss1 = train.isnull().sum()/len(train)\n",
    "miss1 = miss1[miss1 > 0]\n",
    "miss1.sort_values(inplace=True)\n",
    "miss1"
   ]
  },
  {
   "cell_type": "markdown",
   "metadata": {},
   "source": [
    "We can infer that the variable PoolQC has 99.5% missing values followed by MiscFeature, Alley, and Fence. Let's look at a pretty picture explaining these missing values using a bar plot."
   ]
  },
  {
   "cell_type": "code",
   "execution_count": 42,
   "metadata": {},
   "outputs": [
    {
     "ename": "AttributeError",
     "evalue": "'DataFrame' object has no attribute 'to_frame'",
     "output_type": "error",
     "traceback": [
      "\u001b[1;31m---------------------------------------------------------------------------\u001b[0m",
      "\u001b[1;31mAttributeError\u001b[0m                            Traceback (most recent call last)",
      "\u001b[1;32m<ipython-input-42-9ffd25787138>\u001b[0m in \u001b[0;36m<module>\u001b[1;34m\u001b[0m\n\u001b[0;32m      1\u001b[0m \u001b[1;31m#visualising missing values\u001b[0m\u001b[1;33m\u001b[0m\u001b[1;33m\u001b[0m\u001b[1;33m\u001b[0m\u001b[0m\n\u001b[1;32m----> 2\u001b[1;33m \u001b[0mmiss1\u001b[0m \u001b[1;33m=\u001b[0m \u001b[0mmiss1\u001b[0m\u001b[1;33m.\u001b[0m\u001b[0mto_frame\u001b[0m\u001b[1;33m(\u001b[0m\u001b[1;33m)\u001b[0m\u001b[1;33m\u001b[0m\u001b[1;33m\u001b[0m\u001b[0m\n\u001b[0m\u001b[0;32m      3\u001b[0m \u001b[0mmiss1\u001b[0m\u001b[1;33m.\u001b[0m\u001b[0mcolumns\u001b[0m \u001b[1;33m=\u001b[0m \u001b[1;33m[\u001b[0m\u001b[1;34m'count'\u001b[0m\u001b[1;33m]\u001b[0m\u001b[1;33m\u001b[0m\u001b[1;33m\u001b[0m\u001b[0m\n\u001b[0;32m      4\u001b[0m \u001b[0mmiss1\u001b[0m\u001b[1;33m.\u001b[0m\u001b[0mindex\u001b[0m\u001b[1;33m.\u001b[0m\u001b[0mnames\u001b[0m \u001b[1;33m=\u001b[0m \u001b[1;33m[\u001b[0m\u001b[1;34m'Name'\u001b[0m\u001b[1;33m]\u001b[0m\u001b[1;33m\u001b[0m\u001b[1;33m\u001b[0m\u001b[0m\n\u001b[0;32m      5\u001b[0m \u001b[0mmiss1\u001b[0m\u001b[1;33m[\u001b[0m\u001b[1;34m'Name'\u001b[0m\u001b[1;33m]\u001b[0m \u001b[1;33m=\u001b[0m \u001b[0mmiss1\u001b[0m\u001b[1;33m.\u001b[0m\u001b[0mindex\u001b[0m\u001b[1;33m\u001b[0m\u001b[1;33m\u001b[0m\u001b[0m\n",
      "\u001b[1;32mC:\\Anaconda3\\lib\\site-packages\\pandas\\core\\generic.py\u001b[0m in \u001b[0;36m__getattr__\u001b[1;34m(self, name)\u001b[0m\n\u001b[0;32m   5177\u001b[0m             \u001b[1;32mif\u001b[0m \u001b[0mself\u001b[0m\u001b[1;33m.\u001b[0m\u001b[0m_info_axis\u001b[0m\u001b[1;33m.\u001b[0m\u001b[0m_can_hold_identifiers_and_holds_name\u001b[0m\u001b[1;33m(\u001b[0m\u001b[0mname\u001b[0m\u001b[1;33m)\u001b[0m\u001b[1;33m:\u001b[0m\u001b[1;33m\u001b[0m\u001b[1;33m\u001b[0m\u001b[0m\n\u001b[0;32m   5178\u001b[0m                 \u001b[1;32mreturn\u001b[0m \u001b[0mself\u001b[0m\u001b[1;33m[\u001b[0m\u001b[0mname\u001b[0m\u001b[1;33m]\u001b[0m\u001b[1;33m\u001b[0m\u001b[1;33m\u001b[0m\u001b[0m\n\u001b[1;32m-> 5179\u001b[1;33m             \u001b[1;32mreturn\u001b[0m \u001b[0mobject\u001b[0m\u001b[1;33m.\u001b[0m\u001b[0m__getattribute__\u001b[0m\u001b[1;33m(\u001b[0m\u001b[0mself\u001b[0m\u001b[1;33m,\u001b[0m \u001b[0mname\u001b[0m\u001b[1;33m)\u001b[0m\u001b[1;33m\u001b[0m\u001b[1;33m\u001b[0m\u001b[0m\n\u001b[0m\u001b[0;32m   5180\u001b[0m \u001b[1;33m\u001b[0m\u001b[0m\n\u001b[0;32m   5181\u001b[0m     \u001b[1;32mdef\u001b[0m \u001b[0m__setattr__\u001b[0m\u001b[1;33m(\u001b[0m\u001b[0mself\u001b[0m\u001b[1;33m,\u001b[0m \u001b[0mname\u001b[0m\u001b[1;33m,\u001b[0m \u001b[0mvalue\u001b[0m\u001b[1;33m)\u001b[0m\u001b[1;33m:\u001b[0m\u001b[1;33m\u001b[0m\u001b[1;33m\u001b[0m\u001b[0m\n",
      "\u001b[1;31mAttributeError\u001b[0m: 'DataFrame' object has no attribute 'to_frame'"
     ]
    }
   ],
   "source": [
    "#visualising missing values\n",
    "miss1 = miss1.to_frame()\n",
    "miss1.columns = ['count']\n",
    "miss1.index.names = ['Name']\n",
    "miss1['Name'] = miss1.index\n",
    "\n",
    "#plot the missing value count\n",
    "sns.set(style=\"whitegrid\", color_codes=True)\n",
    "sns.barplot(x = 'Name', y = 'count', data=miss1)\n",
    "plt.xticks(rotation = 90)\n",
    "sns.plt.show()"
   ]
  },
  {
   "cell_type": "markdown",
   "metadata": {},
   "source": [
    "##### Missing values: test "
   ]
  },
  {
   "cell_type": "code",
   "execution_count": 35,
   "metadata": {},
   "outputs": [
    {
     "data": {
      "text/plain": [
       "Index(['MSZoning', 'LotFrontage', 'Alley', 'Utilities', 'Exterior1st',\n",
       "       'Exterior2nd', 'MasVnrType', 'MasVnrArea', 'BsmtQual', 'BsmtCond',\n",
       "       'BsmtExposure', 'BsmtFinType1', 'BsmtFinSF1', 'BsmtFinType2',\n",
       "       'BsmtFinSF2', 'BsmtUnfSF', 'TotalBsmtSF', 'BsmtFullBath',\n",
       "       'BsmtHalfBath', 'KitchenQual', 'Functional', 'FireplaceQu',\n",
       "       'GarageType', 'GarageYrBlt', 'GarageFinish', 'GarageCars', 'GarageArea',\n",
       "       'GarageQual', 'GarageCond', 'PoolQC', 'Fence', 'MiscFeature',\n",
       "       'SaleType'],\n",
       "      dtype='object')"
      ]
     },
     "execution_count": 35,
     "metadata": {},
     "output_type": "execute_result"
    }
   ],
   "source": [
    "#check missing values\n",
    "test.columns[test.isnull().any()]"
   ]
  },
  {
   "cell_type": "markdown",
   "metadata": {},
   "source": [
    "Out of 80 features, 34 features have missing values. Let's check the percentage of missing values in these columns."
   ]
  },
  {
   "cell_type": "code",
   "execution_count": 45,
   "metadata": {},
   "outputs": [
    {
     "data": {
      "text/plain": [
       "TotalBsmtSF     0.000685\n",
       "GarageArea      0.000685\n",
       "GarageCars      0.000685\n",
       "KitchenQual     0.000685\n",
       "BsmtUnfSF       0.000685\n",
       "BsmtFinSF2      0.000685\n",
       "BsmtFinSF1      0.000685\n",
       "SaleType        0.000685\n",
       "Exterior1st     0.000685\n",
       "Exterior2nd     0.000685\n",
       "Functional      0.001371\n",
       "Utilities       0.001371\n",
       "BsmtHalfBath    0.001371\n",
       "BsmtFullBath    0.001371\n",
       "MSZoning        0.002742\n",
       "MasVnrArea      0.010281\n",
       "MasVnrType      0.010966\n",
       "BsmtFinType2    0.028787\n",
       "BsmtFinType1    0.028787\n",
       "BsmtQual        0.030158\n",
       "BsmtExposure    0.030158\n",
       "BsmtCond        0.030843\n",
       "GarageType      0.052090\n",
       "GarageFinish    0.053461\n",
       "GarageQual      0.053461\n",
       "GarageCond      0.053461\n",
       "GarageYrBlt     0.053461\n",
       "LotFrontage     0.155586\n",
       "FireplaceQu     0.500343\n",
       "Fence           0.801234\n",
       "Alley           0.926662\n",
       "MiscFeature     0.965045\n",
       "PoolQC          0.997944\n",
       "dtype: float64"
      ]
     },
     "execution_count": 45,
     "metadata": {},
     "output_type": "execute_result"
    }
   ],
   "source": [
    "# missing value counts in each of these columns\n",
    "miss2 = test.isnull().sum()/len(test)\n",
    "miss2 = miss2[miss2 > 0]\n",
    "miss2.sort_values(inplace=True)\n",
    "miss2"
   ]
  },
  {
   "cell_type": "markdown",
   "metadata": {},
   "source": [
    "We can infer that the variable PoolQC has 99.8% missing values followed by MiscFeature, Alley, and Fence like in 'train' dataset. Let's look at a pretty picture explaining these missing values using a bar plot."
   ]
  },
  {
   "cell_type": "code",
   "execution_count": 46,
   "metadata": {},
   "outputs": [
    {
     "ename": "AttributeError",
     "evalue": "module 'seaborn' has no attribute 'show'",
     "output_type": "error",
     "traceback": [
      "\u001b[1;31m---------------------------------------------------------------------------\u001b[0m",
      "\u001b[1;31mAttributeError\u001b[0m                            Traceback (most recent call last)",
      "\u001b[1;32m<ipython-input-46-e96c896e7148>\u001b[0m in \u001b[0;36m<module>\u001b[1;34m\u001b[0m\n\u001b[0;32m      9\u001b[0m \u001b[0msns\u001b[0m\u001b[1;33m.\u001b[0m\u001b[0mbarplot\u001b[0m\u001b[1;33m(\u001b[0m\u001b[0mx\u001b[0m \u001b[1;33m=\u001b[0m \u001b[1;34m'Name'\u001b[0m\u001b[1;33m,\u001b[0m \u001b[0my\u001b[0m \u001b[1;33m=\u001b[0m \u001b[1;34m'count'\u001b[0m\u001b[1;33m,\u001b[0m \u001b[0mdata\u001b[0m\u001b[1;33m=\u001b[0m\u001b[0mmiss2\u001b[0m\u001b[1;33m)\u001b[0m\u001b[1;33m\u001b[0m\u001b[1;33m\u001b[0m\u001b[0m\n\u001b[0;32m     10\u001b[0m \u001b[0mplt\u001b[0m\u001b[1;33m.\u001b[0m\u001b[0mxticks\u001b[0m\u001b[1;33m(\u001b[0m\u001b[0mrotation\u001b[0m \u001b[1;33m=\u001b[0m \u001b[1;36m90\u001b[0m\u001b[1;33m)\u001b[0m\u001b[1;33m\u001b[0m\u001b[1;33m\u001b[0m\u001b[0m\n\u001b[1;32m---> 11\u001b[1;33m \u001b[0msns\u001b[0m\u001b[1;33m.\u001b[0m\u001b[0mshow\u001b[0m\u001b[1;33m(\u001b[0m\u001b[1;33m)\u001b[0m\u001b[1;33m\u001b[0m\u001b[1;33m\u001b[0m\u001b[0m\n\u001b[0m",
      "\u001b[1;31mAttributeError\u001b[0m: module 'seaborn' has no attribute 'show'"
     ]
    },
    {
     "data": {
      "image/png": "[encoded data removed]",
      "text/plain": [
       "<Figure size 432x288 with 1 Axes>"
      ]
     },
     "metadata": {},
     "output_type": "display_data"
    }
   ],
   "source": [
    "#visualising missing values\n",
    "miss2 = miss2.to_frame()\n",
    "miss2.columns = ['count']\n",
    "miss2.index.names = ['Name']\n",
    "miss2['Name'] = miss2.index\n",
    "\n",
    "#plot the missing value count\n",
    "sns.set(style=\"whitegrid\", color_codes=True)\n",
    "sns.barplot(x = 'Name', y = 'count', data=miss2)\n",
    "plt.xticks(rotation = 90)\n",
    "sns.plt.show()"
   ]
  },
  {
   "cell_type": "code",
   "execution_count": null,
   "metadata": {},
   "outputs": [],
   "source": []
  },
  {
   "cell_type": "code",
   "execution_count": null,
   "metadata": {},
   "outputs": [],
   "source": []
  },
  {
   "cell_type": "code",
   "execution_count": null,
   "metadata": {},
   "outputs": [],
   "source": []
  },
  {
   "cell_type": "markdown",
   "metadata": {},
   "source": [
    "#### 2.5 Data Pre-Processing\n",
    "#### 2.6 Feature Engineering - Create 331 new features\n",
    "#### 2.7 Model Training - XGBoost, Neural Network, Lasso\n",
    "#### 2.8 Model Evaluation"
   ]
  },
  {
   "cell_type": "code",
   "execution_count": null,
   "metadata": {},
   "outputs": [],
   "source": []
  },
  {
   "cell_type": "code",
   "execution_count": null,
   "metadata": {},
   "outputs": [],
   "source": []
  },
  {
   "cell_type": "code",
   "execution_count": null,
   "metadata": {},
   "outputs": [],
   "source": []
  },
  {
   "cell_type": "code",
   "execution_count": null,
   "metadata": {},
   "outputs": [],
   "source": []
  },
  {
   "cell_type": "code",
   "execution_count": null,
   "metadata": {},
   "outputs": [],
   "source": []
  },
  {
   "cell_type": "code",
   "execution_count": null,
   "metadata": {},
   "outputs": [],
   "source": []
  }
 ],
 "metadata": {
  "kernelspec": {
   "display_name": "Python 3",
   "language": "python",
   "name": "python3"
  },
  "language_info": {
   "codemirror_mode": {
    "name": "ipython",
    "version": 3
   },
   "file_extension": ".py",
   "mimetype": "text/x-python",
   "name": "python",
   "nbconvert_exporter": "python",
   "pygments_lexer": "ipython3",
   "version": "3.7.4"
  }
 },
 "nbformat": 4,
 "nbformat_minor": 2
}
