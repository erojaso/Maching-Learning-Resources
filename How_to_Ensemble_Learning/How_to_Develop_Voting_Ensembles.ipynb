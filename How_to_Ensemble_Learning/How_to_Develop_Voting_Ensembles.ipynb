{
 "cells": [
  {
   "cell_type": "markdown",
   "metadata": {},
   "source": [
    "# How to Develop Voting Ensembles With Python\n",
    "by Jason Brownlee on April 17, 2020.[Here](https://machinelearningmastery.com/voting-ensembles-with-python/) in [Ensemble Learning](https://machinelearningmastery.com/category/ensemble-learning/)"
   ]
  }
 ],
 "metadata": {
  "kernelspec": {
   "display_name": "Python 3",
   "language": "python",
   "name": "python3"
  },
  "language_info": {
   "codemirror_mode": {
    "name": "ipython",
    "version": 3
   },
   "file_extension": ".py",
   "mimetype": "text/x-python",
   "name": "python",
   "nbconvert_exporter": "python",
   "pygments_lexer": "ipython3",
   "version": "3.8.3"
  }
 },
 "nbformat": 4,
 "nbformat_minor": 4
}
