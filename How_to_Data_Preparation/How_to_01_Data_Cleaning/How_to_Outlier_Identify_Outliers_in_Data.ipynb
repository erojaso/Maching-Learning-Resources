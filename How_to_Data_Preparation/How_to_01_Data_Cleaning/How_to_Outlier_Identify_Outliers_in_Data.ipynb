{
 "cells": [
  {
   "cell_type": "markdown",
   "metadata": {},
   "source": [
    "# How to Identify Outliers in your Data\n",
    "by Jason Brownlee on June 30, 2020. [Here](https://machinelearningmastery.com/how-to-identify-outliers-in-your-data/) in [Data Preparation](https://machinelearningmastery.com/category/data-preparation/)\n"
   ]
  }
 ],
 "metadata": {
  "kernelspec": {
   "display_name": "Python 3",
   "language": "python",
   "name": "python3"
  },
  "language_info": {
   "codemirror_mode": {
    "name": "ipython",
    "version": 3
   },
   "file_extension": ".py",
   "mimetype": "text/x-python",
   "name": "python",
   "nbconvert_exporter": "python",
   "pygments_lexer": "ipython3",
   "version": "3.7.6"
  }
 },
 "nbformat": 4,
 "nbformat_minor": 2
}
