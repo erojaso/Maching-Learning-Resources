{
 "cells": [
  {
   "cell_type": "markdown",
   "metadata": {},
   "source": [
    "# Using Image Processing to Detect Text\n",
    "Tim Chin. Jan 23, 2019. [Here](https://medium.com/@theclassytim/using-image-processing-to-detect-text-8be34c677c11)\n",
    "\n",
    "## Tools\n",
    "\n",
    "Detecting text from images is a prototypical modern puzzle that incorporates __image processing__, __computer vision__, and __machine learning__. Many existing applications do a splendid job in performing this function, such as \n",
    "\n",
    "- Google Lens\n",
    "- CamScanner\n",
    "\n",
    "Both of these applications take the next step and implement an optical character recognition (OCR) algorithm to interpret images into actual text.\n",
    "\n",
    "## Libraries\n",
    "\n",
    "- Tesseract (software). [Wiki](https://en.wikipedia.org/wiki/Tesseract_(software)).  [Repository](https://github.com/tesseract-ocr/tesseract).  [Tesseract User Manual](https://tesseract-ocr.github.io/tessdoc/Home.html)\n",
    "\n",
    "- OpenCV. [Documents](https://docs.opencv.org/).  [Reference](https://opencv.org/).  [Repository](https://github.com/opencv/opencv)\n",
    "\n",
    "- Intel® - OpenVINO. [Reference](https://opencv.org/intel/).  [Wiki](https://github.com/opencv/opencv/wiki/Intel%27s-Deep-Learning-Inference-Engine-backend).  [Repository](https://software.intel.com/en-us/openvino-toolkit).  [Pre-trained deep learning models](https://github.com/openvinotoolkit/open_model_zoo)"
   ]
  },
  {
   "cell_type": "code",
   "execution_count": 1,
   "metadata": {},
   "outputs": [
    {
     "name": "stdout",
     "output_type": "stream",
     "text": [
      "3.8.3 (default, Jul  2 2020, 17:30:36) [MSC v.1916 64 bit (AMD64)]\n",
      "4.0.1\n",
      "1.18.5\n"
     ]
    }
   ],
   "source": [
    "#Text image interpreter\n",
    "#By Tim Chinenov\n",
    "#import statistics\n",
    "import sys\n",
    "import cv2\n",
    "import numpy as np\n",
    "from matplotlib import pyplot as plt\n",
    "\n",
    "print(sys.version)\n",
    "print(cv2.__version__)\n",
    "print(np.__version__)\n",
    "#print(plt.__version__)"
   ]
  },
  {
   "cell_type": "code",
   "execution_count": 2,
   "metadata": {},
   "outputs": [],
   "source": [
    "sys.path.insert(0, '/PictureText_Source')\n",
    "#sys.path"
   ]
  },
  {
   "cell_type": "code",
   "execution_count": 4,
   "metadata": {},
   "outputs": [
    {
     "ename": "ModuleNotFoundError",
     "evalue": "No module named 'utils'",
     "output_type": "error",
     "traceback": [
      "\u001b[1;31m---------------------------------------------------------------------------\u001b[0m",
      "\u001b[1;31mModuleNotFoundError\u001b[0m                       Traceback (most recent call last)",
      "\u001b[1;32m<ipython-input-4-f28a02c23806>\u001b[0m in \u001b[0;36m<module>\u001b[1;34m\u001b[0m\n\u001b[0;32m      1\u001b[0m \u001b[1;32mfrom\u001b[0m \u001b[0mPictureText_Source\u001b[0m\u001b[1;33m.\u001b[0m\u001b[0mLetter\u001b[0m \u001b[1;32mimport\u001b[0m \u001b[0mLetter\u001b[0m\u001b[1;33m\u001b[0m\u001b[1;33m\u001b[0m\u001b[0m\n\u001b[1;32m----> 2\u001b[1;33m \u001b[1;32mfrom\u001b[0m \u001b[0mPictureText_Source\u001b[0m\u001b[1;33m.\u001b[0m\u001b[0mextract\u001b[0m \u001b[1;32mimport\u001b[0m \u001b[0mextract\u001b[0m\u001b[1;33m\u001b[0m\u001b[1;33m\u001b[0m\u001b[0m\n\u001b[0m",
      "\u001b[1;32mC:\\AnalyticWorkspace\\Maching-Learning-Resources\\How_to_Deep_Learning_Computer_Vision\\PictureText_Source\\extract.py\u001b[0m in \u001b[0;36m<module>\u001b[1;34m\u001b[0m\n\u001b[1;32m----> 1\u001b[1;33m \u001b[1;32mimport\u001b[0m \u001b[0mutils\u001b[0m\u001b[1;33m\u001b[0m\u001b[1;33m\u001b[0m\u001b[0m\n\u001b[0m\u001b[0;32m      2\u001b[0m \u001b[1;31m#import statistics\u001b[0m\u001b[1;33m\u001b[0m\u001b[1;33m\u001b[0m\u001b[1;33m\u001b[0m\u001b[0m\n\u001b[0;32m      3\u001b[0m \u001b[1;32mimport\u001b[0m \u001b[0mcv2\u001b[0m\u001b[1;33m\u001b[0m\u001b[1;33m\u001b[0m\u001b[0m\n\u001b[0;32m      4\u001b[0m \u001b[1;32mimport\u001b[0m \u001b[0mnumpy\u001b[0m \u001b[1;32mas\u001b[0m \u001b[0mnp\u001b[0m\u001b[1;33m\u001b[0m\u001b[1;33m\u001b[0m\u001b[0m\n\u001b[0;32m      5\u001b[0m \u001b[1;32mfrom\u001b[0m \u001b[0mmatplotlib\u001b[0m \u001b[1;32mimport\u001b[0m \u001b[0mpyplot\u001b[0m \u001b[1;32mas\u001b[0m \u001b[0mplt\u001b[0m\u001b[1;33m\u001b[0m\u001b[1;33m\u001b[0m\u001b[0m\n",
      "\u001b[1;31mModuleNotFoundError\u001b[0m: No module named 'utils'"
     ]
    }
   ],
   "source": [
    "from PictureText_Source.Letter import Letter"
   ]
  },
  {
   "cell_type": "code",
   "execution_count": null,
   "metadata": {},
   "outputs": [],
   "source": [
    "from PictureText_Source.utils import findCorners, findThresh, dist, mergeBoxes, findCenterCoor, findSlope, isInside, findArea"
   ]
  },
  {
   "cell_type": "code",
   "execution_count": null,
   "metadata": {},
   "outputs": [],
   "source": [
    "from PictureText_Source.extract import extract"
   ]
  },
  {
   "cell_type": "code",
   "execution_count": null,
   "metadata": {},
   "outputs": [],
   "source": [
    "extract()"
   ]
  },
  {
   "cell_type": "code",
   "execution_count": null,
   "metadata": {},
   "outputs": [],
   "source": []
  },
  {
   "cell_type": "code",
   "execution_count": null,
   "metadata": {},
   "outputs": [],
   "source": []
  }
 ],
 "metadata": {
  "kernelspec": {
   "display_name": "Python 3",
   "language": "python",
   "name": "python3"
  },
  "language_info": {
   "codemirror_mode": {
    "name": "ipython",
    "version": 3
   },
   "file_extension": ".py",
   "mimetype": "text/x-python",
   "name": "python",
   "nbconvert_exporter": "python",
   "pygments_lexer": "ipython3",
   "version": "3.8.3"
  }
 },
 "nbformat": 4,
 "nbformat_minor": 4
}
