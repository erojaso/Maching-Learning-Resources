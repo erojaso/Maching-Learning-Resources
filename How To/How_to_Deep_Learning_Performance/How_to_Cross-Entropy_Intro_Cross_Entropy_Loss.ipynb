{
 "cells": [
  {
   "cell_type": "markdown",
   "metadata": {},
   "source": [
    "# A Gentle Introduction to Cross-Entropy for Machine Learning\n",
    "\n",
    "by Jason Brownlee on December 20, 2019.[Here](https://machinelearningmastery.com/cross-entropy-for-machine-learning/) in [Probability](https://machinelearningmastery.com/category/probability/)"
   ]
  }
 ],
 "metadata": {
  "kernelspec": {
   "display_name": "Python 3",
   "language": "python",
   "name": "python3"
  },
  "language_info": {
   "codemirror_mode": {
    "name": "ipython",
    "version": 3
   },
   "file_extension": ".py",
   "mimetype": "text/x-python",
   "name": "python",
   "nbconvert_exporter": "python",
   "pygments_lexer": "ipython3",
   "version": "3.7.7"
  }
 },
 "nbformat": 4,
 "nbformat_minor": 4
}
