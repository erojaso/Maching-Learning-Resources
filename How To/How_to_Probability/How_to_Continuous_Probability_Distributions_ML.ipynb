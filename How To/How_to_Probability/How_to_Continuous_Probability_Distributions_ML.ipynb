{
 "cells": [
  {
   "cell_type": "markdown",
   "metadata": {},
   "source": [
    "# Continuous Probability Distributions for Machine Learning\n",
    "\n",
    "by Jason Brownlee on September 23, 2019. [Here](https://machinelearningmastery.com/continuous-probability-distributions-for-machine-learning/) in [Probability](https://machinelearningmastery.com/category/probability/)\n"
   ]
  }
 ],
 "metadata": {
  "language_info": {
   "codemirror_mode": {
    "name": "ipython",
    "version": 3
   },
   "file_extension": ".py",
   "mimetype": "text/x-python",
   "name": "python",
   "nbconvert_exporter": "python",
   "pygments_lexer": "ipython3",
   "version": 3
  },
  "orig_nbformat": 2
 },
 "nbformat": 4,
 "nbformat_minor": 2
}