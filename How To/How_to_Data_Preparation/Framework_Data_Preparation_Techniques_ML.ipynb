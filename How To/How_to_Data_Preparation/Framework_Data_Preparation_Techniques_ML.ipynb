{
 "cells": [
  {
   "cell_type": "markdown",
   "metadata": {},
   "source": [
    "# Framework for Data Preparation Techniques in Machine Learning\n",
    "\n",
    "by Jason Brownlee on July 13, 2020.[here](https://machinelearningmastery.com/framework-for-data-preparation-for-machine-learning/) in [Data Preparation](https://machinelearningmastery.com/framework-for-data-preparation-for-machine-learning/)\n",
    "\n",
    "\n"
   ]
  }
 ],
 "metadata": {
  "kernelspec": {
   "display_name": "Python 3",
   "language": "python",
   "name": "python3"
  },
  "language_info": {
   "codemirror_mode": {
    "name": "ipython",
    "version": 3
   },
   "file_extension": ".py",
   "mimetype": "text/x-python",
   "name": "python",
   "nbconvert_exporter": "python",
   "pygments_lexer": "ipython3",
   "version": "3.7.6"
  }
 },
 "nbformat": 4,
 "nbformat_minor": 4
}
