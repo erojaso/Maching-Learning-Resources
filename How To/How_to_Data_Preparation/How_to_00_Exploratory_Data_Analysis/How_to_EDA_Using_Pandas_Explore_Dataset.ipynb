{
 "cells": [
  {
   "cell_type": "markdown",
   "metadata": {},
   "source": [
    "# Using Pandas and Python to Explore Your Dataset\n",
    "\n",
    "by Reka Horvath  Jan 06, 2020.[Here](https://realpython.com/pandas-python-explore-dataset/)\n",
    "\n",
    "## Table of Contents\n",
    "\n",
    "- Setting Up Your Environment\n",
    "- Using the Pandas Python Library\n",
    "- Getting to Know Your Data\n",
    "    - Displaying Data Types\n",
    "    - Showing Basics Statistics\n",
    "    - Exploring Your Dataset\n",
    "- Getting to Know Pandas’ Data Structures\n",
    "    - Understanding Series Objects\n",
    "    - Understanding DataFrame Objects\n",
    "- Accessing Series Elements\n",
    "    - Using the Indexing Operator\n",
    "    - Using .loc and .iloc\n",
    "- Accessing DataFrame Elements\n",
    "    - Using the Indexing Operator\n",
    "    - Using .loc and .iloc\n",
    "- Querying Your Dataset\n",
    "- Grouping and Aggregating Your Data\n",
    "- Manipulating Columns\n",
    "- Specifying Data Types\n",
    "- Cleaning Data\n",
    "    - Missing Values\n",
    "    - Invalid Values\n",
    "    - Inconsistent Values\n",
    "- Combining Multiple Datasets\n",
    "- Visualizing Your Pandas DataFrame\n",
    "- Conclusion\n",
    "\n",
    "\n",
    "In this tutorial, you’ll learn how to:\n",
    "\n",
    "- `Calculate` metrics about your data\n",
    "- `Perform` basic queries and aggregations\n",
    "- `Discover` and handle incorrect data, inconsistencies, and missing values\n",
    "- `Visualize` your data with plots\n",
    "\n",
    "\n"
   ]
  },
  {
   "cell_type": "markdown",
   "metadata": {},
   "source": [
    "### Setting Up Your Environment"
   ]
  },
  {
   "cell_type": "code",
   "execution_count": 4,
   "metadata": {},
   "outputs": [
    {
     "name": "stdout",
     "output_type": "stream",
     "text": [
      "1.0.5\n",
      "2.24.0\n"
     ]
    }
   ],
   "source": [
    "import pandas as pd\n",
    "print(pd.__version__)\n",
    "\n",
    "import requests\n",
    "print(requests.__version__)"
   ]
  },
  {
   "cell_type": "markdown",
   "metadata": {},
   "source": [
    "###  Using the Pandas Python Library"
   ]
  },
  {
   "cell_type": "code",
   "execution_count": 5,
   "metadata": {},
   "outputs": [],
   "source": [
    "from pandas import read_csv\n",
    "\n",
    "download_url = \"https://raw.githubusercontent.com/fivethirtyeight/data/master/nba-elo/nbaallelo.csv\"\n",
    "\n",
    "\n",
    "response = requests.get(download_url)\n",
    "response.raise_for_status()"
   ]
  },
  {
   "cell_type": "code",
   "execution_count": 8,
   "metadata": {},
   "outputs": [
    {
     "name": "stdout",
     "output_type": "stream",
     "text": [
      "Download ready\n"
     ]
    }
   ],
   "source": [
    "target_csv_path = \"..\\\\..\\\\..\\\\data\\\\nbaallelo.data.csv\"\n",
    "\n",
    "with open(target_csv_path, 'wb') as f:\n",
    "    f.write(response.content)\n",
    "print('Download ready')"
   ]
  },
  {
   "cell_type": "code",
   "execution_count": null,
   "metadata": {},
   "outputs": [],
   "source": []
  },
  {
   "cell_type": "code",
   "execution_count": null,
   "metadata": {},
   "outputs": [],
   "source": []
  },
  {
   "cell_type": "code",
   "execution_count": null,
   "metadata": {},
   "outputs": [],
   "source": []
  },
  {
   "cell_type": "code",
   "execution_count": null,
   "metadata": {},
   "outputs": [],
   "source": []
  },
  {
   "cell_type": "code",
   "execution_count": null,
   "metadata": {},
   "outputs": [],
   "source": []
  },
  {
   "cell_type": "code",
   "execution_count": null,
   "metadata": {},
   "outputs": [],
   "source": []
  },
  {
   "cell_type": "code",
   "execution_count": null,
   "metadata": {},
   "outputs": [],
   "source": []
  },
  {
   "cell_type": "code",
   "execution_count": null,
   "metadata": {},
   "outputs": [],
   "source": []
  },
  {
   "cell_type": "code",
   "execution_count": null,
   "metadata": {},
   "outputs": [],
   "source": []
  },
  {
   "cell_type": "code",
   "execution_count": null,
   "metadata": {},
   "outputs": [],
   "source": []
  }
 ],
 "metadata": {
  "kernelspec": {
   "display_name": "Python 3",
   "language": "python",
   "name": "python3"
  },
  "language_info": {
   "codemirror_mode": {
    "name": "ipython",
    "version": 3
   },
   "file_extension": ".py",
   "mimetype": "text/x-python",
   "name": "python",
   "nbconvert_exporter": "python",
   "pygments_lexer": "ipython3",
   "version": "3.7.7"
  }
 },
 "nbformat": 4,
 "nbformat_minor": 4
}
