{
 "cells": [
  {
   "cell_type": "markdown",
   "metadata": {},
   "source": [
    "# Pandas GroupBy: Your Guide to Grouping Data in Python\n",
    "    \n",
    "by Brad Solomon  Nov 18, 2019.[Here](https://realpython.com/pandas-groupby/)\n",
    "\n",
    "## Table of Contents\n",
    "\n",
    "1. Housekeeping\n",
    "2. Example 1: U.S. Congress Dataset\n",
    "    - 2.1 The “Hello, World!” of Pandas GroupBy\n",
    "    - 2.2 Pandas GroupBy vs SQL\n",
    "    - 2.3 How Pandas GroupBy Works\n",
    "3. Example 2: Air Quality Dataset\n",
    "    - 3.1 Grouping on Derived Arrays\n",
    "    - 3.2 Resampling\n",
    "4. Example 3: News Aggregator Dataset\n",
    "    - 4.1 Using Lambda Functions in .groupby()\n",
    "    - 4.2 Improving the Performance of .groupby()\n",
    "5. Pandas GroupBy: Putting It All Together\n",
    "6. Conclusion\n",
    "7. More Resources on Pandas GroupBy\n",
    "\n",
    "In this tutorial, you’ll cover:\n",
    "\n",
    "- How to use `Pandas GroupBy` operations on real-world data\n",
    "- How the `split-apply-combine` chain of operations works\n",
    "- How to `decompose the split-apply-combine` chain into steps\n",
    "- How methods of a Pandas GroupBy object can be placed into different categories based on their intent and result"
   ]
  },
  {
   "cell_type": "code",
   "execution_count": 2,
   "metadata": {},
   "outputs": [
    {
     "ename": "SyntaxError",
     "evalue": "invalid syntax (<ipython-input-2-54176d4215b4>, line 10)",
     "output_type": "error",
     "traceback": [
      "\u001b[1;36m  File \u001b[1;32m\"<ipython-input-2-54176d4215b4>\"\u001b[1;36m, line \u001b[1;32m10\u001b[0m\n\u001b[1;33m    $pd.set_option(\"display.max_rows\", 25)$\u001b[0m\n\u001b[1;37m    ^\u001b[0m\n\u001b[1;31mSyntaxError\u001b[0m\u001b[1;31m:\u001b[0m invalid syntax\n"
     ]
    }
   ],
   "source": [
    "import pandas as pd\n",
    "\n",
    "# Use 3 decimal places in output display\n",
    "pd.set_option(\"display.precision\", 3)\n",
    "\n",
    "# Don't wrap repr(DataFrame) across additional lines\n",
    "pd.set_option(\"display.expand_frame_repr\", False)\n",
    "\n",
    "# Set max rows displayed in output to 25\n",
    "pd.set_option(\"display.max_rows\", 25)\n",
    "\n"
   ]
  },
  {
   "cell_type": "code",
   "execution_count": null,
   "metadata": {},
   "outputs": [],
   "source": []
  },
  {
   "cell_type": "code",
   "execution_count": null,
   "metadata": {},
   "outputs": [],
   "source": []
  },
  {
   "cell_type": "code",
   "execution_count": null,
   "metadata": {},
   "outputs": [],
   "source": []
  },
  {
   "cell_type": "code",
   "execution_count": null,
   "metadata": {},
   "outputs": [],
   "source": []
  },
  {
   "cell_type": "code",
   "execution_count": null,
   "metadata": {},
   "outputs": [],
   "source": []
  },
  {
   "cell_type": "code",
   "execution_count": null,
   "metadata": {},
   "outputs": [],
   "source": []
  },
  {
   "cell_type": "code",
   "execution_count": null,
   "metadata": {},
   "outputs": [],
   "source": []
  },
  {
   "cell_type": "code",
   "execution_count": null,
   "metadata": {},
   "outputs": [],
   "source": []
  }
 ],
 "metadata": {
  "kernelspec": {
   "display_name": "Python 3",
   "language": "python",
   "name": "python3"
  },
  "language_info": {
   "codemirror_mode": {
    "name": "ipython",
    "version": 3
   },
   "file_extension": ".py",
   "mimetype": "text/x-python",
   "name": "python",
   "nbconvert_exporter": "python",
   "pygments_lexer": "ipython3",
   "version": "3.7.7"
  }
 },
 "nbformat": 4,
 "nbformat_minor": 4
}
