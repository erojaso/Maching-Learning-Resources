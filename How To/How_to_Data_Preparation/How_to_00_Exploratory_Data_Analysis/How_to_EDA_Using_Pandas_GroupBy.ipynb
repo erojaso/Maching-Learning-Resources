{
 "cells": [
  {
   "cell_type": "markdown",
   "metadata": {},
   "source": [
    "# Pandas GroupBy: Your Guide to Grouping Data in Python\n",
    "    \n",
    "by Brad Solomon  Nov 18, 2019.[Here](https://realpython.com/pandas-groupby/)\n",
    "\n",
    "\n",
    "\n",
    "## Table of Contents\n",
    "\n",
    "1. Housekeeping\n",
    "2. Example 1: U.S. Congress Dataset\n",
    "    - 2.1 The “Hello, World!” of Pandas GroupBy\n",
    "    - 2.2 Pandas GroupBy vs SQL\n",
    "    - 2.3 How Pandas GroupBy Works\n",
    "        - 2.3.a DataFrameGroupBy.```__iter__()```\n",
    "        - 2.3.b DataFrameGroupBy.```groups()```\n",
    "        - 2.3.c DataFrameGroupBy.```get_group()```\n",
    "        - 2.3.d next()\n",
    "3. Example 2: Air Quality Dataset\n",
    "    - 3.1 Grouping on Derived Arrays\n",
    "    - 3.2 Resampling\n",
    "4. Example 3: News Aggregator Dataset\n",
    "    - 4.1 Using Lambda Functions in .groupby()\n",
    "    - 4.2 Improving the Performance of .groupby()\n",
    "5. Pandas GroupBy: Putting It All Together\n",
    "6. Conclusion\n",
    "7. More Resources on Pandas GroupBy\n",
    "\n",
    "In this tutorial, you’ll cover:\n",
    "\n",
    "- How to use `Pandas GroupBy` operations on real-world data\n",
    "- How the `split-apply-combine` chain of operations works\n",
    "- How to `decompose the split-apply-combine` chain into steps\n",
    "- How methods of a Pandas GroupBy object can be placed into different categories based on their intent and result\n",
    "\n",
    "### 1. Housekeeping\n",
    "\n",
    "- The U.S. Congress dataset.[Here](https://github.com/unitedstates/congress-legislators)\n",
    "- The air quality dataset.[Here](http://archive.ics.uci.edu/ml/datasets/Air+Quality)\n",
    "- The news aggregator dataset.[Here](http://archive.ics.uci.edu/ml/datasets/News+Aggregator)\n"
   ]
  },
  {
   "cell_type": "code",
   "execution_count": 1,
   "metadata": {},
   "outputs": [],
   "source": [
    "import pandas as pd\n",
    "\n",
    "# Use 3 decimal places in output display\n",
    "pd.set_option(\"display.precision\", 3)\n",
    "\n",
    "# Don't wrap repr(DataFrame) across additional lines\n",
    "pd.set_option(\"display.expand_frame_repr\", False)\n",
    "\n",
    "# Set max rows displayed in output to 25\n",
    "pd.set_option(\"display.max_rows\", 25)"
   ]
  },
  {
   "cell_type": "markdown",
   "metadata": {},
   "source": [
    "### 2. Example 1: U.S. Congress Dataset"
   ]
  },
  {
   "cell_type": "code",
   "execution_count": 2,
   "metadata": {},
   "outputs": [],
   "source": [
    "import pandas as pd\n",
    "\n",
    "dtypes = {\n",
    "    \"first_name\": \"category\",\n",
    "    \"gender\": \"category\",\n",
    "    \"type\": \"category\",\n",
    "    \"state\": \"category\",\n",
    "    \"party\": \"category\",\n",
    "}\n",
    "df = pd.read_csv(\n",
    "    \"..\\\\..\\\\..\\\\data\\legislators.historical.data.csv\",\n",
    "    dtype=dtypes,\n",
    "    usecols=list(dtypes) + [\"birthday\", \"last_name\"],\n",
    "    parse_dates=[\"birthday\"]\n",
    ")"
   ]
  },
  {
   "cell_type": "code",
   "execution_count": 3,
   "metadata": {},
   "outputs": [
    {
     "data": {
      "text/html": [
       "<div>\n",
       "<style scoped>\n",
       "    .dataframe tbody tr th:only-of-type {\n",
       "        vertical-align: middle;\n",
       "    }\n",
       "\n",
       "    .dataframe tbody tr th {\n",
       "        vertical-align: top;\n",
       "    }\n",
       "\n",
       "    .dataframe thead th {\n",
       "        text-align: right;\n",
       "    }\n",
       "</style>\n",
       "<table border=\"1\" class=\"dataframe\">\n",
       "  <thead>\n",
       "    <tr style=\"text-align: right;\">\n",
       "      <th></th>\n",
       "      <th>last_name</th>\n",
       "      <th>first_name</th>\n",
       "      <th>birthday</th>\n",
       "      <th>gender</th>\n",
       "      <th>type</th>\n",
       "      <th>state</th>\n",
       "      <th>party</th>\n",
       "    </tr>\n",
       "  </thead>\n",
       "  <tbody>\n",
       "    <tr>\n",
       "      <th>0</th>\n",
       "      <td>Bassett</td>\n",
       "      <td>Richard</td>\n",
       "      <td>1745-04-02</td>\n",
       "      <td>M</td>\n",
       "      <td>sen</td>\n",
       "      <td>DE</td>\n",
       "      <td>Anti-Administration</td>\n",
       "    </tr>\n",
       "    <tr>\n",
       "      <th>1</th>\n",
       "      <td>Bland</td>\n",
       "      <td>Theodorick</td>\n",
       "      <td>1742-03-21</td>\n",
       "      <td>M</td>\n",
       "      <td>rep</td>\n",
       "      <td>VA</td>\n",
       "      <td>NaN</td>\n",
       "    </tr>\n",
       "    <tr>\n",
       "      <th>2</th>\n",
       "      <td>Burke</td>\n",
       "      <td>Aedanus</td>\n",
       "      <td>1743-06-16</td>\n",
       "      <td>M</td>\n",
       "      <td>rep</td>\n",
       "      <td>SC</td>\n",
       "      <td>NaN</td>\n",
       "    </tr>\n",
       "    <tr>\n",
       "      <th>3</th>\n",
       "      <td>Carroll</td>\n",
       "      <td>Daniel</td>\n",
       "      <td>1730-07-22</td>\n",
       "      <td>M</td>\n",
       "      <td>rep</td>\n",
       "      <td>MD</td>\n",
       "      <td>NaN</td>\n",
       "    </tr>\n",
       "    <tr>\n",
       "      <th>4</th>\n",
       "      <td>Clymer</td>\n",
       "      <td>George</td>\n",
       "      <td>1739-03-16</td>\n",
       "      <td>M</td>\n",
       "      <td>rep</td>\n",
       "      <td>PA</td>\n",
       "      <td>NaN</td>\n",
       "    </tr>\n",
       "  </tbody>\n",
       "</table>\n",
       "</div>"
      ],
      "text/plain": [
       "  last_name  first_name   birthday gender type state                party\n",
       "0   Bassett     Richard 1745-04-02      M  sen    DE  Anti-Administration\n",
       "1     Bland  Theodorick 1742-03-21      M  rep    VA                  NaN\n",
       "2     Burke     Aedanus 1743-06-16      M  rep    SC                  NaN\n",
       "3   Carroll      Daniel 1730-07-22      M  rep    MD                  NaN\n",
       "4    Clymer      George 1739-03-16      M  rep    PA                  NaN"
      ]
     },
     "execution_count": 3,
     "metadata": {},
     "output_type": "execute_result"
    }
   ],
   "source": [
    "df.head()\n",
    "#df.tail()"
   ]
  },
  {
   "cell_type": "code",
   "execution_count": 4,
   "metadata": {},
   "outputs": [
    {
     "name": "stdout",
     "output_type": "stream",
     "text": [
      "<class 'pandas.core.frame.DataFrame'>\n",
      "RangeIndex: 11982 entries, 0 to 11981\n",
      "Data columns (total 7 columns):\n",
      " #   Column      Non-Null Count  Dtype         \n",
      "---  ------      --------------  -----         \n",
      " 0   last_name   11982 non-null  object        \n",
      " 1   first_name  11982 non-null  category      \n",
      " 2   birthday    11431 non-null  datetime64[ns]\n",
      " 3   gender      11982 non-null  category      \n",
      " 4   type        11982 non-null  category      \n",
      " 5   state       11982 non-null  category      \n",
      " 6   party       11750 non-null  category      \n",
      "dtypes: category(5), datetime64[ns](1), object(1)\n",
      "memory usage: 315.7+ KB\n"
     ]
    }
   ],
   "source": [
    "df.info()"
   ]
  },
  {
   "cell_type": "markdown",
   "metadata": {},
   "source": [
    "#### 2.1 The “Hello, World!” of Pandas GroupBy\n",
    "\n",
    "__What is the count of Congressional members, on a state-by-state basis, over the entire history of the dataset?__ \n",
    "\n",
    "In SQL, you could find this answer with a SELECT statement:\n",
    "\n",
    "```\n",
    "SELECT state, count(last_name)\n",
    "FROM df\n",
    "GROUP BY state\n",
    "ORDER BY state;\n",
    "```\n",
    "\n",
    "The near-equivalent in Pandas:"
   ]
  },
  {
   "cell_type": "code",
   "execution_count": 5,
   "metadata": {},
   "outputs": [
    {
     "data": {
      "text/plain": [
       "state\n",
       "AK     16\n",
       "AL    206\n",
       "AR    117\n",
       "AS      2\n",
       "AZ     48\n",
       "CA    363\n",
       "CO     90\n",
       "CT    240\n",
       "DC      2\n",
       "DE     97\n",
       "Name: last_name, dtype: int64"
      ]
     },
     "execution_count": 5,
     "metadata": {},
     "output_type": "execute_result"
    }
   ],
   "source": [
    "n_by_state = df.groupby(\"state\")[\"last_name\"].count()\n",
    "n_by_state.head(10)"
   ]
  },
  {
   "cell_type": "markdown",
   "metadata": {},
   "source": [
    "You call .groupby() and pass the name of the column you want to group on, which is \"state\". Then, you use [\"last_name\"] to specify the columns on which you want to perform the actual aggregation.\n",
    "\n",
    "You can pass a lot more than just a single column name to .groupby() as the first argument. You can also specify any of the following:\n",
    "\n",
    "- A [list](https://realpython.com/python-lists-tuples/) of multiple column names\n",
    "- A [dict](https://realpython.com/python-dicts/) or Pandas Series\n",
    "- A [NumPy array](https://realpython.com/numpy-array-programming/) or Pandas Index, or an array-like iterable of these\n",
    "\n",
    "Here’s an example of grouping `jointly on two columns`, __which finds the count of Congressional members broken out by state and then by gender__:\n",
    "\n",
    "The analogous SQL query would look like this:\n",
    "```\n",
    "SELECT state, gender, count(last_name)\n",
    "FROM df\n",
    "GROUP BY state, gender\n",
    "ORDER BY state, gender;\n",
    "```"
   ]
  },
  {
   "cell_type": "code",
   "execution_count": 6,
   "metadata": {},
   "outputs": [
    {
     "data": {
      "text/plain": [
       "state  gender\n",
       "AK     F           0\n",
       "       M          16\n",
       "AL     F           3\n",
       "       M         203\n",
       "AR     F           5\n",
       "                ... \n",
       "WI     M         197\n",
       "WV     F           1\n",
       "       M         119\n",
       "WY     F           2\n",
       "       M          38\n",
       "Name: last_name, Length: 116, dtype: int64"
      ]
     },
     "execution_count": 6,
     "metadata": {},
     "output_type": "execute_result"
    }
   ],
   "source": [
    "df2c = df.groupby([\"state\", \"gender\"])[\"last_name\"].count()\n",
    "df2c"
   ]
  },
  {
   "cell_type": "markdown",
   "metadata": {},
   "source": [
    "#### 2.2 Pandas GroupBy vs SQL\n",
    "\n",
    "This is a good time to introduce one prominent difference between the Pandas GroupBy operation and the SQL query above. The result set of the SQL query contains three columns:\n",
    "\n",
    "1. state\n",
    "2. gender\n",
    "3. count\n",
    "\n",
    "In the Pandas version, the grouped-on columns are pushed into the __MultiIndex__ of the resulting Series by default:"
   ]
  },
  {
   "cell_type": "code",
   "execution_count": 7,
   "metadata": {},
   "outputs": [
    {
     "data": {
      "text/plain": [
       "pandas.core.series.Series"
      ]
     },
     "execution_count": 7,
     "metadata": {},
     "output_type": "execute_result"
    }
   ],
   "source": [
    "n_by_state_gender = df.groupby([\"state\", \"gender\"])[\"last_name\"].count()\n",
    "type(n_by_state_gender)"
   ]
  },
  {
   "cell_type": "code",
   "execution_count": 8,
   "metadata": {},
   "outputs": [
    {
     "data": {
      "text/plain": [
       "MultiIndex([('AK', 'F'),\n",
       "            ('AK', 'M'),\n",
       "            ('AL', 'F'),\n",
       "            ('AL', 'M'),\n",
       "            ('AR', 'F')],\n",
       "           names=['state', 'gender'])"
      ]
     },
     "execution_count": 8,
     "metadata": {},
     "output_type": "execute_result"
    }
   ],
   "source": [
    "n_by_state_gender.index[:5]"
   ]
  },
  {
   "cell_type": "markdown",
   "metadata": {},
   "source": [
    "To more closely emulate the SQL result and push the grouped-on columns back into columns in the result, you an use as_index=False:\n",
    "\n",
    "This __produces a DataFrame with three columns and a RangeIndex__, rather than a Series with a MultiIndex. In short, `using as_index=False will make your result more closely mimic the default SQL output for a similar operation`."
   ]
  },
  {
   "cell_type": "code",
   "execution_count": 9,
   "metadata": {},
   "outputs": [
    {
     "data": {
      "text/html": [
       "<div>\n",
       "<style scoped>\n",
       "    .dataframe tbody tr th:only-of-type {\n",
       "        vertical-align: middle;\n",
       "    }\n",
       "\n",
       "    .dataframe tbody tr th {\n",
       "        vertical-align: top;\n",
       "    }\n",
       "\n",
       "    .dataframe thead th {\n",
       "        text-align: right;\n",
       "    }\n",
       "</style>\n",
       "<table border=\"1\" class=\"dataframe\">\n",
       "  <thead>\n",
       "    <tr style=\"text-align: right;\">\n",
       "      <th></th>\n",
       "      <th>state</th>\n",
       "      <th>gender</th>\n",
       "      <th>last_name</th>\n",
       "    </tr>\n",
       "  </thead>\n",
       "  <tbody>\n",
       "    <tr>\n",
       "      <th>0</th>\n",
       "      <td>AK</td>\n",
       "      <td>F</td>\n",
       "      <td>NaN</td>\n",
       "    </tr>\n",
       "    <tr>\n",
       "      <th>1</th>\n",
       "      <td>AK</td>\n",
       "      <td>M</td>\n",
       "      <td>16.0</td>\n",
       "    </tr>\n",
       "    <tr>\n",
       "      <th>2</th>\n",
       "      <td>AL</td>\n",
       "      <td>F</td>\n",
       "      <td>3.0</td>\n",
       "    </tr>\n",
       "    <tr>\n",
       "      <th>3</th>\n",
       "      <td>AL</td>\n",
       "      <td>M</td>\n",
       "      <td>203.0</td>\n",
       "    </tr>\n",
       "    <tr>\n",
       "      <th>4</th>\n",
       "      <td>AR</td>\n",
       "      <td>F</td>\n",
       "      <td>5.0</td>\n",
       "    </tr>\n",
       "    <tr>\n",
       "      <th>...</th>\n",
       "      <td>...</td>\n",
       "      <td>...</td>\n",
       "      <td>...</td>\n",
       "    </tr>\n",
       "    <tr>\n",
       "      <th>111</th>\n",
       "      <td>WI</td>\n",
       "      <td>M</td>\n",
       "      <td>197.0</td>\n",
       "    </tr>\n",
       "    <tr>\n",
       "      <th>112</th>\n",
       "      <td>WV</td>\n",
       "      <td>F</td>\n",
       "      <td>1.0</td>\n",
       "    </tr>\n",
       "    <tr>\n",
       "      <th>113</th>\n",
       "      <td>WV</td>\n",
       "      <td>M</td>\n",
       "      <td>119.0</td>\n",
       "    </tr>\n",
       "    <tr>\n",
       "      <th>114</th>\n",
       "      <td>WY</td>\n",
       "      <td>F</td>\n",
       "      <td>2.0</td>\n",
       "    </tr>\n",
       "    <tr>\n",
       "      <th>115</th>\n",
       "      <td>WY</td>\n",
       "      <td>M</td>\n",
       "      <td>38.0</td>\n",
       "    </tr>\n",
       "  </tbody>\n",
       "</table>\n",
       "<p>116 rows × 3 columns</p>\n",
       "</div>"
      ],
      "text/plain": [
       "    state gender  last_name\n",
       "0      AK      F        NaN\n",
       "1      AK      M       16.0\n",
       "2      AL      F        3.0\n",
       "3      AL      M      203.0\n",
       "4      AR      F        5.0\n",
       "..    ...    ...        ...\n",
       "111    WI      M      197.0\n",
       "112    WV      F        1.0\n",
       "113    WV      M      119.0\n",
       "114    WY      F        2.0\n",
       "115    WY      M       38.0\n",
       "\n",
       "[116 rows x 3 columns]"
      ]
     },
     "execution_count": 9,
     "metadata": {},
     "output_type": "execute_result"
    }
   ],
   "source": [
    "df.groupby([\"state\", \"gender\"], as_index=False)[\"last_name\"].count()"
   ]
  },
  {
   "cell_type": "markdown",
   "metadata": {},
   "source": [
    "Also note that the SQL queries above explicitly use __ORDER BY__, whereas .groupby() does not. That’s because `.groupby() does this by default through its parameter sort, which is True` unless you tell it otherwise:"
   ]
  },
  {
   "cell_type": "code",
   "execution_count": 10,
   "metadata": {},
   "outputs": [
    {
     "data": {
      "text/plain": [
       "state\n",
       "DE      97\n",
       "VA     432\n",
       "SC     251\n",
       "MD     305\n",
       "PA    1053\n",
       "      ... \n",
       "AK      16\n",
       "PI      13\n",
       "VI       4\n",
       "GU       4\n",
       "AS       2\n",
       "Name: last_name, Length: 58, dtype: int64"
      ]
     },
     "execution_count": 10,
     "metadata": {},
     "output_type": "execute_result"
    }
   ],
   "source": [
    "# Don't sort results by the sort keys\n",
    "df.groupby(\"state\", sort=False)[\"last_name\"].count()"
   ]
  },
  {
   "cell_type": "markdown",
   "metadata": {},
   "source": [
    "#### 2.3 How Pandas GroupBy Works"
   ]
  },
  {
   "cell_type": "code",
   "execution_count": 11,
   "metadata": {},
   "outputs": [
    {
     "name": "stdout",
     "output_type": "stream",
     "text": [
      "<pandas.core.groupby.generic.DataFrameGroupBy object at 0x000002CFEB865948>\n"
     ]
    }
   ],
   "source": [
    "by_state = df.groupby(\"state\")\n",
    "print(by_state)"
   ]
  },
  {
   "cell_type": "markdown",
   "metadata": {},
   "source": [
    "What is that DataFrameGroupBy thing? Its **`.__str__()`** doesn’t give you much information into what it actually is or how it works.\n",
    "\n",
    "One term that’s frequently used alongside .groupby() is __split-apply-combine__. This refers to a chain of three steps:\n",
    "\n",
    "- Split a table into groups\n",
    "- Apply some operations to each of those smaller tables\n",
    "- Combine the results\n",
    "\n",
    "So, `how can you mentally separate the split, apply, and combine stages if you can’t see any of them happening in isolation?` One useful way to inspect a Pandas GroupBy object and see the splitting in action is to iterate over it. This is implemented in **`DataFrameGroupBy.__iter__()`** and produces an iterator of (group, DataFrame) pairs for DataFrames:\n",
    "\n",
    "#####  2.3.a DataFrameGroupBy.``` __iter__()```"
   ]
  },
  {
   "cell_type": "code",
   "execution_count": 12,
   "metadata": {},
   "outputs": [
    {
     "name": "stdout",
     "output_type": "stream",
     "text": [
      "First 2 entries for 'AK'\n",
      "------------------------\n",
      "     last_name first_name   birthday gender type state        party\n",
      "6618    Waskey      Frank 1875-04-20      M  rep    AK     Democrat\n",
      "6646      Cale     Thomas 1848-09-17      M  rep    AK  Independent\n",
      "\n",
      "First 2 entries for 'AL'\n",
      "------------------------\n",
      "    last_name first_name   birthday gender type state       party\n",
      "911   Crowell       John 1780-09-18      M  rep    AL  Republican\n",
      "990    Walker       John 1783-08-12      M  sen    AL  Republican\n",
      "\n",
      "First 2 entries for 'AR'\n",
      "------------------------\n",
      "     last_name first_name   birthday gender type state party\n",
      "1000     Bates      James 1788-08-25      M  rep    AR   NaN\n",
      "1278    Conway      Henry 1793-03-18      M  rep    AR   NaN\n",
      "\n",
      "First 2 entries for 'AS'\n",
      "------------------------\n",
      "          last_name first_name   birthday gender type state     party\n",
      "10796         Sunia       Fofó 1937-03-13      M  rep    AS  Democrat\n",
      "11753  Faleomavaega        Eni 1943-08-15      M  rep    AS  Democrat\n",
      "\n",
      "First 2 entries for 'AZ'\n",
      "------------------------\n",
      "     last_name first_name   birthday gender type state       party\n",
      "3673    Poston    Charles 1825-04-20      M  rep    AZ  Republican\n",
      "3724   Goodwin       John 1824-10-18      M  rep    AZ  Republican\n",
      "\n",
      "First 2 entries for 'CA'\n",
      "------------------------\n",
      "     last_name first_name   birthday gender type state        party\n",
      "2649   Gilbert     Edward        NaT      M  rep    CA     Democrat\n",
      "2741    Wright     George 1816-06-04      M  rep    CA  Independent\n",
      "\n",
      "First 2 entries for 'CO'\n",
      "------------------------\n",
      "     last_name first_name   birthday gender type state                    party\n",
      "3613    Bennet      Hiram 1826-09-02      M  rep    CO  Conservative Republican\n",
      "3932  Bradford      Allen 1815-07-23      M  rep    CO               Republican\n",
      "\n",
      "First 2 entries for 'CT'\n",
      "------------------------\n",
      "     last_name first_name   birthday gender type state               party\n",
      "14  Huntington   Benjamin 1736-04-19      M  rep    CT                 NaN\n",
      "16     Johnson    William 1727-10-07      M  sen    CT  Pro-Administration\n",
      "\n",
      "First 2 entries for 'DC'\n",
      "------------------------\n",
      "      last_name first_name   birthday gender type state       party\n",
      "4231    Chipman     Norton 1834-03-07      M  rep    DC  Republican\n",
      "10820  Fauntroy     Walter 1933-02-06      M  rep    DC    Democrat\n",
      "\n",
      "First 2 entries for 'DE'\n",
      "------------------------\n",
      "   last_name first_name   birthday gender type state                party\n",
      "0    Bassett    Richard 1745-04-02      M  sen    DE  Anti-Administration\n",
      "40      Read     George 1733-09-18      M  sen    DE                  NaN\n",
      "\n",
      "First 2 entries for 'DK'\n",
      "------------------------\n",
      "     last_name first_name   birthday gender type state     party\n",
      "3641     Jayne    William 1826-10-08      M  rep    DK       NaN\n",
      "3686      Todd       John 1814-04-04      M  rep    DK  Democrat\n",
      "\n",
      "First 2 entries for 'FL'\n",
      "------------------------\n",
      "      last_name first_name   birthday gender type state party\n",
      "1030  Hernández     Joseph 1788-05-26      M  rep    FL   NaN\n",
      "1089       Call    Richard 1792-10-24      M  rep    FL   NaN\n",
      "\n",
      "First 2 entries for 'GA'\n",
      "------------------------\n",
      "   last_name first_name   birthday gender type state                party\n",
      "8        Few    William 1748-06-08      M  sen    GA  Anti-Administration\n",
      "20   Mathews     George 1739-08-30      M  rep    GA                  NaN\n",
      "\n",
      "First 2 entries for 'GU'\n",
      "------------------------\n",
      "      last_name first_name   birthday gender type state       party\n",
      "10703   Won Pat    Antonio 1908-12-10      M  rep    GU    Democrat\n",
      "10873      Blaz        Ben 1928-02-14      M  rep    GU  Republican\n",
      "\n",
      "First 2 entries for 'HI'\n",
      "------------------------\n",
      "     last_name first_name   birthday gender type state       party\n",
      "6394    Wilcox     Robert 1855-02-15      M  rep    HI         NaN\n",
      "7523   Baldwin      Henry 1871-01-12      M  rep    HI  Republican\n",
      "\n",
      "First 2 entries for 'IA'\n",
      "------------------------\n",
      "     last_name first_name   birthday gender type state     party\n",
      "1930   Chapman    William 1808-08-11      M  rep    IA  Democrat\n",
      "2390  Hastings   Serranus 1813-11-22      M  rep    IA  Democrat\n",
      "\n",
      "First 2 entries for 'ID'\n",
      "------------------------\n",
      "     last_name first_name   birthday gender type state       party\n",
      "3692   Wallace    William 1811-07-19      M  rep    ID  Republican\n",
      "3845  Holbrook     Edward 1836-05-06      M  rep    ID    Democrat\n",
      "\n",
      "First 2 entries for 'IL'\n",
      "------------------------\n",
      "      last_name first_name   birthday gender type state party\n",
      "595        Bond   Shadrack 1773-11-24      M  rep    IL   NaN\n",
      "772  Stephenson   Benjamin        NaT      M  rep    IL   NaN\n",
      "\n",
      "First 2 entries for 'IN'\n",
      "------------------------\n",
      "    last_name first_name   birthday gender type state       party\n",
      "431     Parke   Benjamin 1777-09-22      M  rep    IN         NaN\n",
      "984    Taylor     Waller        NaT      M  sen    IN  Republican\n",
      "\n",
      "First 2 entries for 'KS'\n",
      "------------------------\n",
      "      last_name first_name   birthday gender type state       party\n",
      "3162  Whitfield       John 1818-03-11      M  rep    KS    Democrat\n",
      "3421    Parrott     Marcus 1828-10-27      M  rep    KS  Republican\n",
      "\n",
      "First 2 entries for 'KY'\n",
      "------------------------\n",
      "    last_name   first_name birthday gender type state                party\n",
      "55    Edwards         John      NaT      M  sen    KY  Anti-Administration\n",
      "113   Greenup  Christopher      NaT      M  rep    KY           Republican\n",
      "\n",
      "First 2 entries for 'LA'\n",
      "------------------------\n",
      "     last_name first_name birthday gender type state       party\n",
      "584  Destréhan       Jean      NaT      M  sen    LA     Unknown\n",
      "585   Magruder      Allan      NaT      M  sen    LA  Republican\n",
      "\n",
      "First 2 entries for 'MA'\n",
      "------------------------\n",
      "   last_name first_name   birthday gender type state               party\n",
      "6     Dalton   Tristram 1738-05-28      M  sen    MA  Pro-Administration\n",
      "12     Grout   Jonathan 1737-07-23      M  rep    MA                 NaN\n",
      "\n",
      "First 2 entries for 'MD'\n",
      "------------------------\n",
      "  last_name first_name   birthday gender type state party\n",
      "3   Carroll     Daniel 1730-07-22      M  rep    MD   NaN\n",
      "5    Contee   Benjamin        NaT      M  rep    MD   NaN\n",
      "\n",
      "First 2 entries for 'ME'\n",
      "------------------------\n",
      "     last_name first_name   birthday gender type state       party\n",
      "1018      Dane     Joseph 1778-10-25      M  rep    ME  Federalist\n",
      "1028    Harris       Mark 1779-01-27      M  rep    ME  Republican\n",
      "\n",
      "First 2 entries for 'MI'\n",
      "------------------------\n",
      "     last_name first_name   birthday gender type state party\n",
      "1061    Sibley    Solomon 1769-10-07      M  rep    MI   NaN\n",
      "1132   Richard    Gabriel 1767-10-15      M  rep    MI   NaN\n",
      "\n",
      "First 2 entries for 'MN'\n",
      "------------------------\n",
      "      last_name first_name   birthday gender type state     party\n",
      "2865     Sibley      Henry 1811-02-20      M  rep    MN       NaN\n",
      "3240  Kingsbury    William 1828-06-04      M  rep    MN  Democrat\n",
      "\n",
      "First 2 entries for 'MO'\n",
      "------------------------\n",
      "     last_name first_name   birthday gender type state party\n",
      "627  Hempstead     Edward 1780-06-03      M  rep    MO   NaN\n",
      "712     Easton      Rufus 1774-05-04      M  rep    MO   NaN\n",
      "\n",
      "First 2 entries for 'MS'\n",
      "------------------------\n",
      "    last_name  first_name   birthday gender type state party\n",
      "256    Greene      Thomas 1758-02-26      M  rep    MS   NaN\n",
      "260    Hunter  Narsworthy        NaT      M  rep    MS   NaN\n",
      "\n",
      "First 2 entries for 'MT'\n",
      "------------------------\n",
      "      last_name first_name   birthday gender type state     party\n",
      "3755     McLean     Samuel 1826-08-07      M  rep    MT  Democrat\n",
      "3940  Cavanaugh      James 1823-07-04      M  rep    MT  Democrat\n",
      "\n",
      "First 2 entries for 'NC'\n",
      "------------------------\n",
      "   last_name first_name   birthday gender type state               party\n",
      "13   Hawkins   Benjamin 1754-08-15      M  sen    NC  Pro-Administration\n",
      "17  Johnston     Samuel 1733-12-15      M  sen    NC  Pro-Administration\n",
      "\n",
      "First 2 entries for 'ND'\n",
      "------------------------\n",
      "     last_name first_name   birthday gender type state       party\n",
      "5383     Casey      Lyman 1837-05-06      M  sen    ND  Republican\n",
      "5478    Pierce    Gilbert 1839-01-11      M  sen    ND  Republican\n",
      "\n",
      "First 2 entries for 'NE'\n",
      "------------------------\n",
      "     last_name first_name   birthday gender type state     party\n",
      "2953  Giddings   Napoleon 1816-01-02      M  rep    NE  Democrat\n",
      "3067   Chapman       Bird 1821-08-24      M  rep    NE  Democrat\n",
      "\n",
      "First 2 entries for 'NH'\n",
      "------------------------\n",
      "    last_name first_name   birthday gender type state       party\n",
      "99    Wingate      Paine 1739-05-14      M  rep    NH         NaN\n",
      "120   Langdon       John 1741-06-26      M  sen    NH  Republican\n",
      "\n",
      "First 2 entries for 'NJ'\n",
      "------------------------\n",
      "   last_name first_name   birthday gender type state               party\n",
      "7      Elmer   Jonathan 1745-11-29      M  sen    NJ  Pro-Administration\n",
      "23  Paterson    William 1745-12-24      M  sen    NJ  Pro-Administration\n",
      "\n",
      "First 2 entries for 'NM'\n",
      "------------------------\n",
      "      last_name first_name   birthday gender type state     party\n",
      "2884  Weightman    Richard 1816-12-28      M  rep    NM  Democrat\n",
      "3419      Otero     Miguel 1829-06-21      M  rep    NM       NaN\n",
      "\n",
      "First 2 entries for 'NV'\n",
      "------------------------\n",
      "        last_name first_name   birthday gender type state       party\n",
      "3509  Cradlebaugh       John 1819-02-22      M  rep    NV         NaN\n",
      "3663         Mott     Gordon 1812-10-21      M  rep    NV  Republican\n",
      "\n",
      "First 2 entries for 'NY'\n",
      "------------------------\n",
      "         last_name first_name   birthday gender type state party\n",
      "9            Floyd    William 1734-12-17      M  rep    NY   NaN\n",
      "26  Van Rensselaer   Jeremiah 1738-08-27      M  rep    NY   NaN\n",
      "\n",
      "First 2 entries for 'OH'\n",
      "------------------------\n",
      "    last_name first_name   birthday gender type state       party\n",
      "226  McMillan    William 1764-03-02      M  rep    OH         NaN\n",
      "254   Fearing       Paul 1762-02-28      M  rep    OH  Federalist\n",
      "\n",
      "First 2 entries for 'OK'\n",
      "------------------------\n",
      "     last_name first_name   birthday gender type state        party\n",
      "5600    Harvey      David 1845-03-20      M  rep    OK   Republican\n",
      "6059  Callahan      James 1852-12-19      M  rep    OK  Free Silver\n",
      "\n",
      "First 2 entries for 'OL'\n",
      "------------------------\n",
      "    last_name first_name   birthday gender type state party\n",
      "404     Clark     Daniel        NaT      M  rep    OL   NaN\n",
      "503   Poydras     Julien 1740-04-03      M  rep    OL   NaN\n",
      "\n",
      "First 2 entries for 'OR'\n",
      "------------------------\n",
      "     last_name first_name   birthday gender type state     party\n",
      "2727  Thurston     Samuel 1816-04-15      M  rep    OR  Democrat\n",
      "3397      Lane     Joseph 1801-12-14      M  sen    OR  Democrat\n",
      "\n",
      "First 2 entries for 'PA'\n",
      "------------------------\n",
      "   last_name first_name   birthday gender type state                party\n",
      "4     Clymer     George 1739-03-16      M  rep    PA                  NaN\n",
      "19    Maclay    William 1737-07-20      M  sen    PA  Anti-Administration\n",
      "\n",
      "First 2 entries for 'PI'\n",
      "------------------------\n",
      "             last_name first_name   birthday gender type state party\n",
      "6834            Ocampo      Pablo 1853-01-25      M  rep    PI   NaN\n",
      "6938  Legarda Y Tuason     Benito 1853-09-27      M  rep    PI   NaN\n",
      "\n",
      "First 2 entries for 'PR'\n",
      "------------------------\n",
      "      last_name first_name   birthday gender type state       party\n",
      "6425    Degetau   Federico 1862-12-05      M  rep    PR  Republican\n",
      "6810  Larrinaga      Tulio 1847-01-15      M  rep    PR    Unionist\n",
      "\n",
      "First 2 entries for 'RI'\n",
      "------------------------\n",
      "    last_name first_name   birthday gender type state       party\n",
      "61   Bradford    William 1729-11-04      M  sen    RI  Federalist\n",
      "105    Bourne   Benjamin 1755-09-09      M  rep    RI  Federalist\n",
      "\n",
      "First 2 entries for 'SC'\n",
      "------------------------\n",
      "   last_name first_name   birthday gender type state               party\n",
      "2      Burke    Aedanus 1743-06-16      M  rep    SC                 NaN\n",
      "15     Izard      Ralph        NaT      M  sen    SC  Pro-Administration\n",
      "\n",
      "First 2 entries for 'SD'\n",
      "------------------------\n",
      "     last_name first_name   birthday gender type state       party\n",
      "5422   Gifford      Oscar 1842-10-20      M  rep    SD  Republican\n"
     ]
    },
    {
     "name": "stdout",
     "output_type": "stream",
     "text": [
      "5461     Moody     Gideon 1832-10-16      M  sen    SD  Republican\n",
      "\n",
      "First 2 entries for 'TN'\n",
      "------------------------\n",
      "    last_name first_name   birthday gender type state       party\n",
      "141     White      James 1749-06-16      M  rep    TN         NaN\n",
      "142    Blount    William 1749-03-26      M  sen    TN  Republican\n",
      "\n",
      "First 2 entries for 'TX'\n",
      "------------------------\n",
      "     last_name first_name   birthday gender type state     party\n",
      "2567  Pilsbury    Timothy 1789-04-12      M  rep    TX  Democrat\n",
      "2670   Kaufman      David 1813-12-18      M  rep    TX  Democrat\n",
      "\n",
      "First 2 entries for 'UT'\n",
      "------------------------\n",
      "      last_name first_name   birthday gender type state     party\n",
      "3483  Bernhisel       John 1799-07-23      M  rep    UT      Whig\n",
      "3646     Kinney       John 1816-04-02      M  rep    UT  Democrat\n",
      "\n",
      "First 2 entries for 'VA'\n",
      "------------------------\n",
      "   last_name  first_name   birthday gender type state                party\n",
      "1      Bland  Theodorick 1742-03-21      M  rep    VA                  NaN\n",
      "11   Grayson     William        NaT      M  sen    VA  Anti-Administration\n",
      "\n",
      "First 2 entries for 'VI'\n",
      "------------------------\n",
      "      last_name first_name   birthday gender type state       party\n",
      "10495     Evans     Melvin 1917-08-07      M  rep    VI  Republican\n",
      "11087   de Lugo        Ron 1930-08-02      M  rep    VI    Democrat\n",
      "\n",
      "First 2 entries for 'VT'\n",
      "------------------------\n",
      "   last_name first_name   birthday gender type state                party\n",
      "41  Robinson      Moses 1741-03-22      M  sen    VT  Anti-Administration\n",
      "86     Niles  Nathaniel 1741-04-03      M  rep    VT                  NaN\n",
      "\n",
      "First 2 entries for 'WA'\n",
      "------------------------\n",
      "      last_name first_name   birthday gender type state     party\n",
      "2978  Lancaster   Columbia 1803-08-26      M  rep    WA  Democrat\n",
      "3051   Anderson      James 1822-02-16      M  rep    WA  Democrat\n",
      "\n",
      "First 2 entries for 'WI'\n",
      "------------------------\n",
      "     last_name first_name   birthday gender type state     party\n",
      "2409    Martin     Morgan 1805-03-31      M  rep    WI  Democrat\n",
      "2502   Darling      Mason 1801-05-18      M  rep    WI  Democrat\n",
      "\n",
      "First 2 entries for 'WV'\n",
      "------------------------\n",
      "       last_name first_name   birthday gender type state                   party\n",
      "3614       Blair      Jacob 1821-04-11      M  rep    WV  Unconditional Unionist\n",
      "3689  Van Winkle      Peter 1808-09-07      M  sen    WV              Republican\n",
      "\n",
      "First 2 entries for 'WY'\n",
      "------------------------\n",
      "     last_name first_name   birthday gender type state       party\n",
      "4008  Nuckolls    Stephen 1825-08-16      M  rep    WY    Democrat\n",
      "4137     Jones    William 1842-02-20      M  rep    WY  Republican\n",
      "\n"
     ]
    }
   ],
   "source": [
    "for state, frame in by_state:\n",
    "    print(f\"First 2 entries for {state!r}\")\n",
    "    print(\"------------------------\")\n",
    "\n",
    "    print(frame.head(2), end=\"\\n\\n\")"
   ]
  },
  {
   "cell_type": "markdown",
   "metadata": {},
   "source": [
    "#####  2.3.b DataFrameGroupBy.```groups()```\n",
    "\n",
    "The __.groups__ attribute will give you a `dictionary of {group name: group label} pairs`. For example, by_state is a dict with states as keys. Here’s the value for the \"PA\" key:"
   ]
  },
  {
   "cell_type": "code",
   "execution_count": 13,
   "metadata": {},
   "outputs": [
    {
     "data": {
      "text/plain": [
       "Int64Index([    4,    19,    21,    27,    38,    57,    69,    76,    84,\n",
       "               88,\n",
       "            ...\n",
       "            11840, 11864, 11873, 11875, 11885, 11889, 11930, 11943, 11957,\n",
       "            11971],\n",
       "           dtype='int64', length=1053)"
      ]
     },
     "execution_count": 13,
     "metadata": {},
     "output_type": "execute_result"
    }
   ],
   "source": [
    "by_state.groups[\"PA\"]"
   ]
  },
  {
   "cell_type": "code",
   "execution_count": 14,
   "metadata": {},
   "outputs": [
    {
     "data": {
      "text/plain": [
       "Int64Index([ 6618,  6646,  7441,  7500,  8038,  8235,  8876,  9818,  9950,\n",
       "             9984, 10081, 10107, 10324, 11260, 11384, 11732],\n",
       "           dtype='int64')"
      ]
     },
     "execution_count": 14,
     "metadata": {},
     "output_type": "execute_result"
    }
   ],
   "source": [
    "by_state.groups['AK']"
   ]
  },
  {
   "cell_type": "markdown",
   "metadata": {},
   "source": [
    "##### 2.3.c DataFrameGroupBy.```get_group()```"
   ]
  },
  {
   "cell_type": "markdown",
   "metadata": {},
   "source": [
    "You can also use __.get_group()__ as a way `to drill down to the sub-table` from a single group:"
   ]
  },
  {
   "cell_type": "code",
   "execution_count": 15,
   "metadata": {},
   "outputs": [
    {
     "data": {
      "text/html": [
       "<div>\n",
       "<style scoped>\n",
       "    .dataframe tbody tr th:only-of-type {\n",
       "        vertical-align: middle;\n",
       "    }\n",
       "\n",
       "    .dataframe tbody tr th {\n",
       "        vertical-align: top;\n",
       "    }\n",
       "\n",
       "    .dataframe thead th {\n",
       "        text-align: right;\n",
       "    }\n",
       "</style>\n",
       "<table border=\"1\" class=\"dataframe\">\n",
       "  <thead>\n",
       "    <tr style=\"text-align: right;\">\n",
       "      <th></th>\n",
       "      <th>last_name</th>\n",
       "      <th>first_name</th>\n",
       "      <th>birthday</th>\n",
       "      <th>gender</th>\n",
       "      <th>type</th>\n",
       "      <th>state</th>\n",
       "      <th>party</th>\n",
       "    </tr>\n",
       "  </thead>\n",
       "  <tbody>\n",
       "    <tr>\n",
       "      <th>4</th>\n",
       "      <td>Clymer</td>\n",
       "      <td>George</td>\n",
       "      <td>1739-03-16</td>\n",
       "      <td>M</td>\n",
       "      <td>rep</td>\n",
       "      <td>PA</td>\n",
       "      <td>NaN</td>\n",
       "    </tr>\n",
       "    <tr>\n",
       "      <th>19</th>\n",
       "      <td>Maclay</td>\n",
       "      <td>William</td>\n",
       "      <td>1737-07-20</td>\n",
       "      <td>M</td>\n",
       "      <td>sen</td>\n",
       "      <td>PA</td>\n",
       "      <td>Anti-Administration</td>\n",
       "    </tr>\n",
       "    <tr>\n",
       "      <th>21</th>\n",
       "      <td>Morris</td>\n",
       "      <td>Robert</td>\n",
       "      <td>1734-01-20</td>\n",
       "      <td>M</td>\n",
       "      <td>sen</td>\n",
       "      <td>PA</td>\n",
       "      <td>Pro-Administration</td>\n",
       "    </tr>\n",
       "    <tr>\n",
       "      <th>27</th>\n",
       "      <td>Wynkoop</td>\n",
       "      <td>Henry</td>\n",
       "      <td>1737-03-02</td>\n",
       "      <td>M</td>\n",
       "      <td>rep</td>\n",
       "      <td>PA</td>\n",
       "      <td>NaN</td>\n",
       "    </tr>\n",
       "    <tr>\n",
       "      <th>38</th>\n",
       "      <td>Jacobs</td>\n",
       "      <td>Israel</td>\n",
       "      <td>1726-06-09</td>\n",
       "      <td>M</td>\n",
       "      <td>rep</td>\n",
       "      <td>PA</td>\n",
       "      <td>NaN</td>\n",
       "    </tr>\n",
       "    <tr>\n",
       "      <th>...</th>\n",
       "      <td>...</td>\n",
       "      <td>...</td>\n",
       "      <td>...</td>\n",
       "      <td>...</td>\n",
       "      <td>...</td>\n",
       "      <td>...</td>\n",
       "      <td>...</td>\n",
       "    </tr>\n",
       "    <tr>\n",
       "      <th>11889</th>\n",
       "      <td>Brady</td>\n",
       "      <td>Robert</td>\n",
       "      <td>1945-04-07</td>\n",
       "      <td>M</td>\n",
       "      <td>rep</td>\n",
       "      <td>PA</td>\n",
       "      <td>Democrat</td>\n",
       "    </tr>\n",
       "    <tr>\n",
       "      <th>11930</th>\n",
       "      <td>Shuster</td>\n",
       "      <td>Bill</td>\n",
       "      <td>1961-01-10</td>\n",
       "      <td>M</td>\n",
       "      <td>rep</td>\n",
       "      <td>PA</td>\n",
       "      <td>Republican</td>\n",
       "    </tr>\n",
       "    <tr>\n",
       "      <th>11943</th>\n",
       "      <td>Rothfus</td>\n",
       "      <td>Keith</td>\n",
       "      <td>1962-04-25</td>\n",
       "      <td>M</td>\n",
       "      <td>rep</td>\n",
       "      <td>PA</td>\n",
       "      <td>Republican</td>\n",
       "    </tr>\n",
       "    <tr>\n",
       "      <th>11957</th>\n",
       "      <td>Costello</td>\n",
       "      <td>Ryan</td>\n",
       "      <td>1976-09-07</td>\n",
       "      <td>M</td>\n",
       "      <td>rep</td>\n",
       "      <td>PA</td>\n",
       "      <td>Republican</td>\n",
       "    </tr>\n",
       "    <tr>\n",
       "      <th>11971</th>\n",
       "      <td>Marino</td>\n",
       "      <td>Tom</td>\n",
       "      <td>1952-08-15</td>\n",
       "      <td>M</td>\n",
       "      <td>rep</td>\n",
       "      <td>PA</td>\n",
       "      <td>Republican</td>\n",
       "    </tr>\n",
       "  </tbody>\n",
       "</table>\n",
       "<p>1053 rows × 7 columns</p>\n",
       "</div>"
      ],
      "text/plain": [
       "      last_name first_name   birthday gender type state                party\n",
       "4        Clymer     George 1739-03-16      M  rep    PA                  NaN\n",
       "19       Maclay    William 1737-07-20      M  sen    PA  Anti-Administration\n",
       "21       Morris     Robert 1734-01-20      M  sen    PA   Pro-Administration\n",
       "27      Wynkoop      Henry 1737-03-02      M  rep    PA                  NaN\n",
       "38       Jacobs     Israel 1726-06-09      M  rep    PA                  NaN\n",
       "...         ...        ...        ...    ...  ...   ...                  ...\n",
       "11889     Brady     Robert 1945-04-07      M  rep    PA             Democrat\n",
       "11930   Shuster       Bill 1961-01-10      M  rep    PA           Republican\n",
       "11943   Rothfus      Keith 1962-04-25      M  rep    PA           Republican\n",
       "11957  Costello       Ryan 1976-09-07      M  rep    PA           Republican\n",
       "11971    Marino        Tom 1952-08-15      M  rep    PA           Republican\n",
       "\n",
       "[1053 rows x 7 columns]"
      ]
     },
     "execution_count": 15,
     "metadata": {},
     "output_type": "execute_result"
    }
   ],
   "source": [
    "by_state.get_group('PA')"
   ]
  },
  {
   "cell_type": "code",
   "execution_count": 16,
   "metadata": {},
   "outputs": [
    {
     "data": {
      "text/html": [
       "<div>\n",
       "<style scoped>\n",
       "    .dataframe tbody tr th:only-of-type {\n",
       "        vertical-align: middle;\n",
       "    }\n",
       "\n",
       "    .dataframe tbody tr th {\n",
       "        vertical-align: top;\n",
       "    }\n",
       "\n",
       "    .dataframe thead th {\n",
       "        text-align: right;\n",
       "    }\n",
       "</style>\n",
       "<table border=\"1\" class=\"dataframe\">\n",
       "  <thead>\n",
       "    <tr style=\"text-align: right;\">\n",
       "      <th></th>\n",
       "      <th>last_name</th>\n",
       "      <th>first_name</th>\n",
       "      <th>birthday</th>\n",
       "      <th>gender</th>\n",
       "      <th>type</th>\n",
       "      <th>state</th>\n",
       "      <th>party</th>\n",
       "    </tr>\n",
       "  </thead>\n",
       "  <tbody>\n",
       "    <tr>\n",
       "      <th>6618</th>\n",
       "      <td>Waskey</td>\n",
       "      <td>Frank</td>\n",
       "      <td>1875-04-20</td>\n",
       "      <td>M</td>\n",
       "      <td>rep</td>\n",
       "      <td>AK</td>\n",
       "      <td>Democrat</td>\n",
       "    </tr>\n",
       "    <tr>\n",
       "      <th>6646</th>\n",
       "      <td>Cale</td>\n",
       "      <td>Thomas</td>\n",
       "      <td>1848-09-17</td>\n",
       "      <td>M</td>\n",
       "      <td>rep</td>\n",
       "      <td>AK</td>\n",
       "      <td>Independent</td>\n",
       "    </tr>\n",
       "    <tr>\n",
       "      <th>7441</th>\n",
       "      <td>Grigsby</td>\n",
       "      <td>George</td>\n",
       "      <td>1874-12-02</td>\n",
       "      <td>M</td>\n",
       "      <td>rep</td>\n",
       "      <td>AK</td>\n",
       "      <td>NaN</td>\n",
       "    </tr>\n",
       "    <tr>\n",
       "      <th>7500</th>\n",
       "      <td>Sulzer</td>\n",
       "      <td>Charles</td>\n",
       "      <td>1879-02-24</td>\n",
       "      <td>M</td>\n",
       "      <td>rep</td>\n",
       "      <td>AK</td>\n",
       "      <td>NaN</td>\n",
       "    </tr>\n",
       "    <tr>\n",
       "      <th>8038</th>\n",
       "      <td>Sutherland</td>\n",
       "      <td>Daniel</td>\n",
       "      <td>1869-04-17</td>\n",
       "      <td>M</td>\n",
       "      <td>rep</td>\n",
       "      <td>AK</td>\n",
       "      <td>Republican</td>\n",
       "    </tr>\n",
       "  </tbody>\n",
       "</table>\n",
       "</div>"
      ],
      "text/plain": [
       "       last_name first_name   birthday gender type state        party\n",
       "6618      Waskey      Frank 1875-04-20      M  rep    AK     Democrat\n",
       "6646        Cale     Thomas 1848-09-17      M  rep    AK  Independent\n",
       "7441     Grigsby     George 1874-12-02      M  rep    AK          NaN\n",
       "7500      Sulzer    Charles 1879-02-24      M  rep    AK          NaN\n",
       "8038  Sutherland     Daniel 1869-04-17      M  rep    AK   Republican"
      ]
     },
     "execution_count": 16,
     "metadata": {},
     "output_type": "execute_result"
    }
   ],
   "source": [
    "by_state.get_group('AK').head(5)"
   ]
  },
  {
   "cell_type": "markdown",
   "metadata": {},
   "source": [
    "This is virtually equivalent to using __.loc[]__. You could get the same output with something like `df.loc[df[\"state\"] == \"PA\"]`."
   ]
  },
  {
   "cell_type": "code",
   "execution_count": 17,
   "metadata": {},
   "outputs": [
    {
     "data": {
      "text/html": [
       "<div>\n",
       "<style scoped>\n",
       "    .dataframe tbody tr th:only-of-type {\n",
       "        vertical-align: middle;\n",
       "    }\n",
       "\n",
       "    .dataframe tbody tr th {\n",
       "        vertical-align: top;\n",
       "    }\n",
       "\n",
       "    .dataframe thead th {\n",
       "        text-align: right;\n",
       "    }\n",
       "</style>\n",
       "<table border=\"1\" class=\"dataframe\">\n",
       "  <thead>\n",
       "    <tr style=\"text-align: right;\">\n",
       "      <th></th>\n",
       "      <th>last_name</th>\n",
       "      <th>first_name</th>\n",
       "      <th>birthday</th>\n",
       "      <th>gender</th>\n",
       "      <th>type</th>\n",
       "      <th>state</th>\n",
       "      <th>party</th>\n",
       "    </tr>\n",
       "  </thead>\n",
       "  <tbody>\n",
       "    <tr>\n",
       "      <th>4</th>\n",
       "      <td>Clymer</td>\n",
       "      <td>George</td>\n",
       "      <td>1739-03-16</td>\n",
       "      <td>M</td>\n",
       "      <td>rep</td>\n",
       "      <td>PA</td>\n",
       "      <td>NaN</td>\n",
       "    </tr>\n",
       "    <tr>\n",
       "      <th>19</th>\n",
       "      <td>Maclay</td>\n",
       "      <td>William</td>\n",
       "      <td>1737-07-20</td>\n",
       "      <td>M</td>\n",
       "      <td>sen</td>\n",
       "      <td>PA</td>\n",
       "      <td>Anti-Administration</td>\n",
       "    </tr>\n",
       "    <tr>\n",
       "      <th>21</th>\n",
       "      <td>Morris</td>\n",
       "      <td>Robert</td>\n",
       "      <td>1734-01-20</td>\n",
       "      <td>M</td>\n",
       "      <td>sen</td>\n",
       "      <td>PA</td>\n",
       "      <td>Pro-Administration</td>\n",
       "    </tr>\n",
       "    <tr>\n",
       "      <th>27</th>\n",
       "      <td>Wynkoop</td>\n",
       "      <td>Henry</td>\n",
       "      <td>1737-03-02</td>\n",
       "      <td>M</td>\n",
       "      <td>rep</td>\n",
       "      <td>PA</td>\n",
       "      <td>NaN</td>\n",
       "    </tr>\n",
       "    <tr>\n",
       "      <th>38</th>\n",
       "      <td>Jacobs</td>\n",
       "      <td>Israel</td>\n",
       "      <td>1726-06-09</td>\n",
       "      <td>M</td>\n",
       "      <td>rep</td>\n",
       "      <td>PA</td>\n",
       "      <td>NaN</td>\n",
       "    </tr>\n",
       "    <tr>\n",
       "      <th>...</th>\n",
       "      <td>...</td>\n",
       "      <td>...</td>\n",
       "      <td>...</td>\n",
       "      <td>...</td>\n",
       "      <td>...</td>\n",
       "      <td>...</td>\n",
       "      <td>...</td>\n",
       "    </tr>\n",
       "    <tr>\n",
       "      <th>11889</th>\n",
       "      <td>Brady</td>\n",
       "      <td>Robert</td>\n",
       "      <td>1945-04-07</td>\n",
       "      <td>M</td>\n",
       "      <td>rep</td>\n",
       "      <td>PA</td>\n",
       "      <td>Democrat</td>\n",
       "    </tr>\n",
       "    <tr>\n",
       "      <th>11930</th>\n",
       "      <td>Shuster</td>\n",
       "      <td>Bill</td>\n",
       "      <td>1961-01-10</td>\n",
       "      <td>M</td>\n",
       "      <td>rep</td>\n",
       "      <td>PA</td>\n",
       "      <td>Republican</td>\n",
       "    </tr>\n",
       "    <tr>\n",
       "      <th>11943</th>\n",
       "      <td>Rothfus</td>\n",
       "      <td>Keith</td>\n",
       "      <td>1962-04-25</td>\n",
       "      <td>M</td>\n",
       "      <td>rep</td>\n",
       "      <td>PA</td>\n",
       "      <td>Republican</td>\n",
       "    </tr>\n",
       "    <tr>\n",
       "      <th>11957</th>\n",
       "      <td>Costello</td>\n",
       "      <td>Ryan</td>\n",
       "      <td>1976-09-07</td>\n",
       "      <td>M</td>\n",
       "      <td>rep</td>\n",
       "      <td>PA</td>\n",
       "      <td>Republican</td>\n",
       "    </tr>\n",
       "    <tr>\n",
       "      <th>11971</th>\n",
       "      <td>Marino</td>\n",
       "      <td>Tom</td>\n",
       "      <td>1952-08-15</td>\n",
       "      <td>M</td>\n",
       "      <td>rep</td>\n",
       "      <td>PA</td>\n",
       "      <td>Republican</td>\n",
       "    </tr>\n",
       "  </tbody>\n",
       "</table>\n",
       "<p>1053 rows × 7 columns</p>\n",
       "</div>"
      ],
      "text/plain": [
       "      last_name first_name   birthday gender type state                party\n",
       "4        Clymer     George 1739-03-16      M  rep    PA                  NaN\n",
       "19       Maclay    William 1737-07-20      M  sen    PA  Anti-Administration\n",
       "21       Morris     Robert 1734-01-20      M  sen    PA   Pro-Administration\n",
       "27      Wynkoop      Henry 1737-03-02      M  rep    PA                  NaN\n",
       "38       Jacobs     Israel 1726-06-09      M  rep    PA                  NaN\n",
       "...         ...        ...        ...    ...  ...   ...                  ...\n",
       "11889     Brady     Robert 1945-04-07      M  rep    PA             Democrat\n",
       "11930   Shuster       Bill 1961-01-10      M  rep    PA           Republican\n",
       "11943   Rothfus      Keith 1962-04-25      M  rep    PA           Republican\n",
       "11957  Costello       Ryan 1976-09-07      M  rep    PA           Republican\n",
       "11971    Marino        Tom 1952-08-15      M  rep    PA           Republican\n",
       "\n",
       "[1053 rows x 7 columns]"
      ]
     },
     "execution_count": 17,
     "metadata": {},
     "output_type": "execute_result"
    }
   ],
   "source": [
    "df.loc[df[\"state\"] == \"PA\"].head(5)\n",
    "df.loc[df[\"state\"] == \"PA\"]"
   ]
  },
  {
   "cell_type": "markdown",
   "metadata": {},
   "source": [
    "##### 2.3.d  next()\n",
    "\n",
    "what about the apply part?\n",
    " \n",
    "From the Pandas GroupBy object by_state, you can grab the initial U.S. state and DataFrame with next(). When you iterate over a Pandas GroupBy object, you’ll get pairs that you can unpack into two variables:"
   ]
  },
  {
   "cell_type": "code",
   "execution_count": 18,
   "metadata": {},
   "outputs": [
    {
     "data": {
      "text/plain": [
       "'AK'"
      ]
     },
     "execution_count": 18,
     "metadata": {},
     "output_type": "execute_result"
    }
   ],
   "source": [
    "# First tuple from iterator\n",
    "state, frame = next(iter(by_state))\n",
    "state"
   ]
  },
  {
   "cell_type": "code",
   "execution_count": 19,
   "metadata": {},
   "outputs": [
    {
     "data": {
      "text/html": [
       "<div>\n",
       "<style scoped>\n",
       "    .dataframe tbody tr th:only-of-type {\n",
       "        vertical-align: middle;\n",
       "    }\n",
       "\n",
       "    .dataframe tbody tr th {\n",
       "        vertical-align: top;\n",
       "    }\n",
       "\n",
       "    .dataframe thead th {\n",
       "        text-align: right;\n",
       "    }\n",
       "</style>\n",
       "<table border=\"1\" class=\"dataframe\">\n",
       "  <thead>\n",
       "    <tr style=\"text-align: right;\">\n",
       "      <th></th>\n",
       "      <th>last_name</th>\n",
       "      <th>first_name</th>\n",
       "      <th>birthday</th>\n",
       "      <th>gender</th>\n",
       "      <th>type</th>\n",
       "      <th>state</th>\n",
       "      <th>party</th>\n",
       "    </tr>\n",
       "  </thead>\n",
       "  <tbody>\n",
       "    <tr>\n",
       "      <th>6618</th>\n",
       "      <td>Waskey</td>\n",
       "      <td>Frank</td>\n",
       "      <td>1875-04-20</td>\n",
       "      <td>M</td>\n",
       "      <td>rep</td>\n",
       "      <td>AK</td>\n",
       "      <td>Democrat</td>\n",
       "    </tr>\n",
       "    <tr>\n",
       "      <th>6646</th>\n",
       "      <td>Cale</td>\n",
       "      <td>Thomas</td>\n",
       "      <td>1848-09-17</td>\n",
       "      <td>M</td>\n",
       "      <td>rep</td>\n",
       "      <td>AK</td>\n",
       "      <td>Independent</td>\n",
       "    </tr>\n",
       "    <tr>\n",
       "      <th>7441</th>\n",
       "      <td>Grigsby</td>\n",
       "      <td>George</td>\n",
       "      <td>1874-12-02</td>\n",
       "      <td>M</td>\n",
       "      <td>rep</td>\n",
       "      <td>AK</td>\n",
       "      <td>NaN</td>\n",
       "    </tr>\n",
       "  </tbody>\n",
       "</table>\n",
       "</div>"
      ],
      "text/plain": [
       "     last_name first_name   birthday gender type state        party\n",
       "6618    Waskey      Frank 1875-04-20      M  rep    AK     Democrat\n",
       "6646      Cale     Thomas 1848-09-17      M  rep    AK  Independent\n",
       "7441   Grigsby     George 1874-12-02      M  rep    AK          NaN"
      ]
     },
     "execution_count": 19,
     "metadata": {},
     "output_type": "execute_result"
    }
   ],
   "source": [
    "frame.head(3)"
   ]
  },
  {
   "cell_type": "code",
   "execution_count": 20,
   "metadata": {},
   "outputs": [
    {
     "name": "stdout",
     "output_type": "stream",
     "text": [
      "Rows: 16\n"
     ]
    },
    {
     "data": {
      "text/plain": [
       "16"
      ]
     },
     "execution_count": 20,
     "metadata": {},
     "output_type": "execute_result"
    }
   ],
   "source": [
    "# Count for state == 'AK'\n",
    "print('Rows:',len(frame))\n",
    "frame[\"last_name\"].count()  "
   ]
  },
  {
   "cell_type": "markdown",
   "metadata": {},
   "source": [
    "### 3. Example 2: Air Quality Dataset\n",
    "The air quality dataset contains hourly readings from a gas sensor device in Italy. `Missing values are denoted with -200` in the CSV file."
   ]
  },
  {
   "cell_type": "code",
   "execution_count": 21,
   "metadata": {},
   "outputs": [
    {
     "name": "stdout",
     "output_type": "stream",
     "text": [
      "                      co  temp_c  rel_hum  abs_hum\n",
      "tstamp                                            \n",
      "2004-10-03 18:00:00  2.6    13.6     48.9    0.758\n",
      "2004-10-03 19:00:00  2.0    13.3     47.7    0.726\n",
      "2004-10-03 20:00:00  2.2    11.9     54.0    0.750\n",
      "2004-10-03 21:00:00  2.2    11.0     60.0    0.787\n",
      "2004-10-03 22:00:00  1.6    11.2     59.6    0.789\n",
      "\n",
      "\n",
      "<class 'pandas.core.frame.DataFrame'>\n",
      "DatetimeIndex: 9357 entries, 2004-10-03 18:00:00 to 2005-04-04 14:00:00\n",
      "Data columns (total 4 columns):\n",
      " #   Column   Non-Null Count  Dtype  \n",
      "---  ------   --------------  -----  \n",
      " 0   co       9357 non-null   float64\n",
      " 1   temp_c   9357 non-null   float64\n",
      " 2   rel_hum  9357 non-null   float64\n",
      " 3   abs_hum  9357 non-null   float64\n",
      "dtypes: float64(4)\n",
      "memory usage: 365.5 KB\n",
      "None\n"
     ]
    }
   ],
   "source": [
    "import pandas as pd\n",
    "\n",
    "f = lambda x : (x.replace(',', '.'))\n",
    "ft = lambda x : (x.replace('.', ':'))\n",
    "\n",
    "df = pd.read_csv(\n",
    "    \"..\\\\..\\\\..\\\\data\\\\AirQualityUCI.data.csv\",\n",
    "    sep=';',\n",
    "    parse_dates=[[\"Date\", \"Time\"]],\n",
    "    squeeze=True,\n",
    "    na_values=[-200],\n",
    "    converters = {'Time': ft,'CO(GT)': f, 'T': f, 'RH': f, 'AH': f},\n",
    "    #\n",
    "    # When using pandas.read_csv, you must provide a converter or a dtype, not both.\n",
    "    # dtype={\"CO(GT)\": \"float64\", \"T\": \"float64\", \"RH\": \"float64\", \"AH\": \"float64\"},\n",
    "    #\n",
    "    usecols=[\"Date\", \"Time\", \"CO(GT)\", \"T\", \"RH\", \"AH\"]    \n",
    ").rename(\n",
    "    columns={\n",
    "        \"CO(GT)\": \"co\",\n",
    "        \"Date_Time\": \"tstamp\",\n",
    "        \"T\": \"temp_c\",\n",
    "        \"RH\": \"rel_hum\",\n",
    "        \"AH\": \"abs_hum\",\n",
    "    }\n",
    "#).set_index(\"tstamp\")\n",
    ")\n",
    "\n",
    "df.set_index(pd.DatetimeIndex(df['tstamp']), inplace =True)\n",
    "df = df.astype({'co': 'float64', 'temp_c': 'float64', 'rel_hum': 'float64', 'abs_hum': 'float64'})\n",
    "\n",
    "# remove duplicate column\n",
    "df.drop('tstamp', axis=1, inplace =True)\n",
    "\n",
    "print(df.head(5))\n",
    "print('\\n')\n",
    "print(df.info())"
   ]
  },
  {
   "cell_type": "markdown",
   "metadata": {},
   "source": [
    "Here, co is that hour’s average carbon monoxide reading, while temp_c, rel_hum, and abs_hum are the average temperature in Celsius, relative humidity, and absolute humidity over that hour, respectively. The observations run from March 2004 through April 2005:"
   ]
  },
  {
   "cell_type": "code",
   "execution_count": 22,
   "metadata": {},
   "outputs": [
    {
     "name": "stdout",
     "output_type": "stream",
     "text": [
      "2004-01-04 00:00:00\n",
      "2005-12-03 23:00:00\n"
     ]
    }
   ],
   "source": [
    "print(df.index.min())\n",
    "print(df.index.max())"
   ]
  },
  {
   "cell_type": "code",
   "execution_count": 23,
   "metadata": {},
   "outputs": [
    {
     "data": {
      "text/plain": [
       "(Timestamp('2004-01-04 00:00:00'), Timestamp('2005-12-03 23:00:00'))"
      ]
     },
     "execution_count": 23,
     "metadata": {},
     "output_type": "execute_result"
    }
   ],
   "source": [
    "df.index.min(), df.index.max()"
   ]
  },
  {
   "cell_type": "markdown",
   "metadata": {},
   "source": [
    "#### 3.1 Grouping on Derived Arrays\n",
    "- A NumPy array or Pandas Index, or an array-like iterable of these\n",
    "\n",
    "You can take advantage in order to __group by the day of the week__. You can use the index’s __.day_name()__ to produce a Pandas Index of strings. Here are the first ten observations:"
   ]
  },
  {
   "cell_type": "code",
   "execution_count": 24,
   "metadata": {},
   "outputs": [
    {
     "name": "stdout",
     "output_type": "stream",
     "text": [
      "<class 'pandas.core.indexes.base.Index'>\n"
     ]
    },
    {
     "data": {
      "text/plain": [
       "Index(['Sunday', 'Sunday', 'Sunday', 'Sunday', 'Sunday', 'Sunday', 'Wednesday',\n",
       "       'Wednesday', 'Wednesday', 'Wednesday'],\n",
       "      dtype='object', name='tstamp')"
      ]
     },
     "execution_count": 24,
     "metadata": {},
     "output_type": "execute_result"
    }
   ],
   "source": [
    "day_names = df.index.day_name()\n",
    "print(type(day_names))\n",
    "day_names[:10]"
   ]
  },
  {
   "cell_type": "markdown",
   "metadata": {},
   "source": [
    "You can then take this object and use it as the .groupby() key. In Pandas-speak, day_names is array-like. It’s a one-dimensional sequence of labels.\n",
    "\n",
    "Now, pass that object to .groupby() to find the average carbon monoxide ()co) reading by day of the week:"
   ]
  },
  {
   "cell_type": "code",
   "execution_count": 25,
   "metadata": {},
   "outputs": [
    {
     "data": {
      "text/plain": [
       "tstamp\n",
       "Friday      -23.622\n",
       "Monday      -33.320\n",
       "Saturday    -32.798\n",
       "Sunday      -28.420\n",
       "Thursday    -39.114\n",
       "Tuesday     -45.802\n",
       "Wednesday   -36.717\n",
       "Name: co, dtype: float64"
      ]
     },
     "execution_count": 25,
     "metadata": {},
     "output_type": "execute_result"
    }
   ],
   "source": [
    "df.groupby(day_names)[\"co\"].mean()"
   ]
  },
  {
   "cell_type": "code",
   "execution_count": 26,
   "metadata": {},
   "outputs": [
    {
     "data": {
      "text/plain": [
       "tstamp\n",
       "Friday        1.977\n",
       "Monday       14.356\n",
       "Saturday     11.300\n",
       "Sunday        9.293\n",
       "Thursday     11.162\n",
       "Tuesday      11.256\n",
       "Wednesday     9.133\n",
       "Name: temp_c, dtype: float64"
      ]
     },
     "execution_count": 26,
     "metadata": {},
     "output_type": "execute_result"
    }
   ],
   "source": [
    "df.groupby(day_names)[\"temp_c\"].mean()   "
   ]
  },
  {
   "cell_type": "markdown",
   "metadata": {},
   "source": [
    "What if you wanted to group not just by day of the week, but by hour of the day? That result should have 7 * 24 = 168 observations. To accomplish that, you can pass a list of array-like objects. In this case, you’ll pass Pandas Int64Index objects:"
   ]
  },
  {
   "cell_type": "code",
   "execution_count": 27,
   "metadata": {},
   "outputs": [
    {
     "data": {
      "text/plain": [
       "Int64Index([18, 19, 20, 21, 22, 23,  0,  1,  2,  3,\n",
       "            ...\n",
       "             5,  6,  7,  8,  9, 10, 11, 12, 13, 14],\n",
       "           dtype='int64', name='tstamp', length=9357)"
      ]
     },
     "execution_count": 27,
     "metadata": {},
     "output_type": "execute_result"
    }
   ],
   "source": [
    "hr = df.index.hour\n",
    "hr"
   ]
  },
  {
   "cell_type": "code",
   "execution_count": 28,
   "metadata": {},
   "outputs": [
    {
     "data": {
      "text/plain": [
       "dow        hr\n",
       "Friday     0    -19.802\n",
       "           1    -23.698\n",
       "           2    -24.011\n",
       "           3    -24.227\n",
       "           4    -78.105\n",
       "                  ...  \n",
       "Wednesday  19   -21.602\n",
       "           20   -25.716\n",
       "           21   -26.713\n",
       "           22   -27.298\n",
       "           23   -27.433\n",
       "Name: co, Length: 168, dtype: float64"
      ]
     },
     "execution_count": 28,
     "metadata": {},
     "output_type": "execute_result"
    }
   ],
   "source": [
    "df.groupby([day_names, hr])[\"co\"].mean().rename_axis([\"dow\", \"hr\"])\n",
    "#df"
   ]
  },
  {
   "cell_type": "code",
   "execution_count": 29,
   "metadata": {},
   "outputs": [
    {
     "data": {
      "text/plain": [
       "tstamp\n",
       "2004   -42.854\n",
       "2005    -6.847\n",
       "Name: co, dtype: float64"
      ]
     },
     "execution_count": 29,
     "metadata": {},
     "output_type": "execute_result"
    }
   ],
   "source": [
    "yrs = df.index.year\n",
    "df.groupby(yrs)['co'].mean()"
   ]
  },
  {
   "cell_type": "code",
   "execution_count": 30,
   "metadata": {},
   "outputs": [
    {
     "data": {
      "text/plain": [
       "tstamp\n",
       "2004    13.779\n",
       "2005    -2.881\n",
       "Name: temp_c, dtype: float64"
      ]
     },
     "execution_count": 30,
     "metadata": {},
     "output_type": "execute_result"
    }
   ],
   "source": [
    "df.groupby(yrs)['temp_c'].mean()"
   ]
  },
  {
   "cell_type": "markdown",
   "metadata": {},
   "source": [
    "Here’s one more similar case that uses __.cut()__ to bin the temperature values into discrete intervals:"
   ]
  },
  {
   "cell_type": "code",
   "execution_count": 31,
   "metadata": {},
   "outputs": [
    {
     "name": "stdout",
     "output_type": "stream",
     "text": [
      "<class 'pandas.core.series.Series'>\n"
     ]
    },
    {
     "data": {
      "text/plain": [
       "tstamp\n",
       "2004-10-03 18:00:00    hot\n",
       "2004-10-03 19:00:00    hot\n",
       "2004-10-03 20:00:00    hot\n",
       "2004-10-03 21:00:00    hot\n",
       "2004-10-03 22:00:00    hot\n",
       "Name: temp_c, dtype: category\n",
       "Categories (4, object): [super-cool < cool < warm < hot]"
      ]
     },
     "execution_count": 31,
     "metadata": {},
     "output_type": "execute_result"
    }
   ],
   "source": [
    "bins = pd.cut(df[\"temp_c\"], bins=4, labels=('super-cool', \"cool\", \"warm\", \"hot\"))\n",
    "print(type(bins))\n",
    "bins.head()"
   ]
  },
  {
   "cell_type": "code",
   "execution_count": 32,
   "metadata": {},
   "outputs": [
    {
     "data": {
      "text/html": [
       "<div>\n",
       "<style scoped>\n",
       "    .dataframe tbody tr th:only-of-type {\n",
       "        vertical-align: middle;\n",
       "    }\n",
       "\n",
       "    .dataframe tbody tr th {\n",
       "        vertical-align: top;\n",
       "    }\n",
       "\n",
       "    .dataframe thead tr th {\n",
       "        text-align: left;\n",
       "    }\n",
       "\n",
       "    .dataframe thead tr:last-of-type th {\n",
       "        text-align: right;\n",
       "    }\n",
       "</style>\n",
       "<table border=\"1\" class=\"dataframe\">\n",
       "  <thead>\n",
       "    <tr>\n",
       "      <th></th>\n",
       "      <th colspan=\"2\" halign=\"left\">rel_hum</th>\n",
       "      <th colspan=\"2\" halign=\"left\">abs_hum</th>\n",
       "    </tr>\n",
       "    <tr>\n",
       "      <th></th>\n",
       "      <th>mean</th>\n",
       "      <th>median</th>\n",
       "      <th>mean</th>\n",
       "      <th>median</th>\n",
       "    </tr>\n",
       "    <tr>\n",
       "      <th>temp_c</th>\n",
       "      <th></th>\n",
       "      <th></th>\n",
       "      <th></th>\n",
       "      <th></th>\n",
       "    </tr>\n",
       "  </thead>\n",
       "  <tbody>\n",
       "    <tr>\n",
       "      <th>super-cool</th>\n",
       "      <td>-200.000</td>\n",
       "      <td>-200.0</td>\n",
       "      <td>-200.000</td>\n",
       "      <td>-200.000</td>\n",
       "    </tr>\n",
       "    <tr>\n",
       "      <th>cool</th>\n",
       "      <td>NaN</td>\n",
       "      <td>NaN</td>\n",
       "      <td>NaN</td>\n",
       "      <td>NaN</td>\n",
       "    </tr>\n",
       "    <tr>\n",
       "      <th>warm</th>\n",
       "      <td>NaN</td>\n",
       "      <td>NaN</td>\n",
       "      <td>NaN</td>\n",
       "      <td>NaN</td>\n",
       "    </tr>\n",
       "    <tr>\n",
       "      <th>hot</th>\n",
       "      <td>49.234</td>\n",
       "      <td>49.6</td>\n",
       "      <td>1.026</td>\n",
       "      <td>0.995</td>\n",
       "    </tr>\n",
       "  </tbody>\n",
       "</table>\n",
       "</div>"
      ],
      "text/plain": [
       "            rel_hum         abs_hum         \n",
       "               mean median     mean   median\n",
       "temp_c                                      \n",
       "super-cool -200.000 -200.0 -200.000 -200.000\n",
       "cool            NaN    NaN      NaN      NaN\n",
       "warm            NaN    NaN      NaN      NaN\n",
       "hot          49.234   49.6    1.026    0.995"
      ]
     },
     "execution_count": 32,
     "metadata": {},
     "output_type": "execute_result"
    }
   ],
   "source": [
    "df[[\"rel_hum\", \"abs_hum\"]].groupby(bins).agg([\"mean\", \"median\"])"
   ]
  },
  {
   "cell_type": "code",
   "execution_count": 33,
   "metadata": {},
   "outputs": [
    {
     "data": {
      "text/plain": [
       "[hot, hot, hot, hot, hot, ..., hot, hot, hot, hot, hot]\n",
       "Length: 9357\n",
       "Categories (4, object): [super-cool < cool < warm < hot]"
      ]
     },
     "execution_count": 33,
     "metadata": {},
     "output_type": "execute_result"
    }
   ],
   "source": [
    "bins.values"
   ]
  },
  {
   "cell_type": "code",
   "execution_count": 34,
   "metadata": {},
   "outputs": [
    {
     "data": {
      "text/plain": [
       "['hot', 'hot', 'hot', 'hot', 'hot', 'hot', 'hot', 'hot', 'hot', 'hot']"
      ]
     },
     "execution_count": 34,
     "metadata": {},
     "output_type": "execute_result"
    }
   ],
   "source": [
    "bins.tolist()[:10]"
   ]
  },
  {
   "cell_type": "code",
   "execution_count": 35,
   "metadata": {},
   "outputs": [
    {
     "data": {
      "text/plain": [
       "DatetimeIndex(['2004-10-03 18:00:00', '2004-10-03 19:00:00',\n",
       "               '2004-10-03 20:00:00', '2004-10-03 21:00:00',\n",
       "               '2004-10-03 22:00:00', '2004-10-03 23:00:00',\n",
       "               '2004-11-03 00:00:00', '2004-11-03 01:00:00',\n",
       "               '2004-11-03 02:00:00', '2004-11-03 03:00:00',\n",
       "               ...\n",
       "               '2005-04-04 05:00:00', '2005-04-04 06:00:00',\n",
       "               '2005-04-04 07:00:00', '2005-04-04 08:00:00',\n",
       "               '2005-04-04 09:00:00', '2005-04-04 10:00:00',\n",
       "               '2005-04-04 11:00:00', '2005-04-04 12:00:00',\n",
       "               '2005-04-04 13:00:00', '2005-04-04 14:00:00'],\n",
       "              dtype='datetime64[ns]', name='tstamp', length=8991, freq=None)"
      ]
     },
     "execution_count": 35,
     "metadata": {},
     "output_type": "execute_result"
    }
   ],
   "source": [
    "df.groupby(bins.tolist()).groups['hot']"
   ]
  },
  {
   "cell_type": "code",
   "execution_count": 36,
   "metadata": {},
   "outputs": [
    {
     "data": {
      "text/html": [
       "<div>\n",
       "<style scoped>\n",
       "    .dataframe tbody tr th:only-of-type {\n",
       "        vertical-align: middle;\n",
       "    }\n",
       "\n",
       "    .dataframe tbody tr th {\n",
       "        vertical-align: top;\n",
       "    }\n",
       "\n",
       "    .dataframe thead th {\n",
       "        text-align: right;\n",
       "    }\n",
       "</style>\n",
       "<table border=\"1\" class=\"dataframe\">\n",
       "  <thead>\n",
       "    <tr style=\"text-align: right;\">\n",
       "      <th></th>\n",
       "      <th>co</th>\n",
       "      <th>temp_c</th>\n",
       "      <th>rel_hum</th>\n",
       "      <th>abs_hum</th>\n",
       "    </tr>\n",
       "    <tr>\n",
       "      <th>tstamp</th>\n",
       "      <th></th>\n",
       "      <th></th>\n",
       "      <th></th>\n",
       "      <th></th>\n",
       "    </tr>\n",
       "  </thead>\n",
       "  <tbody>\n",
       "    <tr>\n",
       "      <th>2004-01-04 14:00:00</th>\n",
       "      <td>1.7</td>\n",
       "      <td>-200.0</td>\n",
       "      <td>-200.0</td>\n",
       "      <td>-200.0</td>\n",
       "    </tr>\n",
       "    <tr>\n",
       "      <th>2004-01-04 15:00:00</th>\n",
       "      <td>1.9</td>\n",
       "      <td>-200.0</td>\n",
       "      <td>-200.0</td>\n",
       "      <td>-200.0</td>\n",
       "    </tr>\n",
       "    <tr>\n",
       "      <th>2004-01-04 16:00:00</th>\n",
       "      <td>2.3</td>\n",
       "      <td>-200.0</td>\n",
       "      <td>-200.0</td>\n",
       "      <td>-200.0</td>\n",
       "    </tr>\n",
       "    <tr>\n",
       "      <th>2004-08-04 23:00:00</th>\n",
       "      <td>2.0</td>\n",
       "      <td>-200.0</td>\n",
       "      <td>-200.0</td>\n",
       "      <td>-200.0</td>\n",
       "    </tr>\n",
       "    <tr>\n",
       "      <th>2004-09-04 00:00:00</th>\n",
       "      <td>2.4</td>\n",
       "      <td>-200.0</td>\n",
       "      <td>-200.0</td>\n",
       "      <td>-200.0</td>\n",
       "    </tr>\n",
       "    <tr>\n",
       "      <th>...</th>\n",
       "      <td>...</td>\n",
       "      <td>...</td>\n",
       "      <td>...</td>\n",
       "      <td>...</td>\n",
       "    </tr>\n",
       "    <tr>\n",
       "      <th>2005-11-02 17:00:00</th>\n",
       "      <td>6.6</td>\n",
       "      <td>-200.0</td>\n",
       "      <td>-200.0</td>\n",
       "      <td>-200.0</td>\n",
       "    </tr>\n",
       "    <tr>\n",
       "      <th>2005-11-02 18:00:00</th>\n",
       "      <td>6.5</td>\n",
       "      <td>-200.0</td>\n",
       "      <td>-200.0</td>\n",
       "      <td>-200.0</td>\n",
       "    </tr>\n",
       "    <tr>\n",
       "      <th>2005-11-02 19:00:00</th>\n",
       "      <td>7.1</td>\n",
       "      <td>-200.0</td>\n",
       "      <td>-200.0</td>\n",
       "      <td>-200.0</td>\n",
       "    </tr>\n",
       "    <tr>\n",
       "      <th>2005-11-02 20:00:00</th>\n",
       "      <td>4.9</td>\n",
       "      <td>-200.0</td>\n",
       "      <td>-200.0</td>\n",
       "      <td>-200.0</td>\n",
       "    </tr>\n",
       "    <tr>\n",
       "      <th>2005-11-03 11:00:00</th>\n",
       "      <td>3.0</td>\n",
       "      <td>-200.0</td>\n",
       "      <td>-200.0</td>\n",
       "      <td>-200.0</td>\n",
       "    </tr>\n",
       "  </tbody>\n",
       "</table>\n",
       "<p>366 rows × 4 columns</p>\n",
       "</div>"
      ],
      "text/plain": [
       "                      co  temp_c  rel_hum  abs_hum\n",
       "tstamp                                            \n",
       "2004-01-04 14:00:00  1.7  -200.0   -200.0   -200.0\n",
       "2004-01-04 15:00:00  1.9  -200.0   -200.0   -200.0\n",
       "2004-01-04 16:00:00  2.3  -200.0   -200.0   -200.0\n",
       "2004-08-04 23:00:00  2.0  -200.0   -200.0   -200.0\n",
       "2004-09-04 00:00:00  2.4  -200.0   -200.0   -200.0\n",
       "...                  ...     ...      ...      ...\n",
       "2005-11-02 17:00:00  6.6  -200.0   -200.0   -200.0\n",
       "2005-11-02 18:00:00  6.5  -200.0   -200.0   -200.0\n",
       "2005-11-02 19:00:00  7.1  -200.0   -200.0   -200.0\n",
       "2005-11-02 20:00:00  4.9  -200.0   -200.0   -200.0\n",
       "2005-11-03 11:00:00  3.0  -200.0   -200.0   -200.0\n",
       "\n",
       "[366 rows x 4 columns]"
      ]
     },
     "execution_count": 36,
     "metadata": {},
     "output_type": "execute_result"
    }
   ],
   "source": [
    "df.groupby(bins.values).get_group('super-cool')"
   ]
  },
  {
   "cell_type": "markdown",
   "metadata": {},
   "source": [
    "#### 3.2 Resampling\n",
    "What if you wanted to group by an observation’s year and quarter?"
   ]
  },
  {
   "cell_type": "code",
   "execution_count": 37,
   "metadata": {},
   "outputs": [
    {
     "data": {
      "text/html": [
       "<div>\n",
       "<style scoped>\n",
       "    .dataframe tbody tr th:only-of-type {\n",
       "        vertical-align: middle;\n",
       "    }\n",
       "\n",
       "    .dataframe tbody tr th {\n",
       "        vertical-align: top;\n",
       "    }\n",
       "\n",
       "    .dataframe thead th {\n",
       "        text-align: right;\n",
       "    }\n",
       "</style>\n",
       "<table border=\"1\" class=\"dataframe\">\n",
       "  <thead>\n",
       "    <tr style=\"text-align: right;\">\n",
       "      <th></th>\n",
       "      <th></th>\n",
       "      <th>max</th>\n",
       "      <th>min</th>\n",
       "    </tr>\n",
       "    <tr>\n",
       "      <th>year</th>\n",
       "      <th>quarter</th>\n",
       "      <th></th>\n",
       "      <th></th>\n",
       "    </tr>\n",
       "  </thead>\n",
       "  <tbody>\n",
       "    <tr>\n",
       "      <th rowspan=\"4\" valign=\"top\">2004</th>\n",
       "      <th>1</th>\n",
       "      <td>9.4</td>\n",
       "      <td>-200.0</td>\n",
       "    </tr>\n",
       "    <tr>\n",
       "      <th>2</th>\n",
       "      <td>8.7</td>\n",
       "      <td>-200.0</td>\n",
       "    </tr>\n",
       "    <tr>\n",
       "      <th>3</th>\n",
       "      <td>7.5</td>\n",
       "      <td>-200.0</td>\n",
       "    </tr>\n",
       "    <tr>\n",
       "      <th>4</th>\n",
       "      <td>11.9</td>\n",
       "      <td>-200.0</td>\n",
       "    </tr>\n",
       "    <tr>\n",
       "      <th rowspan=\"4\" valign=\"top\">2005</th>\n",
       "      <th>1</th>\n",
       "      <td>8.7</td>\n",
       "      <td>-200.0</td>\n",
       "    </tr>\n",
       "    <tr>\n",
       "      <th>2</th>\n",
       "      <td>6.1</td>\n",
       "      <td>-200.0</td>\n",
       "    </tr>\n",
       "    <tr>\n",
       "      <th>3</th>\n",
       "      <td>6.0</td>\n",
       "      <td>-200.0</td>\n",
       "    </tr>\n",
       "    <tr>\n",
       "      <th>4</th>\n",
       "      <td>8.4</td>\n",
       "      <td>-200.0</td>\n",
       "    </tr>\n",
       "  </tbody>\n",
       "</table>\n",
       "</div>"
      ],
      "text/plain": [
       "               max    min\n",
       "year quarter             \n",
       "2004 1         9.4 -200.0\n",
       "     2         8.7 -200.0\n",
       "     3         7.5 -200.0\n",
       "     4        11.9 -200.0\n",
       "2005 1         8.7 -200.0\n",
       "     2         6.1 -200.0\n",
       "     3         6.0 -200.0\n",
       "     4         8.4 -200.0"
      ]
     },
     "execution_count": 37,
     "metadata": {},
     "output_type": "execute_result"
    }
   ],
   "source": [
    "# See an easier alternative below\n",
    "df.groupby([df.index.year, df.index.quarter])[\"co\"].agg(\n",
    "    [\"max\", \"min\"]\n",
    ").rename_axis([\"year\", \"quarter\"])"
   ]
  },
  {
   "cell_type": "markdown",
   "metadata": {},
   "source": [
    "This whole operation can, alternatively, be expressed through resampling. One of the uses of resampling is as a [time-based groupby](https://pandas.pydata.org/pandas-docs/stable/user_guide/timeseries.html#resampling). All that you need to do is pass a frequency string, such as \"Q\" for \"quarterly\", and Pandas will do the rest:"
   ]
  },
  {
   "cell_type": "code",
   "execution_count": 38,
   "metadata": {},
   "outputs": [
    {
     "data": {
      "text/html": [
       "<div>\n",
       "<style scoped>\n",
       "    .dataframe tbody tr th:only-of-type {\n",
       "        vertical-align: middle;\n",
       "    }\n",
       "\n",
       "    .dataframe tbody tr th {\n",
       "        vertical-align: top;\n",
       "    }\n",
       "\n",
       "    .dataframe thead th {\n",
       "        text-align: right;\n",
       "    }\n",
       "</style>\n",
       "<table border=\"1\" class=\"dataframe\">\n",
       "  <thead>\n",
       "    <tr style=\"text-align: right;\">\n",
       "      <th></th>\n",
       "      <th>max</th>\n",
       "      <th>min</th>\n",
       "    </tr>\n",
       "    <tr>\n",
       "      <th>tstamp</th>\n",
       "      <th></th>\n",
       "      <th></th>\n",
       "    </tr>\n",
       "  </thead>\n",
       "  <tbody>\n",
       "    <tr>\n",
       "      <th>2004-03-31</th>\n",
       "      <td>9.4</td>\n",
       "      <td>-200.0</td>\n",
       "    </tr>\n",
       "    <tr>\n",
       "      <th>2004-06-30</th>\n",
       "      <td>8.7</td>\n",
       "      <td>-200.0</td>\n",
       "    </tr>\n",
       "    <tr>\n",
       "      <th>2004-09-30</th>\n",
       "      <td>7.5</td>\n",
       "      <td>-200.0</td>\n",
       "    </tr>\n",
       "    <tr>\n",
       "      <th>2004-12-31</th>\n",
       "      <td>11.9</td>\n",
       "      <td>-200.0</td>\n",
       "    </tr>\n",
       "    <tr>\n",
       "      <th>2005-03-31</th>\n",
       "      <td>8.7</td>\n",
       "      <td>-200.0</td>\n",
       "    </tr>\n",
       "    <tr>\n",
       "      <th>2005-06-30</th>\n",
       "      <td>6.1</td>\n",
       "      <td>-200.0</td>\n",
       "    </tr>\n",
       "    <tr>\n",
       "      <th>2005-09-30</th>\n",
       "      <td>6.0</td>\n",
       "      <td>-200.0</td>\n",
       "    </tr>\n",
       "    <tr>\n",
       "      <th>2005-12-31</th>\n",
       "      <td>8.4</td>\n",
       "      <td>-200.0</td>\n",
       "    </tr>\n",
       "  </tbody>\n",
       "</table>\n",
       "</div>"
      ],
      "text/plain": [
       "             max    min\n",
       "tstamp                 \n",
       "2004-03-31   9.4 -200.0\n",
       "2004-06-30   8.7 -200.0\n",
       "2004-09-30   7.5 -200.0\n",
       "2004-12-31  11.9 -200.0\n",
       "2005-03-31   8.7 -200.0\n",
       "2005-06-30   6.1 -200.0\n",
       "2005-09-30   6.0 -200.0\n",
       "2005-12-31   8.4 -200.0"
      ]
     },
     "execution_count": 38,
     "metadata": {},
     "output_type": "execute_result"
    }
   ],
   "source": [
    "df.resample(\"Q\")[\"co\"].agg([\"max\", \"min\"])"
   ]
  },
  {
   "cell_type": "code",
   "execution_count": 39,
   "metadata": {},
   "outputs": [
    {
     "data": {
      "text/html": [
       "<div>\n",
       "<style scoped>\n",
       "    .dataframe tbody tr th:only-of-type {\n",
       "        vertical-align: middle;\n",
       "    }\n",
       "\n",
       "    .dataframe tbody tr th {\n",
       "        vertical-align: top;\n",
       "    }\n",
       "\n",
       "    .dataframe thead th {\n",
       "        text-align: right;\n",
       "    }\n",
       "</style>\n",
       "<table border=\"1\" class=\"dataframe\">\n",
       "  <thead>\n",
       "    <tr style=\"text-align: right;\">\n",
       "      <th></th>\n",
       "      <th>max</th>\n",
       "      <th>min</th>\n",
       "    </tr>\n",
       "    <tr>\n",
       "      <th>tstamp</th>\n",
       "      <th></th>\n",
       "      <th></th>\n",
       "    </tr>\n",
       "  </thead>\n",
       "  <tbody>\n",
       "    <tr>\n",
       "      <th>2004-12-31</th>\n",
       "      <td>11.9</td>\n",
       "      <td>-200.0</td>\n",
       "    </tr>\n",
       "    <tr>\n",
       "      <th>2005-12-31</th>\n",
       "      <td>8.7</td>\n",
       "      <td>-200.0</td>\n",
       "    </tr>\n",
       "  </tbody>\n",
       "</table>\n",
       "</div>"
      ],
      "text/plain": [
       "             max    min\n",
       "tstamp                 \n",
       "2004-12-31  11.9 -200.0\n",
       "2005-12-31   8.7 -200.0"
      ]
     },
     "execution_count": 39,
     "metadata": {},
     "output_type": "execute_result"
    }
   ],
   "source": [
    "df.resample(\"Y\")[\"co\"].agg([\"max\", \"min\"])"
   ]
  },
  {
   "cell_type": "code",
   "execution_count": 40,
   "metadata": {},
   "outputs": [
    {
     "data": {
      "text/html": [
       "<div>\n",
       "<style scoped>\n",
       "    .dataframe tbody tr th:only-of-type {\n",
       "        vertical-align: middle;\n",
       "    }\n",
       "\n",
       "    .dataframe tbody tr th {\n",
       "        vertical-align: top;\n",
       "    }\n",
       "\n",
       "    .dataframe thead th {\n",
       "        text-align: right;\n",
       "    }\n",
       "</style>\n",
       "<table border=\"1\" class=\"dataframe\">\n",
       "  <thead>\n",
       "    <tr style=\"text-align: right;\">\n",
       "      <th></th>\n",
       "      <th>max</th>\n",
       "      <th>min</th>\n",
       "    </tr>\n",
       "    <tr>\n",
       "      <th>tstamp</th>\n",
       "      <th></th>\n",
       "      <th></th>\n",
       "    </tr>\n",
       "  </thead>\n",
       "  <tbody>\n",
       "    <tr>\n",
       "      <th>2004-01-31</th>\n",
       "      <td>7.5</td>\n",
       "      <td>-200.0</td>\n",
       "    </tr>\n",
       "    <tr>\n",
       "      <th>2004-02-29</th>\n",
       "      <td>9.4</td>\n",
       "      <td>-200.0</td>\n",
       "    </tr>\n",
       "    <tr>\n",
       "      <th>2004-03-31</th>\n",
       "      <td>8.1</td>\n",
       "      <td>-200.0</td>\n",
       "    </tr>\n",
       "    <tr>\n",
       "      <th>2004-04-30</th>\n",
       "      <td>8.7</td>\n",
       "      <td>-200.0</td>\n",
       "    </tr>\n",
       "    <tr>\n",
       "      <th>2004-05-31</th>\n",
       "      <td>8.1</td>\n",
       "      <td>-200.0</td>\n",
       "    </tr>\n",
       "    <tr>\n",
       "      <th>2004-06-30</th>\n",
       "      <td>6.2</td>\n",
       "      <td>-200.0</td>\n",
       "    </tr>\n",
       "    <tr>\n",
       "      <th>2004-07-31</th>\n",
       "      <td>7.0</td>\n",
       "      <td>-200.0</td>\n",
       "    </tr>\n",
       "    <tr>\n",
       "      <th>2004-08-31</th>\n",
       "      <td>6.6</td>\n",
       "      <td>-200.0</td>\n",
       "    </tr>\n",
       "    <tr>\n",
       "      <th>2004-09-30</th>\n",
       "      <td>7.5</td>\n",
       "      <td>-200.0</td>\n",
       "    </tr>\n",
       "    <tr>\n",
       "      <th>2004-10-31</th>\n",
       "      <td>9.5</td>\n",
       "      <td>-200.0</td>\n",
       "    </tr>\n",
       "    <tr>\n",
       "      <th>2004-11-30</th>\n",
       "      <td>11.9</td>\n",
       "      <td>-200.0</td>\n",
       "    </tr>\n",
       "    <tr>\n",
       "      <th>2004-12-31</th>\n",
       "      <td>9.9</td>\n",
       "      <td>-200.0</td>\n",
       "    </tr>\n",
       "    <tr>\n",
       "      <th>2005-01-31</th>\n",
       "      <td>8.7</td>\n",
       "      <td>-200.0</td>\n",
       "    </tr>\n",
       "    <tr>\n",
       "      <th>2005-02-28</th>\n",
       "      <td>6.7</td>\n",
       "      <td>-200.0</td>\n",
       "    </tr>\n",
       "    <tr>\n",
       "      <th>2005-03-31</th>\n",
       "      <td>7.5</td>\n",
       "      <td>-200.0</td>\n",
       "    </tr>\n",
       "    <tr>\n",
       "      <th>2005-04-30</th>\n",
       "      <td>6.1</td>\n",
       "      <td>-200.0</td>\n",
       "    </tr>\n",
       "    <tr>\n",
       "      <th>2005-05-31</th>\n",
       "      <td>5.9</td>\n",
       "      <td>-200.0</td>\n",
       "    </tr>\n",
       "    <tr>\n",
       "      <th>2005-06-30</th>\n",
       "      <td>3.0</td>\n",
       "      <td>-200.0</td>\n",
       "    </tr>\n",
       "    <tr>\n",
       "      <th>2005-07-31</th>\n",
       "      <td>5.7</td>\n",
       "      <td>0.4</td>\n",
       "    </tr>\n",
       "    <tr>\n",
       "      <th>2005-08-31</th>\n",
       "      <td>5.9</td>\n",
       "      <td>-200.0</td>\n",
       "    </tr>\n",
       "    <tr>\n",
       "      <th>2005-09-30</th>\n",
       "      <td>6.0</td>\n",
       "      <td>-200.0</td>\n",
       "    </tr>\n",
       "    <tr>\n",
       "      <th>2005-10-31</th>\n",
       "      <td>8.4</td>\n",
       "      <td>-200.0</td>\n",
       "    </tr>\n",
       "    <tr>\n",
       "      <th>2005-11-30</th>\n",
       "      <td>7.1</td>\n",
       "      <td>-200.0</td>\n",
       "    </tr>\n",
       "    <tr>\n",
       "      <th>2005-12-31</th>\n",
       "      <td>5.9</td>\n",
       "      <td>-200.0</td>\n",
       "    </tr>\n",
       "  </tbody>\n",
       "</table>\n",
       "</div>"
      ],
      "text/plain": [
       "             max    min\n",
       "tstamp                 \n",
       "2004-01-31   7.5 -200.0\n",
       "2004-02-29   9.4 -200.0\n",
       "2004-03-31   8.1 -200.0\n",
       "2004-04-30   8.7 -200.0\n",
       "2004-05-31   8.1 -200.0\n",
       "2004-06-30   6.2 -200.0\n",
       "2004-07-31   7.0 -200.0\n",
       "2004-08-31   6.6 -200.0\n",
       "2004-09-30   7.5 -200.0\n",
       "2004-10-31   9.5 -200.0\n",
       "2004-11-30  11.9 -200.0\n",
       "2004-12-31   9.9 -200.0\n",
       "2005-01-31   8.7 -200.0\n",
       "2005-02-28   6.7 -200.0\n",
       "2005-03-31   7.5 -200.0\n",
       "2005-04-30   6.1 -200.0\n",
       "2005-05-31   5.9 -200.0\n",
       "2005-06-30   3.0 -200.0\n",
       "2005-07-31   5.7    0.4\n",
       "2005-08-31   5.9 -200.0\n",
       "2005-09-30   6.0 -200.0\n",
       "2005-10-31   8.4 -200.0\n",
       "2005-11-30   7.1 -200.0\n",
       "2005-12-31   5.9 -200.0"
      ]
     },
     "execution_count": 40,
     "metadata": {},
     "output_type": "execute_result"
    }
   ],
   "source": [
    "df.resample(\"M\")[\"co\"].agg([\"max\", \"min\"])"
   ]
  },
  {
   "cell_type": "markdown",
   "metadata": {},
   "source": [
    "Often, when you use .resample() you can express time-based grouping operations in a much more succinct manner. The result may be a tiny bit different than the more verbose .groupby() equivalent, but you’ll often find that .resample() gives you exactly what you’re looking for."
   ]
  },
  {
   "cell_type": "code",
   "execution_count": null,
   "metadata": {},
   "outputs": [],
   "source": []
  },
  {
   "cell_type": "code",
   "execution_count": null,
   "metadata": {},
   "outputs": [],
   "source": []
  },
  {
   "cell_type": "code",
   "execution_count": null,
   "metadata": {},
   "outputs": [],
   "source": []
  },
  {
   "cell_type": "code",
   "execution_count": null,
   "metadata": {},
   "outputs": [],
   "source": []
  }
 ],
 "metadata": {
  "kernelspec": {
   "display_name": "Python 3",
   "language": "python",
   "name": "python3"
  },
  "language_info": {
   "codemirror_mode": {
    "name": "ipython",
    "version": 3
   },
   "file_extension": ".py",
   "mimetype": "text/x-python",
   "name": "python",
   "nbconvert_exporter": "python",
   "pygments_lexer": "ipython3",
   "version": "3.7.7"
  }
 },
 "nbformat": 4,
 "nbformat_minor": 4
}
