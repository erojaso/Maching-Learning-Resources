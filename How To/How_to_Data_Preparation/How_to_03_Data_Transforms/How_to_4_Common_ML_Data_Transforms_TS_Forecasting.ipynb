{
 "cells": [
  {
   "cell_type": "markdown",
   "metadata": {},
   "source": [
    "# 4 Common Machine Learning Data Transforms for Time Series Forecasting\n",
    "\n",
    "by Jason Brownlee on August 28, 2019.[Here](https://machinelearningmastery.com/machine-learning-data-transforms-for-time-series-forecasting/) in [Deep Learning for Time Series](https://machinelearningmastery.com/category/deep-learning-time-series/)\n"
   ]
  },
  {
   "cell_type": "code",
   "execution_count": null,
   "metadata": {},
   "outputs": [],
   "source": []
  }
 ],
 "metadata": {
  "kernelspec": {
   "display_name": "Python 3",
   "language": "python",
   "name": "python3"
  },
  "language_info": {
   "codemirror_mode": {
    "name": "ipython",
    "version": 3
   },
   "file_extension": ".py",
   "mimetype": "text/x-python",
   "name": "python",
   "nbconvert_exporter": "python",
   "pygments_lexer": "ipython3",
   "version": "3.7.6"
  }
 },
 "nbformat": 4,
 "nbformat_minor": 4
}
