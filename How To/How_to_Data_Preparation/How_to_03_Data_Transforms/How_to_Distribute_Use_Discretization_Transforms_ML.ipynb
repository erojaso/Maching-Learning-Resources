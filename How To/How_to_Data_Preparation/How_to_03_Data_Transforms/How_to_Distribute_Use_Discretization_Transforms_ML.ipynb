{
 "cells": [
  {
   "cell_type": "markdown",
   "metadata": {},
   "source": [
    "# How to Use Discretization Transforms for Machine Learning\n",
    "by Jason Brownlee on June 30, 2020. [Here](https://machinelearningmastery.com/discretization-transforms-for-machine-learning/) in [Data Preparation](https://machinelearningmastery.com/category/data-preparation/)\n",
    "\n",
    "Numerical input variables may have a `highly skewed` or `non-standard distribution`.\n",
    "\n",
    "This could be caused by `outliers` in the data, `multi-modal distributions`, `highly exponential distributions`, and more."
   ]
  },
  {
   "cell_type": "code",
   "execution_count": null,
   "metadata": {},
   "outputs": [],
   "source": []
  }
 ],
 "metadata": {
  "kernelspec": {
   "display_name": "Python 3",
   "language": "python",
   "name": "python3"
  },
  "language_info": {
   "codemirror_mode": {
    "name": "ipython",
    "version": 3
   },
   "file_extension": ".py",
   "mimetype": "text/x-python",
   "name": "python",
   "nbconvert_exporter": "python",
   "pygments_lexer": "ipython3",
   "version": "3.7.6"
  }
 },
 "nbformat": 4,
 "nbformat_minor": 2
}
