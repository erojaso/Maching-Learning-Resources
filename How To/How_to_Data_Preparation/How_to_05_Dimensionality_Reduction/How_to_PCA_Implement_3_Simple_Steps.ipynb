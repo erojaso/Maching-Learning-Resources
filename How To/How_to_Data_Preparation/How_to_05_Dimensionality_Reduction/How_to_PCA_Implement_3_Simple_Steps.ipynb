{
 "cells": [
  {
   "cell_type": "markdown",
   "metadata": {},
   "source": [
    "# Principal Component Analysis in 3 Simple Steps\n",
    "\n",
    "by Sebastian Raschka Jan 27, 2015.[Here](https://sebastianraschka.com/Articles/2015_pca_in_3_steps.html). [Articules](https://sebastianraschka.com/Articles/)"
   ]
  }
 ],
 "metadata": {
  "kernelspec": {
   "display_name": "Python 3",
   "language": "python",
   "name": "python3"
  },
  "language_info": {
   "codemirror_mode": {
    "name": "ipython",
    "version": 3
   },
   "file_extension": ".py",
   "mimetype": "text/x-python",
   "name": "python",
   "nbconvert_exporter": "python",
   "pygments_lexer": "ipython3",
   "version": "3.7.7"
  }
 },
 "nbformat": 4,
 "nbformat_minor": 4
}
