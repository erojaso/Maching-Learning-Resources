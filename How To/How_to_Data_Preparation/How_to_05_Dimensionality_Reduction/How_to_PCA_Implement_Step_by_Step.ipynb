{
 "cells": [
  {
   "cell_type": "markdown",
   "metadata": {},
   "source": [
    "# Implementing a Principal Component Analysis (PCA) – in Python, step by step\n",
    "\n",
    "by Sebastian Raschka Apr 13, 2014.[Here](https://sebastianraschka.com/Articles/2014_pca_step_by_step.html). [Articules](https://sebastianraschka.com/Articles/).[Code]()"
   ]
  }
 ],
 "metadata": {
  "kernelspec": {
   "display_name": "Python 3",
   "language": "python",
   "name": "python3"
  },
  "language_info": {
   "codemirror_mode": {
    "name": "ipython",
    "version": 3
   },
   "file_extension": ".py",
   "mimetype": "text/x-python",
   "name": "python",
   "nbconvert_exporter": "python",
   "pygments_lexer": "ipython3",
   "version": "3.7.7"
  }
 },
 "nbformat": 4,
 "nbformat_minor": 4
}
