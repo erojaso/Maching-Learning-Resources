{
 "cells": [
  {
   "cell_type": "markdown",
   "metadata": {},
   "source": [
    "# Exhaustive Feature Selector\n",
    "\n",
    "sebastianraschka. [Here](http://rasbt.github.io/mlxtend/user_guide/feature_selection/ExhaustiveFeatureSelector/). [Articules](http://rasbt.github.io/mlxtend/)\n",
    "\n",
    "Implementation of an exhaustive feature selector for sampling and evaluating all possible feature combinations in a specified range.      \n",
    "    "
   ]
  }
 ],
 "metadata": {
  "kernelspec": {
   "display_name": "Python 3",
   "language": "python",
   "name": "python3"
  },
  "language_info": {
   "codemirror_mode": {
    "name": "ipython",
    "version": 3
   },
   "file_extension": ".py",
   "mimetype": "text/x-python",
   "name": "python",
   "nbconvert_exporter": "python",
   "pygments_lexer": "ipython3",
   "version": "3.7.7"
  }
 },
 "nbformat": 4,
 "nbformat_minor": 4
}
