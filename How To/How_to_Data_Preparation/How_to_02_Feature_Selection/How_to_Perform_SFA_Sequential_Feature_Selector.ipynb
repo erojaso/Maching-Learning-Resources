{
 "cells": [
  {
   "cell_type": "markdown",
   "metadata": {},
   "source": [
    "# Sequential Feature Selector\n",
    "\n",
    "sebastianraschka. [Here](http://rasbt.github.io/mlxtend/user_guide/feature_selection/SequentialFeatureSelector/). [Articules](http://rasbt.github.io/mlxtend/)\n",
    "\n",
    "Implementation of sequential feature algorithms (SFAs) -- greedy search algorithms -- that have been developed as a suboptimal solution to the computationally often not feasible exhaustive search."
   ]
  }
 ],
 "metadata": {
  "kernelspec": {
   "display_name": "Python 3",
   "language": "python",
   "name": "python3"
  },
  "language_info": {
   "codemirror_mode": {
    "name": "ipython",
    "version": 3
   },
   "file_extension": ".py",
   "mimetype": "text/x-python",
   "name": "python",
   "nbconvert_exporter": "python",
   "pygments_lexer": "ipython3",
   "version": "3.7.7"
  }
 },
 "nbformat": 4,
 "nbformat_minor": 4
}
