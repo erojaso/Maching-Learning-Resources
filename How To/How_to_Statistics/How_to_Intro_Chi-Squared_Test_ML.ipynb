{
 "cells": [
  {
   "cell_type": "markdown",
   "metadata": {},
   "source": [
    "# A Gentle Introduction to the Chi-Squared Test for Machine Learning\n",
    "by Jason Brownlee on October 31, 2019. [Here](https://machinelearningmastery.com/chi-squared-test-for-machine-learning/) in [Statistics](https://machinelearningmastery.com/category/statistical-methods/)\n",
    "\n"
   ]
  }
 ],
 "metadata": {
  "language_info": {
   "codemirror_mode": {
    "name": "ipython",
    "version": 3
   },
   "file_extension": ".py",
   "mimetype": "text/x-python",
   "name": "python",
   "nbconvert_exporter": "python",
   "pygments_lexer": "ipython3",
   "version": 3
  },
  "orig_nbformat": 2
 },
 "nbformat": 4,
 "nbformat_minor": 2
}