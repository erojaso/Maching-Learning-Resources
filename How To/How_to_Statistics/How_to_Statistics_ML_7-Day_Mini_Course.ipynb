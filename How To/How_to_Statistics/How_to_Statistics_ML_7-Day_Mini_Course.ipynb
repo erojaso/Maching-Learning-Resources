{
 "cells": [
  {
   "cell_type": "markdown",
   "metadata": {},
   "source": [
    "# Statistics for Machine Learning (7-Day Mini-Course)\n",
    "\n",
    "by Jason Brownlee on August 8, 2019.[Here](https://machinelearningmastery.com/statistics-for-machine-learning-mini-course/) in [Statistics](https://machinelearningmastery.com/category/statistical-methods/)"
   ]
  }
 ],
 "metadata": {
  "kernelspec": {
   "display_name": "Python 3",
   "language": "python",
   "name": "python3"
  },
  "language_info": {
   "codemirror_mode": {
    "name": "ipython",
    "version": 3
   },
   "file_extension": ".py",
   "mimetype": "text/x-python",
   "name": "python",
   "nbconvert_exporter": "python",
   "pygments_lexer": "ipython3",
   "version": "3.7.7"
  }
 },
 "nbformat": 4,
 "nbformat_minor": 4
}
