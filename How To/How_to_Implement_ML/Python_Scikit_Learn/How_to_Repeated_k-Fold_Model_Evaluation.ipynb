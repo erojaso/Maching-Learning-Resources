{
 "cells": [
  {
   "cell_type": "markdown",
   "metadata": {},
   "source": [
    "# Repeated k-Fold Cross-Validation for Model Evaluation in Python\n",
    "\n",
    "by Jason Brownlee on August 3, 2020.[Here](https://machinelearningmastery.com/repeated-k-fold-cross-validation-with-python/) in [Python Machine Learning](https://machinelearningmastery.com/category/python-machine-learning/)"
   ]
  }
 ],
 "metadata": {
  "kernelspec": {
   "display_name": "Python 3",
   "language": "python",
   "name": "python3"
  },
  "language_info": {
   "codemirror_mode": {
    "name": "ipython",
    "version": 3
   },
   "file_extension": ".py",
   "mimetype": "text/x-python",
   "name": "python",
   "nbconvert_exporter": "python",
   "pygments_lexer": "ipython3",
   "version": "3.7.7"
  }
 },
 "nbformat": 4,
 "nbformat_minor": 4
}
