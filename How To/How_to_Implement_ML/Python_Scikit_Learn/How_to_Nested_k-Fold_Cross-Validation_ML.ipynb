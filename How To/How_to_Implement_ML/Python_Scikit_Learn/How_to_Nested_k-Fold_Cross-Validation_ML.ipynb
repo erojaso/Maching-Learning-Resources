{
 "cells": [
  {
   "cell_type": "markdown",
   "metadata": {},
   "source": [
    "# Nested Cross-Validation for Machine Learning with Python\n",
    "\n",
    "by Jason Brownlee on July 29, 2020.[Here](https://machinelearningmastery.com/nested-cross-validation-for-machine-learning-with-python/) in [Python Machine Learning](https://machinelearningmastery.com/category/python-machine-learning/)"
   ]
  }
 ],
 "metadata": {
  "kernelspec": {
   "display_name": "Python 3",
   "language": "python",
   "name": "python3"
  },
  "language_info": {
   "codemirror_mode": {
    "name": "ipython",
    "version": 3
   },
   "file_extension": ".py",
   "mimetype": "text/x-python",
   "name": "python",
   "nbconvert_exporter": "python",
   "pygments_lexer": "ipython3",
   "version": "3.7.7"
  }
 },
 "nbformat": 4,
 "nbformat_minor": 4
}
