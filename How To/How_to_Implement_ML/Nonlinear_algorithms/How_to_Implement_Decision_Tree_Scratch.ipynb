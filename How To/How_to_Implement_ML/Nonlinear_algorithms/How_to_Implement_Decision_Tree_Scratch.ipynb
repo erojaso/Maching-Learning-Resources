{
 "cells": [
  {
   "cell_type": "markdown",
   "metadata": {},
   "source": [
    "# How To Implement The Decision Tree Algorithm From Scratch In Python\n",
    "\n",
    "by Jason Brownlee on December 11, 2019.[](https://machinelearningmastery.com/implement-decision-tree-algorithm-scratch-python/) in [Code Algorithms From Scratch]()"
   ]
  }
 ],
 "metadata": {
  "kernelspec": {
   "display_name": "Python 3",
   "language": "python",
   "name": "python3"
  },
  "language_info": {
   "codemirror_mode": {
    "name": "ipython",
    "version": 3
   },
   "file_extension": ".py",
   "mimetype": "text/x-python",
   "name": "python",
   "nbconvert_exporter": "python",
   "pygments_lexer": "ipython3",
   "version": "3.7.7"
  }
 },
 "nbformat": 4,
 "nbformat_minor": 4
}
