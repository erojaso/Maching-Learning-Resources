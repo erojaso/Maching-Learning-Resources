{
 "cells": [
  {
   "cell_type": "markdown",
   "metadata": {},
   "source": [
    "# Simple Linear Regression Tutorial for Machine Learning\n",
    "\n",
    "by Jason Brownlee on August 12, 2019.[Here](https://machinelearningmastery.com/simple-linear-regression-tutorial-for-machine-learning/) in [Machine Learning Algorithms](https://machinelearningmastery.com/category/machine-learning-algorithms/)\n",
    "\n",
    "you will discover exactly how linear regression works step-by-step. After reading this post you will know:\n",
    "\n",
    "- How to calculate a simple linear regression step-by-step.\n",
    "- How to perform all of the calculations using a spreadsheet.\n",
    "- How to make predictions on new data using your the model.\n",
    "- A shortcut that greatly simplifies the calculation.\n",
    "\n",
    "\n",
    "# DO NOT APPLIED"
   ]
  }
 ],
 "metadata": {
  "kernelspec": {
   "display_name": "Python 3",
   "language": "python",
   "name": "python3"
  },
  "language_info": {
   "codemirror_mode": {
    "name": "ipython",
    "version": 3
   },
   "file_extension": ".py",
   "mimetype": "text/x-python",
   "name": "python",
   "nbconvert_exporter": "python",
   "pygments_lexer": "ipython3",
   "version": "3.7.7"
  }
 },
 "nbformat": 4,
 "nbformat_minor": 4
}
