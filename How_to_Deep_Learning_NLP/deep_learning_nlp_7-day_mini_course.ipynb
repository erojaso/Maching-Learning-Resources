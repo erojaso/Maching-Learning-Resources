{
 "cells": [
  {
   "cell_type": "markdown",
   "metadata": {},
   "source": [
    "# Deep Learning for Natural Language Processing (crash-course)\n",
    "\n",
    "\n",
    "Let's take a look at what is ahead for you in this course: \n",
    "- Day 01: Deep Learning and Natural Language\n",
    "- Day 02: Cleaning Text Data\n",
    "- Day 03: Bag-of-Words Model\n",
    "- Day 04: Word Embedding Representation\n",
    "- Day 05: Learned Embedding\n",
    "- Day 06: Classifying Text\n",
    "- Day 07: Project: Movie Review Sentiment Analysis\n",
    "\n",
    "## Day 1: Deep Learning and Natural Language"
   ]
  }
 ],
 "metadata": {
  "kernelspec": {
   "display_name": "Python 3",
   "language": "python",
   "name": "python3"
  },
  "language_info": {
   "codemirror_mode": {
    "name": "ipython",
    "version": 3
   },
   "file_extension": ".py",
   "mimetype": "text/x-python",
   "name": "python",
   "nbconvert_exporter": "python",
   "pygments_lexer": "ipython3",
   "version": "3.7.7"
  }
 },
 "nbformat": 4,
 "nbformat_minor": 4
}
