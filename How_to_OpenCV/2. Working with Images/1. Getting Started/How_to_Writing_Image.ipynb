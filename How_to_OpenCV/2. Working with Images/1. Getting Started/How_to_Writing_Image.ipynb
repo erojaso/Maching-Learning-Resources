{
 "cells": [
  {
   "cell_type": "markdown",
   "metadata": {},
   "source": [
    "# Writing an image\n",
    "Last Updated: 07-08-2019. [Here](https://www.geeksforgeeks.org/python-opencv-cv2-imwrite-method/). [OpenCV Python Tutorial](https://www.geeksforgeeks.org/opencv-python-tutorial/)\n",
    "\n",
    "\n",
    "__cv2.imwrite()__ method is used to save an image to any storage device. This will save the image according to the specified format in current working directory."
   ]
  },
  {
   "cell_type": "markdown",
   "metadata": {},
   "source": [
    "```\n",
    "Syntax: cv2.imwrite(filename, image)\n",
    "Parameters:\n",
    "    filename: A string representing the file name. The filename must include image format like .jpg, .png, etc.\n",
    "    image: It is the image that is to be saved.\n",
    "    Return Value: It returns true if image is saved successfully.\n",
    "```"
   ]
  },
  {
   "cell_type": "code",
   "execution_count": 1,
   "metadata": {},
   "outputs": [
    {
     "name": "stdout",
     "output_type": "stream",
     "text": [
      "4.0.1\n"
     ]
    }
   ],
   "source": [
    "# Importing the OpenCV library \n",
    "import cv2 \n",
    "print(cv2.__version__)\n",
    "\n",
    "# importing os module \n",
    "import os"
   ]
  },
  {
   "cell_type": "code",
   "execution_count": 2,
   "metadata": {},
   "outputs": [],
   "source": [
    "# path \n",
    "#path = r'.\\images\\geeks14.png'\n",
    "\n",
    "# Image path \n",
    "image_path = r'.\\images\\geeks14.png'\n",
    "\n",
    "\n",
    "# Reading an image in default mode \n",
    "img = cv2.imread(image_path) "
   ]
  },
  {
   "cell_type": "code",
   "execution_count": 3,
   "metadata": {},
   "outputs": [
    {
     "name": "stdout",
     "output_type": "stream",
     "text": [
      "Before saving image:\n",
      "['.ipynb_checkpoints', 'geeks14.png']\n"
     ]
    }
   ],
   "source": [
    "# Python program to explain cv2.imwrite() method \n",
    "\n",
    "# Image directory \n",
    "directory = r'.\\Images'\n",
    "\n",
    "# Change the current directory \n",
    "# to specified directory \n",
    "# os.chdir(directory) \n",
    "\n",
    "# List files and directories \n",
    "# in '.\\Images' \n",
    "print(\"Before saving image:\") \n",
    "print(os.listdir(directory))"
   ]
  },
  {
   "cell_type": "code",
   "execution_count": 4,
   "metadata": {},
   "outputs": [
    {
     "data": {
      "text/plain": [
       "True"
      ]
     },
     "execution_count": 4,
     "metadata": {},
     "output_type": "execute_result"
    }
   ],
   "source": [
    "# Filename \n",
    "filename = '.\\images\\geeks14-saved.png'\n",
    "\n",
    "# Using cv2.imwrite() method \n",
    "# Saving the image \n",
    "cv2.imwrite(filename, img) "
   ]
  },
  {
   "cell_type": "code",
   "execution_count": 5,
   "metadata": {},
   "outputs": [
    {
     "name": "stdout",
     "output_type": "stream",
     "text": [
      "After saving image:\n",
      "['.ipynb_checkpoints', 'geeks14-saved.png', 'geeks14.png']\n",
      "Successfully saved\n"
     ]
    }
   ],
   "source": [
    "# List files and directories \n",
    "# in '.\\Images' \n",
    "print(\"After saving image:\") \n",
    "print(os.listdir(directory)) \n",
    "\n",
    "print('Successfully saved')"
   ]
  }
 ],
 "metadata": {
  "kernelspec": {
   "display_name": "Python 3",
   "language": "python",
   "name": "python3"
  },
  "language_info": {
   "codemirror_mode": {
    "name": "ipython",
    "version": 3
   },
   "file_extension": ".py",
   "mimetype": "text/x-python",
   "name": "python",
   "nbconvert_exporter": "python",
   "pygments_lexer": "ipython3",
   "version": "3.8.3"
  }
 },
 "nbformat": 4,
 "nbformat_minor": 4
}
